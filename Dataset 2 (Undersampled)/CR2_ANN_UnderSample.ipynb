{
 "cells": [
  {
   "cell_type": "markdown",
   "id": "ad489b06",
   "metadata": {},
   "source": [
    "### <font color='indigo'>1) Import the Required Packages and Load the Dataset"
   ]
  },
  {
   "cell_type": "code",
   "execution_count": 2,
   "id": "50fa65de",
   "metadata": {},
   "outputs": [],
   "source": [
    "import numpy as np\n",
    "import pandas as pd\n",
    "import matplotlib.pyplot as plt\n",
    "import seaborn as sns\n",
    "import tensorflow as tf\n",
    "\n",
    "from sklearn.model_selection import train_test_split\n",
    "from sklearn.preprocessing import StandardScaler\n",
    "from keras.models import Sequential\n",
    "from keras.layers import Dense\n",
    "from sklearn.metrics import classification_report\n",
    "from sklearn.metrics import confusion_matrix\n",
    "from sklearn.metrics import roc_curve\n",
    "from sklearn.metrics import roc_auc_score\n",
    "\n",
    "#for hyperparameter optimization\n",
    "#!pip install bayesian-optimization\n",
    "from keras.layers import Dense, BatchNormalization, Dropout\n",
    "from keras.optimizers import Adam, SGD, RMSprop, Adadelta, Adagrad, Adamax, Nadam, Ftrl\n",
    "from keras.callbacks import EarlyStopping, ModelCheckpoint\n",
    "from keras.wrappers.scikit_learn import KerasClassifier\n",
    "from math import floor\n",
    "from sklearn.model_selection import cross_val_score\n",
    "from sklearn.metrics import make_scorer, accuracy_score\n",
    "from bayes_opt import BayesianOptimization\n",
    "from sklearn.model_selection import StratifiedKFold\n",
    "from keras.layers import LeakyReLU\n",
    "LeakyReLU = LeakyReLU(alpha=0.1)\n",
    "import warnings\n",
    "warnings.filterwarnings('ignore')"
   ]
  },
  {
   "cell_type": "markdown",
   "id": "a2dcc5a3",
   "metadata": {},
   "source": [
    "* The categorical variables in the dataset are already encoded."
   ]
  },
  {
   "cell_type": "code",
   "execution_count": 3,
   "id": "eb67d0dd",
   "metadata": {},
   "outputs": [
    {
     "name": "stdout",
     "output_type": "stream",
     "text": [
      "<class 'pandas.core.frame.DataFrame'>\n",
      "RangeIndex: 45528 entries, 0 to 45527\n",
      "Data columns (total 39 columns):\n",
      " #   Column                                 Non-Null Count  Dtype  \n",
      "---  ------                                 --------------  -----  \n",
      " 0   age                                    45528 non-null  float64\n",
      " 1   no_of_children                         45528 non-null  float64\n",
      " 2   net_yearly_income                      45528 non-null  float64\n",
      " 3   no_of_days_employed                    45528 non-null  float64\n",
      " 4   total_family_members                   45528 non-null  float64\n",
      " 5   migrant_worker                         45528 non-null  float64\n",
      " 6   yearly_debt_payments                   45528 non-null  float64\n",
      " 7   credit_limit                           45528 non-null  float64\n",
      " 8   credit_limit_used(%)                   45528 non-null  float64\n",
      " 9   credit_score                           45528 non-null  float64\n",
      " 10  prev_defaults                          45528 non-null  float64\n",
      " 11  default_in_last_6months                45528 non-null  float64\n",
      " 12  credit_card_default                    45528 non-null  float64\n",
      " 13  gender_F                               45528 non-null  float64\n",
      " 14  gender_M                               45528 non-null  float64\n",
      " 15  gender_XNA                             45528 non-null  float64\n",
      " 16  owns_car_N                             45528 non-null  float64\n",
      " 17  owns_car_Y                             45528 non-null  float64\n",
      " 18  owns_house_N                           45528 non-null  float64\n",
      " 19  owns_house_Y                           45528 non-null  float64\n",
      " 20  occupation_type_Accountants            45528 non-null  float64\n",
      " 21  occupation_type_Cleaning staff         45528 non-null  float64\n",
      " 22  occupation_type_Cooking staff          45528 non-null  float64\n",
      " 23  occupation_type_Core staff             45528 non-null  float64\n",
      " 24  occupation_type_Drivers                45528 non-null  float64\n",
      " 25  occupation_type_HR staff               45528 non-null  float64\n",
      " 26  occupation_type_High skill tech staff  45528 non-null  float64\n",
      " 27  occupation_type_IT staff               45528 non-null  float64\n",
      " 28  occupation_type_Laborers               45528 non-null  float64\n",
      " 29  occupation_type_Low-skill Laborers     45528 non-null  float64\n",
      " 30  occupation_type_Managers               45528 non-null  float64\n",
      " 31  occupation_type_Medicine staff         45528 non-null  float64\n",
      " 32  occupation_type_Private service staff  45528 non-null  float64\n",
      " 33  occupation_type_Realty agents          45528 non-null  float64\n",
      " 34  occupation_type_Sales staff            45528 non-null  float64\n",
      " 35  occupation_type_Secretaries            45528 non-null  float64\n",
      " 36  occupation_type_Security staff         45528 non-null  float64\n",
      " 37  occupation_type_Unknown                45528 non-null  float64\n",
      " 38  occupation_type_Waiters/barmen staff   45528 non-null  float64\n",
      "dtypes: float64(39)\n",
      "memory usage: 13.5 MB\n"
     ]
    }
   ],
   "source": [
    "df = pd.read_csv(\"CR2_Data_Processed.csv\", header=0, skiprows=0)\n",
    "df.info()"
   ]
  },
  {
   "cell_type": "code",
   "execution_count": 4,
   "id": "b06a4192",
   "metadata": {},
   "outputs": [
    {
     "data": {
      "text/html": [
       "<div>\n",
       "<style scoped>\n",
       "    .dataframe tbody tr th:only-of-type {\n",
       "        vertical-align: middle;\n",
       "    }\n",
       "\n",
       "    .dataframe tbody tr th {\n",
       "        vertical-align: top;\n",
       "    }\n",
       "\n",
       "    .dataframe thead th {\n",
       "        text-align: right;\n",
       "    }\n",
       "</style>\n",
       "<table border=\"1\" class=\"dataframe\">\n",
       "  <thead>\n",
       "    <tr style=\"text-align: right;\">\n",
       "      <th></th>\n",
       "      <th>age</th>\n",
       "      <th>no_of_children</th>\n",
       "      <th>net_yearly_income</th>\n",
       "      <th>no_of_days_employed</th>\n",
       "      <th>total_family_members</th>\n",
       "      <th>migrant_worker</th>\n",
       "      <th>yearly_debt_payments</th>\n",
       "      <th>credit_limit</th>\n",
       "      <th>credit_limit_used(%)</th>\n",
       "      <th>credit_score</th>\n",
       "      <th>...</th>\n",
       "      <th>occupation_type_Low-skill Laborers</th>\n",
       "      <th>occupation_type_Managers</th>\n",
       "      <th>occupation_type_Medicine staff</th>\n",
       "      <th>occupation_type_Private service staff</th>\n",
       "      <th>occupation_type_Realty agents</th>\n",
       "      <th>occupation_type_Sales staff</th>\n",
       "      <th>occupation_type_Secretaries</th>\n",
       "      <th>occupation_type_Security staff</th>\n",
       "      <th>occupation_type_Unknown</th>\n",
       "      <th>occupation_type_Waiters/barmen staff</th>\n",
       "    </tr>\n",
       "  </thead>\n",
       "  <tbody>\n",
       "    <tr>\n",
       "      <th>0</th>\n",
       "      <td>46.0</td>\n",
       "      <td>0.0</td>\n",
       "      <td>107934.04</td>\n",
       "      <td>612.0</td>\n",
       "      <td>1.0</td>\n",
       "      <td>1.0</td>\n",
       "      <td>33070.28</td>\n",
       "      <td>18690.93</td>\n",
       "      <td>73.0</td>\n",
       "      <td>544.0</td>\n",
       "      <td>...</td>\n",
       "      <td>0.0</td>\n",
       "      <td>0.0</td>\n",
       "      <td>0.0</td>\n",
       "      <td>0.0</td>\n",
       "      <td>0.0</td>\n",
       "      <td>0.0</td>\n",
       "      <td>0.0</td>\n",
       "      <td>0.0</td>\n",
       "      <td>1.0</td>\n",
       "      <td>0.0</td>\n",
       "    </tr>\n",
       "    <tr>\n",
       "      <th>1</th>\n",
       "      <td>29.0</td>\n",
       "      <td>0.0</td>\n",
       "      <td>109862.62</td>\n",
       "      <td>2771.0</td>\n",
       "      <td>2.0</td>\n",
       "      <td>0.0</td>\n",
       "      <td>15329.53</td>\n",
       "      <td>37745.19</td>\n",
       "      <td>52.0</td>\n",
       "      <td>857.0</td>\n",
       "      <td>...</td>\n",
       "      <td>0.0</td>\n",
       "      <td>0.0</td>\n",
       "      <td>0.0</td>\n",
       "      <td>0.0</td>\n",
       "      <td>0.0</td>\n",
       "      <td>0.0</td>\n",
       "      <td>0.0</td>\n",
       "      <td>0.0</td>\n",
       "      <td>0.0</td>\n",
       "      <td>0.0</td>\n",
       "    </tr>\n",
       "    <tr>\n",
       "      <th>2</th>\n",
       "      <td>37.0</td>\n",
       "      <td>0.0</td>\n",
       "      <td>230153.17</td>\n",
       "      <td>204.0</td>\n",
       "      <td>2.0</td>\n",
       "      <td>0.0</td>\n",
       "      <td>48416.60</td>\n",
       "      <td>41598.36</td>\n",
       "      <td>43.0</td>\n",
       "      <td>650.0</td>\n",
       "      <td>...</td>\n",
       "      <td>0.0</td>\n",
       "      <td>0.0</td>\n",
       "      <td>0.0</td>\n",
       "      <td>0.0</td>\n",
       "      <td>0.0</td>\n",
       "      <td>0.0</td>\n",
       "      <td>0.0</td>\n",
       "      <td>0.0</td>\n",
       "      <td>0.0</td>\n",
       "      <td>0.0</td>\n",
       "    </tr>\n",
       "    <tr>\n",
       "      <th>3</th>\n",
       "      <td>39.0</td>\n",
       "      <td>0.0</td>\n",
       "      <td>122325.82</td>\n",
       "      <td>11941.0</td>\n",
       "      <td>2.0</td>\n",
       "      <td>0.0</td>\n",
       "      <td>22574.36</td>\n",
       "      <td>32627.76</td>\n",
       "      <td>20.0</td>\n",
       "      <td>754.0</td>\n",
       "      <td>...</td>\n",
       "      <td>0.0</td>\n",
       "      <td>0.0</td>\n",
       "      <td>0.0</td>\n",
       "      <td>0.0</td>\n",
       "      <td>0.0</td>\n",
       "      <td>0.0</td>\n",
       "      <td>0.0</td>\n",
       "      <td>0.0</td>\n",
       "      <td>0.0</td>\n",
       "      <td>0.0</td>\n",
       "    </tr>\n",
       "    <tr>\n",
       "      <th>4</th>\n",
       "      <td>46.0</td>\n",
       "      <td>0.0</td>\n",
       "      <td>387286.00</td>\n",
       "      <td>1459.0</td>\n",
       "      <td>1.0</td>\n",
       "      <td>0.0</td>\n",
       "      <td>38282.95</td>\n",
       "      <td>52950.64</td>\n",
       "      <td>75.0</td>\n",
       "      <td>927.0</td>\n",
       "      <td>...</td>\n",
       "      <td>0.0</td>\n",
       "      <td>0.0</td>\n",
       "      <td>0.0</td>\n",
       "      <td>0.0</td>\n",
       "      <td>0.0</td>\n",
       "      <td>0.0</td>\n",
       "      <td>0.0</td>\n",
       "      <td>0.0</td>\n",
       "      <td>0.0</td>\n",
       "      <td>0.0</td>\n",
       "    </tr>\n",
       "  </tbody>\n",
       "</table>\n",
       "<p>5 rows × 39 columns</p>\n",
       "</div>"
      ],
      "text/plain": [
       "    age  no_of_children  net_yearly_income  no_of_days_employed  \\\n",
       "0  46.0             0.0          107934.04                612.0   \n",
       "1  29.0             0.0          109862.62               2771.0   \n",
       "2  37.0             0.0          230153.17                204.0   \n",
       "3  39.0             0.0          122325.82              11941.0   \n",
       "4  46.0             0.0          387286.00               1459.0   \n",
       "\n",
       "   total_family_members  migrant_worker  yearly_debt_payments  credit_limit  \\\n",
       "0                   1.0             1.0              33070.28      18690.93   \n",
       "1                   2.0             0.0              15329.53      37745.19   \n",
       "2                   2.0             0.0              48416.60      41598.36   \n",
       "3                   2.0             0.0              22574.36      32627.76   \n",
       "4                   1.0             0.0              38282.95      52950.64   \n",
       "\n",
       "   credit_limit_used(%)  credit_score  ...  \\\n",
       "0                  73.0         544.0  ...   \n",
       "1                  52.0         857.0  ...   \n",
       "2                  43.0         650.0  ...   \n",
       "3                  20.0         754.0  ...   \n",
       "4                  75.0         927.0  ...   \n",
       "\n",
       "   occupation_type_Low-skill Laborers  occupation_type_Managers  \\\n",
       "0                                 0.0                       0.0   \n",
       "1                                 0.0                       0.0   \n",
       "2                                 0.0                       0.0   \n",
       "3                                 0.0                       0.0   \n",
       "4                                 0.0                       0.0   \n",
       "\n",
       "   occupation_type_Medicine staff  occupation_type_Private service staff  \\\n",
       "0                             0.0                                    0.0   \n",
       "1                             0.0                                    0.0   \n",
       "2                             0.0                                    0.0   \n",
       "3                             0.0                                    0.0   \n",
       "4                             0.0                                    0.0   \n",
       "\n",
       "   occupation_type_Realty agents  occupation_type_Sales staff  \\\n",
       "0                            0.0                          0.0   \n",
       "1                            0.0                          0.0   \n",
       "2                            0.0                          0.0   \n",
       "3                            0.0                          0.0   \n",
       "4                            0.0                          0.0   \n",
       "\n",
       "   occupation_type_Secretaries  occupation_type_Security staff  \\\n",
       "0                          0.0                             0.0   \n",
       "1                          0.0                             0.0   \n",
       "2                          0.0                             0.0   \n",
       "3                          0.0                             0.0   \n",
       "4                          0.0                             0.0   \n",
       "\n",
       "   occupation_type_Unknown  occupation_type_Waiters/barmen staff  \n",
       "0                      1.0                                   0.0  \n",
       "1                      0.0                                   0.0  \n",
       "2                      0.0                                   0.0  \n",
       "3                      0.0                                   0.0  \n",
       "4                      0.0                                   0.0  \n",
       "\n",
       "[5 rows x 39 columns]"
      ]
     },
     "execution_count": 4,
     "metadata": {},
     "output_type": "execute_result"
    }
   ],
   "source": [
    "df.head()"
   ]
  },
  {
   "cell_type": "markdown",
   "id": "5ac350b3",
   "metadata": {},
   "source": [
    "### <font color='indigo'>2) Data Preparation for the Model"
   ]
  },
  {
   "cell_type": "markdown",
   "id": "3727bb93",
   "metadata": {},
   "source": [
    "#### Predictors-Target Split"
   ]
  },
  {
   "cell_type": "code",
   "execution_count": 5,
   "id": "c037c7e6",
   "metadata": {},
   "outputs": [],
   "source": [
    "X = df.drop([\"credit_card_default\"], axis=1) #predictors\n",
    "Y = df[[\"credit_card_default\"]] #target"
   ]
  },
  {
   "cell_type": "markdown",
   "id": "b2e1225e",
   "metadata": {},
   "source": [
    "#### Train-Val-Test Split"
   ]
  },
  {
   "cell_type": "markdown",
   "id": "1b1f189a",
   "metadata": {},
   "source": [
    "* Splitting the whole dataset into three sets: train, validation, and test with ratios of 80%, 10%, and 10% respectively."
   ]
  },
  {
   "cell_type": "code",
   "execution_count": 6,
   "id": "85eb1ee9",
   "metadata": {},
   "outputs": [
    {
     "name": "stdout",
     "output_type": "stream",
     "text": [
      "(36422, 38)\n",
      "(36422, 1)\n",
      "(4553, 38)\n",
      "(4553, 1)\n",
      "(4553, 38)\n",
      "(4553, 1)\n"
     ]
    },
    {
     "data": {
      "text/plain": [
       "(None, None)"
      ]
     },
     "execution_count": 6,
     "metadata": {},
     "output_type": "execute_result"
    }
   ],
   "source": [
    "train_size=0.8\n",
    "X_train, X_rem, Y_train, Y_rem = train_test_split(X, Y, train_size=0.8, random_state=777)\n",
    "\n",
    "test_size = 0.5\n",
    "X_valid, X_test, Y_valid, Y_test = train_test_split(X_rem, Y_rem, test_size=0.5, random_state=777)\n",
    "\n",
    "print(X_train.shape), print(Y_train.shape)\n",
    "print(X_valid.shape), print(Y_valid.shape)\n",
    "print(X_test.shape), print(Y_test.shape)"
   ]
  },
  {
   "cell_type": "markdown",
   "id": "7b47f399",
   "metadata": {},
   "source": [
    "#### Undersampling"
   ]
  },
  {
   "cell_type": "code",
   "execution_count": 7,
   "id": "61a94d4a",
   "metadata": {},
   "outputs": [],
   "source": [
    "X_Y_train = pd.concat([X_train.reset_index(drop = True),Y_train.reset_index(drop = True)], axis = 1)\n",
    "count_nondefault, count_default = X_Y_train['credit_card_default'].value_counts()\n",
    "nondefaults = X_Y_train[X_Y_train['credit_card_default'] == 0]\n",
    "defaults = X_Y_train[X_Y_train['credit_card_default'] == 1]\n",
    "\n",
    "nondefaults_under = nondefaults.sample(count_default)\n",
    "X_Y_train_under = pd.concat([nondefaults_under.reset_index(drop = True),defaults.reset_index(drop = True)], axis=0)"
   ]
  },
  {
   "cell_type": "code",
   "execution_count": 9,
   "id": "7bb281b4",
   "metadata": {},
   "outputs": [],
   "source": [
    "X_train = X_Y_train_under.drop([\"credit_card_default\"], axis=1) #predictors\n",
    "Y_train = X_Y_train_under[[\"credit_card_default\"]] #target"
   ]
  },
  {
   "cell_type": "markdown",
   "id": "236a1d8e",
   "metadata": {},
   "source": [
    "#### Feature Scaling"
   ]
  },
  {
   "cell_type": "code",
   "execution_count": 10,
   "id": "71f2b67a",
   "metadata": {},
   "outputs": [],
   "source": [
    "sc = StandardScaler()\n",
    "X_train = sc.fit_transform(X_train)\n",
    "X_valid = sc.fit_transform(X_valid)\n",
    "X_test = sc.transform(X_test)"
   ]
  },
  {
   "cell_type": "markdown",
   "id": "74ddbac8",
   "metadata": {},
   "source": [
    "### <font color='indigo'>3) Model Building"
   ]
  },
  {
   "cell_type": "code",
   "execution_count": 11,
   "id": "590d7bae",
   "metadata": {},
   "outputs": [
    {
     "data": {
      "text/plain": [
       "<keras.callbacks.History at 0x222073c5760>"
      ]
     },
     "execution_count": 11,
     "metadata": {},
     "output_type": "execute_result"
    }
   ],
   "source": [
    "classifier = Sequential()\n",
    "# Adding the input layer and the first hidden layer\n",
    "classifier.add(Dense(units = 6, kernel_initializer = 'uniform', activation = 'relu', input_dim = 38))\n",
    "\n",
    "# Adding the second hidden layer\n",
    "classifier.add(Dense(units = 6, kernel_initializer = 'uniform', activation = 'relu'))\n",
    "\n",
    "# Adding the output layer\n",
    "classifier.add(Dense(units = 1, kernel_initializer = 'uniform', activation = 'sigmoid'))\n",
    "\n",
    "# Compiling the ANN | means applying SGD on the whole ANN\n",
    "classifier.compile(optimizer = 'adam', loss = 'binary_crossentropy', metrics = ['accuracy'])\n",
    "\n",
    "# Fitting the ANN to the Training set\n",
    "classifier.fit(X_train, Y_train, batch_size = 10, epochs = 100,verbose = 0)"
   ]
  },
  {
   "cell_type": "markdown",
   "id": "7e1742fa",
   "metadata": {},
   "source": [
    "### <font color='indigo'>4) Model Performance Indicators"
   ]
  },
  {
   "cell_type": "code",
   "execution_count": 12,
   "id": "e767d872",
   "metadata": {},
   "outputs": [
    {
     "name": "stdout",
     "output_type": "stream",
     "text": [
      "456/456 [==============================] - 1s 2ms/step - loss: 1.0832 - accuracy: 0.7595\n",
      "Train score: 1.083239197731018\n",
      "Train accuracy: 0.7594992518424988\n"
     ]
    }
   ],
   "source": [
    "score, acc = classifier.evaluate(X_valid, Y_valid, batch_size=10)\n",
    "print('Train score:', score)\n",
    "print('Train accuracy:', acc)"
   ]
  },
  {
   "cell_type": "code",
   "execution_count": 13,
   "id": "20596856",
   "metadata": {},
   "outputs": [
    {
     "name": "stdout",
     "output_type": "stream",
     "text": [
      "143/143 [==============================] - 0s 1ms/step\n",
      "              precision    recall  f1-score   support\n",
      "\n",
      " Non-Default       1.00      0.74      0.85      4190\n",
      "     Default       0.25      1.00      0.40       363\n",
      "\n",
      "    accuracy                           0.76      4553\n",
      "   macro avg       0.63      0.87      0.63      4553\n",
      "weighted avg       0.94      0.76      0.81      4553\n",
      "\n"
     ]
    }
   ],
   "source": [
    "Y_pred = classifier.predict(X_test)\n",
    "Y_pred_cat = np.where(Y_pred > 0.5, 1, 0)\n",
    "target_names = ['Non-Default', 'Default']\n",
    "print(classification_report(Y_test, Y_pred_cat, target_names=target_names))"
   ]
  },
  {
   "cell_type": "code",
   "execution_count": 14,
   "id": "dc28bb90",
   "metadata": {},
   "outputs": [
    {
     "data": {
      "text/plain": [
       "Text(0.5, 23.52222222222222, 'Predicted label')"
      ]
     },
     "execution_count": 14,
     "metadata": {},
     "output_type": "execute_result"
    },
    {
     "data": {
      "image/png": "[encoded data removed]",
      "text/plain": [
       "<Figure size 640x480 with 2 Axes>"
      ]
     },
     "metadata": {},
     "output_type": "display_data"
    }
   ],
   "source": [
    "cm = confusion_matrix(Y_test, Y_pred_cat)\n",
    "p = sns.heatmap(pd.DataFrame(cm), annot=True, cmap=\"YlGnBu\" ,fmt='g')\n",
    "plt.title('Confusion matrix', y=1.1)\n",
    "plt.ylabel('Actual label')\n",
    "plt.xlabel('Predicted label')"
   ]
  },
  {
   "cell_type": "code",
   "execution_count": 15,
   "id": "2c107fe7",
   "metadata": {
    "scrolled": false
   },
   "outputs": [
    {
     "data": {
      "image/png": "[encoded data removed]",
      "text/plain": [
       "<Figure size 640x480 with 1 Axes>"
      ]
     },
     "metadata": {},
     "output_type": "display_data"
    }
   ],
   "source": [
    "fpr, tpr, thresholds = roc_curve(Y_test, Y_pred)\n",
    "plt.plot([0,1],[0,1],'k--')\n",
    "plt.plot(fpr,tpr, label='ANN')\n",
    "plt.xlabel('False Positive Rate (FPR)')\n",
    "plt.ylabel('True Positive Rate (TPR)')\n",
    "plt.title('ROC curve - ANN - DF2')\n",
    "plt.show()"
   ]
  },
  {
   "cell_type": "code",
   "execution_count": 16,
   "id": "d6adea82",
   "metadata": {},
   "outputs": [
    {
     "data": {
      "text/plain": [
       "0.984721592141857"
      ]
     },
     "execution_count": 16,
     "metadata": {},
     "output_type": "execute_result"
    }
   ],
   "source": [
    "#Area under ROC curve\n",
    "roc_auc_score(Y_test, Y_pred)"
   ]
  },
  {
   "cell_type": "markdown",
   "id": "0fb99e06",
   "metadata": {},
   "source": [
    "### <font color='indigo'>5) Hyperparameter Tuning"
   ]
  },
  {
   "cell_type": "code",
   "execution_count": 20,
   "id": "a4a69e1c",
   "metadata": {},
   "outputs": [],
   "source": [
    "def nn_cl_bo2(neurons, activation, optimizer, learning_rate, batch_size, epochs,\n",
    "              layers1, layers2, normalization, dropout, dropout_rate):\n",
    "    optimizerL = ['SGD', 'Adam', 'RMSprop', 'Adadelta', 'Adagrad', 'Adamax', 'Nadam', 'Ftrl','SGD']\n",
    "    optimizerD= {'Adam':Adam(lr=learning_rate), 'SGD':SGD(lr=learning_rate),\n",
    "                 'RMSprop':RMSprop(lr=learning_rate), 'Adadelta':Adadelta(lr=learning_rate),\n",
    "                 'Adagrad':Adagrad(lr=learning_rate), 'Adamax':Adamax(lr=learning_rate),\n",
    "                 'Nadam':Nadam(lr=learning_rate), 'Ftrl':Ftrl(lr=learning_rate)}\n",
    "    activationL = ['relu', 'sigmoid', 'softplus', 'softsign', 'tanh', 'selu',\n",
    "                   'elu', 'exponential', LeakyReLU,'relu']\n",
    "    neurons = round(neurons)\n",
    "    activation = activationL[round(activation)]\n",
    "    optimizer = optimizerD[optimizerL[round(optimizer)]]\n",
    "    batch_size = round(batch_size)\n",
    "    epochs = round(epochs)\n",
    "    layers1 = round(layers1)\n",
    "    layers2 = round(layers2)\n",
    "    def nn_cl_fun():\n",
    "        nn = Sequential()\n",
    "        nn.add(Dense(neurons, input_dim=38, activation=activation))\n",
    "        if normalization > 0.5:\n",
    "            nn.add(BatchNormalization())\n",
    "        for i in range(layers1):\n",
    "            nn.add(Dense(neurons, activation=activation))\n",
    "        if dropout > 0.5:\n",
    "            nn.add(Dropout(dropout_rate, seed=123))\n",
    "        for i in range(layers2):\n",
    "            nn.add(Dense(neurons, activation=activation))\n",
    "        nn.add(Dense(1, activation='sigmoid'))\n",
    "        nn.compile(loss='binary_crossentropy', optimizer=optimizer, metrics=['accuracy'])\n",
    "        return nn\n",
    "    es = EarlyStopping(monitor='accuracy', mode='max', verbose=0, patience=20)\n",
    "    nn = KerasClassifier(build_fn=nn_cl_fun, epochs=epochs, batch_size=batch_size, verbose=0)\n",
    "    kfold = StratifiedKFold(n_splits=5, shuffle=True, random_state=123)\n",
    "    score = cross_val_score(nn, X_train, Y_train, scoring=score_acc, cv=kfold, fit_params={'callbacks':[es]}).mean()\n",
    "    return score"
   ]
  },
  {
   "cell_type": "code",
   "execution_count": 21,
   "id": "fe37099a",
   "metadata": {},
   "outputs": [
    {
     "name": "stdout",
     "output_type": "stream",
     "text": [
      "|   iter    |  target   | activa... | batch_... |  dropout  | dropou... |  epochs   |  layers1  |  layers2  | learni... |  neurons  | normal... | optimizer |\n",
      "-------------------------------------------------------------------------------------------------------------------------------------------------------------\n",
      "37/37 [==============================] - 0s 1ms/step\n",
      "37/37 [==============================] - 0s 1ms/step\n",
      "37/37 [==============================] - 0s 914us/step\n",
      "37/37 [==============================] - 0s 700us/step\n",
      "37/37 [==============================] - 0s 1ms/step\n",
      "| \u001b[0m1        \u001b[0m | \u001b[0m0.4998   \u001b[0m | \u001b[0m5.51     \u001b[0m | \u001b[0m335.3    \u001b[0m | \u001b[0m0.4361   \u001b[0m | \u001b[0m0.2308   \u001b[0m | \u001b[0m43.63    \u001b[0m | \u001b[0m1.298    \u001b[0m | \u001b[0m1.045    \u001b[0m | \u001b[0m0.426    \u001b[0m | \u001b[0m31.48    \u001b[0m | \u001b[0m0.3377   \u001b[0m | \u001b[0m6.935    \u001b[0m |\n",
      "37/37 [==============================] - 0s 1ms/step\n",
      "37/37 [==============================] - 0s 868us/step\n",
      "37/37 [==============================] - 0s 979us/step\n",
      "37/37 [==============================] - 0s 1ms/step\n",
      "37/37 [==============================] - 0s 1ms/step\n",
      "| \u001b[95m2        \u001b[0m | \u001b[95m0.5141   \u001b[0m | \u001b[95m2.14     \u001b[0m | \u001b[95m265.0    \u001b[0m | \u001b[95m0.6696   \u001b[0m | \u001b[95m0.1864   \u001b[0m | \u001b[95m41.94    \u001b[0m | \u001b[95m1.932    \u001b[0m | \u001b[95m1.237    \u001b[0m | \u001b[95m0.08322  \u001b[0m | \u001b[95m91.07    \u001b[0m | \u001b[95m0.794    \u001b[0m | \u001b[95m5.884    \u001b[0m |\n",
      "37/37 [==============================] - 0s 1ms/step\n",
      "37/37 [==============================] - 0s 899us/step\n",
      "37/37 [==============================] - 0s 894us/step\n",
      "37/37 [==============================] - 0s 1ms/step\n",
      "37/37 [==============================] - 0s 1ms/step\n",
      "| \u001b[0m3        \u001b[0m | \u001b[0m0.5      \u001b[0m | \u001b[0m7.337    \u001b[0m | \u001b[0m992.8    \u001b[0m | \u001b[0m0.5773   \u001b[0m | \u001b[0m0.2441   \u001b[0m | \u001b[0m53.71    \u001b[0m | \u001b[0m1.055    \u001b[0m | \u001b[0m1.908    \u001b[0m | \u001b[0m0.1143   \u001b[0m | \u001b[0m83.55    \u001b[0m | \u001b[0m0.6977   \u001b[0m | \u001b[0m3.957    \u001b[0m |\n",
      "37/37 [==============================] - 0s 1ms/step\n",
      "37/37 [==============================] - 0s 1ms/step\n",
      "37/37 [==============================] - 0s 1ms/step\n",
      "37/37 [==============================] - 0s 1ms/step\n",
      "37/37 [==============================] - 0s 1ms/step\n",
      "| \u001b[0m4        \u001b[0m | \u001b[0m0.5      \u001b[0m | \u001b[0m2.468    \u001b[0m | \u001b[0m998.8    \u001b[0m | \u001b[0m0.138    \u001b[0m | \u001b[0m0.1846   \u001b[0m | \u001b[0m58.8     \u001b[0m | \u001b[0m1.81     \u001b[0m | \u001b[0m2.456    \u001b[0m | \u001b[0m0.3296   \u001b[0m | \u001b[0m46.05    \u001b[0m | \u001b[0m0.319    \u001b[0m | \u001b[0m6.631    \u001b[0m |\n",
      "37/37 [==============================] - 0s 868us/step\n",
      "37/37 [==============================] - 0s 869us/step\n",
      "37/37 [==============================] - 0s 1ms/step\n",
      "37/37 [==============================] - 0s 1ms/step\n",
      "37/37 [==============================] - 0s 1ms/step\n",
      "| \u001b[95m5        \u001b[0m | \u001b[95m0.952    \u001b[0m | \u001b[95m8.268    \u001b[0m | \u001b[95m851.1    \u001b[0m | \u001b[95m0.03408  \u001b[0m | \u001b[95m0.283    \u001b[0m | \u001b[95m96.04    \u001b[0m | \u001b[95m2.613    \u001b[0m | \u001b[95m1.963    \u001b[0m | \u001b[95m0.9671   \u001b[0m | \u001b[95m47.53    \u001b[0m | \u001b[95m0.3188   \u001b[0m | \u001b[95m0.1151   \u001b[0m |\n",
      "37/37 [==============================] - 0s 1ms/step\n",
      "37/37 [==============================] - 0s 920us/step\n",
      "37/37 [==============================] - 0s 870us/step\n",
      "37/37 [==============================] - 0s 1ms/step\n",
      "37/37 [==============================] - 0s 868us/step\n",
      "| \u001b[0m6        \u001b[0m | \u001b[0m0.9496   \u001b[0m | \u001b[0m0.3436   \u001b[0m | \u001b[0m242.5    \u001b[0m | \u001b[0m0.128    \u001b[0m | \u001b[0m0.01001  \u001b[0m | \u001b[0m38.11    \u001b[0m | \u001b[0m2.088    \u001b[0m | \u001b[0m1.357    \u001b[0m | \u001b[0m0.1876   \u001b[0m | \u001b[0m23.47    \u001b[0m | \u001b[0m0.683    \u001b[0m | \u001b[0m3.283    \u001b[0m |\n",
      "37/37 [==============================] - 0s 893us/step\n",
      "37/37 [==============================] - 0s 1ms/step\n",
      "37/37 [==============================] - 0s 1ms/step\n",
      "37/37 [==============================] - 0s 1ms/step\n",
      "37/37 [==============================] - 0s 1ms/step\n",
      "| \u001b[0m7        \u001b[0m | \u001b[0m0.5      \u001b[0m | \u001b[0m6.914    \u001b[0m | \u001b[0m735.1    \u001b[0m | \u001b[0m0.4413   \u001b[0m | \u001b[0m0.1786   \u001b[0m | \u001b[0m56.93    \u001b[0m | \u001b[0m2.927    \u001b[0m | \u001b[0m1.296    \u001b[0m | \u001b[0m0.9077   \u001b[0m | \u001b[0m54.81    \u001b[0m | \u001b[0m0.5925   \u001b[0m | \u001b[0m4.793    \u001b[0m |\n",
      "37/37 [==============================] - 0s 1ms/step\n",
      "37/37 [==============================] - 0s 1ms/step\n",
      "37/37 [==============================] - 0s 1ms/step\n",
      "37/37 [==============================] - 0s 2ms/step\n",
      "37/37 [==============================] - 0s 1ms/step\n",
      "| \u001b[95m8        \u001b[0m | \u001b[95m0.9526   \u001b[0m | \u001b[95m1.597    \u001b[0m | \u001b[95m891.7    \u001b[0m | \u001b[95m0.4821   \u001b[0m | \u001b[95m0.0208   \u001b[0m | \u001b[95m49.18    \u001b[0m | \u001b[95m1.723    \u001b[0m | \u001b[95m1.944    \u001b[0m | \u001b[95m0.1877   \u001b[0m | \u001b[95m25.78    \u001b[0m | \u001b[95m0.9491   \u001b[0m | \u001b[95m4.59     \u001b[0m |\n",
      "37/37 [==============================] - 0s 1ms/step\n",
      "37/37 [==============================] - 0s 1ms/step\n",
      "37/37 [==============================] - 0s 1ms/step\n",
      "37/37 [==============================] - 0s 1ms/step\n",
      "37/37 [==============================] - 0s 1ms/step\n",
      "| \u001b[0m9        \u001b[0m | \u001b[0m0.5      \u001b[0m | \u001b[0m1.215    \u001b[0m | \u001b[0m942.2    \u001b[0m | \u001b[0m0.8418   \u001b[0m | \u001b[0m0.01583  \u001b[0m | \u001b[0m36.29    \u001b[0m | \u001b[0m2.745    \u001b[0m | \u001b[0m2.348    \u001b[0m | \u001b[0m0.3043   \u001b[0m | \u001b[0m76.1     \u001b[0m | \u001b[0m0.6183   \u001b[0m | \u001b[0m1.473    \u001b[0m |\n",
      "37/37 [==============================] - 0s 2ms/step\n",
      "37/37 [==============================] - 0s 2ms/step\n",
      "37/37 [==============================] - 0s 2ms/step\n",
      "37/37 [==============================] - 0s 2ms/step\n",
      "37/37 [==============================] - 0s 2ms/step\n",
      "| \u001b[0m10       \u001b[0m | \u001b[0m0.5      \u001b[0m | \u001b[0m7.219    \u001b[0m | \u001b[0m247.3    \u001b[0m | \u001b[0m0.3082   \u001b[0m | \u001b[0m0.06221  \u001b[0m | \u001b[0m97.78    \u001b[0m | \u001b[0m2.819    \u001b[0m | \u001b[0m2.353    \u001b[0m | \u001b[0m0.124    \u001b[0m | \u001b[0m96.22    \u001b[0m | \u001b[0m0.09171  \u001b[0m | \u001b[0m4.409    \u001b[0m |\n",
      "37/37 [==============================] - 0s 2ms/step\n",
      "37/37 [==============================] - 0s 2ms/step\n",
      "37/37 [==============================] - 0s 2ms/step\n",
      "37/37 [==============================] - 0s 2ms/step\n",
      "37/37 [==============================] - 0s 2ms/step\n",
      "| \u001b[95m11       \u001b[0m | \u001b[95m0.9542   \u001b[0m | \u001b[95m8.126    \u001b[0m | \u001b[95m471.8    \u001b[0m | \u001b[95m0.6528   \u001b[0m | \u001b[95m0.2775   \u001b[0m | \u001b[95m49.92    \u001b[0m | \u001b[95m2.543    \u001b[0m | \u001b[95m2.792    \u001b[0m | \u001b[95m0.624    \u001b[0m | \u001b[95m23.6     \u001b[0m | \u001b[95m0.3749   \u001b[0m | \u001b[95m4.451    \u001b[0m |\n",
      "37/37 [==============================] - 0s 2ms/step\n",
      "37/37 [==============================] - 0s 2ms/step\n",
      "37/37 [==============================] - 0s 1ms/step\n",
      "37/37 [==============================] - 0s 1ms/step\n",
      "37/37 [==============================] - 0s 2ms/step\n",
      "| \u001b[0m12       \u001b[0m | \u001b[0m0.4998   \u001b[0m | \u001b[0m4.132    \u001b[0m | \u001b[0m625.8    \u001b[0m | \u001b[0m0.3523   \u001b[0m | \u001b[0m0.198    \u001b[0m | \u001b[0m58.12    \u001b[0m | \u001b[0m1.909    \u001b[0m | \u001b[0m1.25     \u001b[0m | \u001b[0m0.4183   \u001b[0m | \u001b[0m34.58    \u001b[0m | \u001b[0m0.3467   \u001b[0m | \u001b[0m6.821    \u001b[0m |\n",
      "37/37 [==============================] - 0s 2ms/step\n",
      "37/37 [==============================] - 0s 2ms/step\n",
      "37/37 [==============================] - 0s 2ms/step\n",
      "37/37 [==============================] - 0s 2ms/step\n",
      "37/37 [==============================] - 0s 2ms/step\n",
      "| \u001b[0m13       \u001b[0m | \u001b[0m0.9499   \u001b[0m | \u001b[0m1.94     \u001b[0m | \u001b[0m746.3    \u001b[0m | \u001b[0m0.03181  \u001b[0m | \u001b[0m0.2506   \u001b[0m | \u001b[0m76.13    \u001b[0m | \u001b[0m2.932    \u001b[0m | \u001b[0m2.184    \u001b[0m | \u001b[0m0.2252   \u001b[0m | \u001b[0m74.73    \u001b[0m | \u001b[0m0.03087  \u001b[0m | \u001b[0m2.931    \u001b[0m |\n",
      "37/37 [==============================] - 0s 2ms/step\n",
      "37/37 [==============================] - 0s 2ms/step\n",
      "37/37 [==============================] - 0s 1ms/step\n",
      "37/37 [==============================] - 0s 2ms/step\n",
      "37/37 [==============================] - 0s 2ms/step\n",
      "| \u001b[0m14       \u001b[0m | \u001b[0m0.9394   \u001b[0m | \u001b[0m2.531    \u001b[0m | \u001b[0m285.0    \u001b[0m | \u001b[0m0.4263   \u001b[0m | \u001b[0m0.2522   \u001b[0m | \u001b[0m28.83    \u001b[0m | \u001b[0m2.973    \u001b[0m | \u001b[0m1.467    \u001b[0m | \u001b[0m0.7242   \u001b[0m | \u001b[0m69.48    \u001b[0m | \u001b[0m0.07776  \u001b[0m | \u001b[0m4.881    \u001b[0m |\n",
      "37/37 [==============================] - 0s 2ms/step\n",
      "37/37 [==============================] - 0s 2ms/step\n",
      "37/37 [==============================] - 0s 2ms/step\n",
      "37/37 [==============================] - 0s 2ms/step\n",
      "37/37 [==============================] - 0s 2ms/step\n",
      "| \u001b[95m15       \u001b[0m | \u001b[95m0.9549   \u001b[0m | \u001b[95m2.388    \u001b[0m | \u001b[95m921.5    \u001b[0m | \u001b[95m0.8183   \u001b[0m | \u001b[95m0.1198   \u001b[0m | \u001b[95m85.62    \u001b[0m | \u001b[95m1.396    \u001b[0m | \u001b[95m2.045    \u001b[0m | \u001b[95m0.4184   \u001b[0m | \u001b[95m93.33    \u001b[0m | \u001b[95m0.8254   \u001b[0m | \u001b[95m3.507    \u001b[0m |\n"
     ]
    },
    {
     "name": "stdout",
     "output_type": "stream",
     "text": [
      "37/37 [==============================] - 0s 2ms/step\n",
      "37/37 [==============================] - 0s 1ms/step\n",
      "37/37 [==============================] - 0s 1ms/step\n",
      "37/37 [==============================] - 0s 1ms/step\n",
      "37/37 [==============================] - 0s 2ms/step\n",
      "| \u001b[0m16       \u001b[0m | \u001b[0m0.9301   \u001b[0m | \u001b[0m1.051    \u001b[0m | \u001b[0m209.3    \u001b[0m | \u001b[0m0.9132   \u001b[0m | \u001b[0m0.1537   \u001b[0m | \u001b[0m87.45    \u001b[0m | \u001b[0m1.19     \u001b[0m | \u001b[0m2.607    \u001b[0m | \u001b[0m0.07161  \u001b[0m | \u001b[0m67.19    \u001b[0m | \u001b[0m0.9688   \u001b[0m | \u001b[0m2.782    \u001b[0m |\n",
      "37/37 [==============================] - 0s 1ms/step\n",
      "37/37 [==============================] - 0s 2ms/step\n",
      "37/37 [==============================] - 0s 1ms/step\n",
      "37/37 [==============================] - 0s 2ms/step\n",
      "37/37 [==============================] - 0s 1ms/step\n",
      "| \u001b[0m17       \u001b[0m | \u001b[0m0.5      \u001b[0m | \u001b[0m5.936    \u001b[0m | \u001b[0m371.9    \u001b[0m | \u001b[0m0.8899   \u001b[0m | \u001b[0m0.296    \u001b[0m | \u001b[0m79.09    \u001b[0m | \u001b[0m2.283    \u001b[0m | \u001b[0m1.504    \u001b[0m | \u001b[0m0.4811   \u001b[0m | \u001b[0m34.13    \u001b[0m | \u001b[0m0.8683   \u001b[0m | \u001b[0m1.868    \u001b[0m |\n",
      "37/37 [==============================] - 0s 1ms/step\n",
      "37/37 [==============================] - 0s 2ms/step\n",
      "37/37 [==============================] - 0s 868us/step\n",
      "37/37 [==============================] - 0s 2ms/step\n",
      "37/37 [==============================] - 0s 1ms/step\n",
      "| \u001b[0m18       \u001b[0m | \u001b[0m0.5716   \u001b[0m | \u001b[0m8.757    \u001b[0m | \u001b[0m370.8    \u001b[0m | \u001b[0m0.2978   \u001b[0m | \u001b[0m0.221    \u001b[0m | \u001b[0m21.03    \u001b[0m | \u001b[0m1.06     \u001b[0m | \u001b[0m2.468    \u001b[0m | \u001b[0m0.5033   \u001b[0m | \u001b[0m29.63    \u001b[0m | \u001b[0m0.00893  \u001b[0m | \u001b[0m5.955    \u001b[0m |\n",
      "37/37 [==============================] - 0s 2ms/step\n",
      "37/37 [==============================] - 0s 2ms/step\n",
      "37/37 [==============================] - 0s 2ms/step\n",
      "37/37 [==============================] - 0s 3ms/step\n",
      "37/37 [==============================] - 0s 1ms/step\n",
      "| \u001b[0m19       \u001b[0m | \u001b[0m0.9543   \u001b[0m | \u001b[0m4.828    \u001b[0m | \u001b[0m778.8    \u001b[0m | \u001b[0m0.6616   \u001b[0m | \u001b[0m0.2516   \u001b[0m | \u001b[0m51.06    \u001b[0m | \u001b[0m1.852    \u001b[0m | \u001b[0m2.656    \u001b[0m | \u001b[0m0.4743   \u001b[0m | \u001b[0m83.8     \u001b[0m | \u001b[0m0.01418  \u001b[0m | \u001b[0m2.777    \u001b[0m |\n",
      "37/37 [==============================] - 0s 1ms/step\n",
      "37/37 [==============================] - 0s 2ms/step\n",
      "37/37 [==============================] - 0s 1ms/step\n",
      "37/37 [==============================] - 0s 2ms/step\n",
      "37/37 [==============================] - 0s 2ms/step\n",
      "| \u001b[0m20       \u001b[0m | \u001b[0m0.5002   \u001b[0m | \u001b[0m1.155    \u001b[0m | \u001b[0m294.5    \u001b[0m | \u001b[0m0.206    \u001b[0m | \u001b[0m0.2243   \u001b[0m | \u001b[0m94.41    \u001b[0m | \u001b[0m1.761    \u001b[0m | \u001b[0m1.921    \u001b[0m | \u001b[0m0.8746   \u001b[0m | \u001b[0m83.31    \u001b[0m | \u001b[0m0.02497  \u001b[0m | \u001b[0m6.111    \u001b[0m |\n",
      "37/37 [==============================] - 1s 1ms/step\n",
      "37/37 [==============================] - 0s 1ms/step\n",
      "37/37 [==============================] - 0s 1ms/step\n",
      "37/37 [==============================] - 0s 1ms/step\n",
      "37/37 [==============================] - 0s 2ms/step\n",
      "| \u001b[0m21       \u001b[0m | \u001b[0m0.8191   \u001b[0m | \u001b[0m5.441    \u001b[0m | \u001b[0m613.2    \u001b[0m | \u001b[0m0.5893   \u001b[0m | \u001b[0m0.2399   \u001b[0m | \u001b[0m33.86    \u001b[0m | \u001b[0m1.374    \u001b[0m | \u001b[0m1.516    \u001b[0m | \u001b[0m0.06056  \u001b[0m | \u001b[0m59.74    \u001b[0m | \u001b[0m0.3518   \u001b[0m | \u001b[0m6.419    \u001b[0m |\n",
      "37/37 [==============================] - 0s 2ms/step\n",
      "37/37 [==============================] - 0s 1ms/step\n",
      "37/37 [==============================] - 0s 1ms/step\n",
      "37/37 [==============================] - 0s 1ms/step\n",
      "37/37 [==============================] - 0s 927us/step\n",
      "| \u001b[0m22       \u001b[0m | \u001b[0m0.9516   \u001b[0m | \u001b[0m4.289    \u001b[0m | \u001b[0m283.6    \u001b[0m | \u001b[0m0.1525   \u001b[0m | \u001b[0m0.08206  \u001b[0m | \u001b[0m82.52    \u001b[0m | \u001b[0m1.786    \u001b[0m | \u001b[0m2.598    \u001b[0m | \u001b[0m0.4387   \u001b[0m | \u001b[0m17.34    \u001b[0m | \u001b[0m0.01064  \u001b[0m | \u001b[0m3.016    \u001b[0m |\n",
      "37/37 [==============================] - 0s 2ms/step\n",
      "37/37 [==============================] - 0s 2ms/step\n",
      "37/37 [==============================] - 0s 2ms/step\n",
      "37/37 [==============================] - 0s 1ms/step\n",
      "37/37 [==============================] - 0s 2ms/step\n",
      "| \u001b[0m23       \u001b[0m | \u001b[0m0.9459   \u001b[0m | \u001b[0m5.966    \u001b[0m | \u001b[0m612.2    \u001b[0m | \u001b[0m0.5801   \u001b[0m | \u001b[0m0.1479   \u001b[0m | \u001b[0m79.24    \u001b[0m | \u001b[0m2.579    \u001b[0m | \u001b[0m2.562    \u001b[0m | \u001b[0m0.1363   \u001b[0m | \u001b[0m94.61    \u001b[0m | \u001b[0m0.8777   \u001b[0m | \u001b[0m4.897    \u001b[0m |\n",
      "37/37 [==============================] - 0s 1ms/step\n",
      "37/37 [==============================] - 0s 1ms/step\n",
      "37/37 [==============================] - 0s 1ms/step\n",
      "37/37 [==============================] - 0s 2ms/step\n",
      "37/37 [==============================] - 0s 2ms/step\n",
      "| \u001b[0m24       \u001b[0m | \u001b[0m0.9392   \u001b[0m | \u001b[0m8.432    \u001b[0m | \u001b[0m739.0    \u001b[0m | \u001b[0m0.5944   \u001b[0m | \u001b[0m0.1035   \u001b[0m | \u001b[0m26.69    \u001b[0m | \u001b[0m2.159    \u001b[0m | \u001b[0m1.035    \u001b[0m | \u001b[0m0.5569   \u001b[0m | \u001b[0m66.93    \u001b[0m | \u001b[0m0.6784   \u001b[0m | \u001b[0m1.194    \u001b[0m |\n",
      "37/37 [==============================] - 0s 1ms/step\n",
      "37/37 [==============================] - 0s 1ms/step\n",
      "37/37 [==============================] - 0s 1ms/step\n",
      "37/37 [==============================] - 0s 1ms/step\n",
      "37/37 [==============================] - 0s 1ms/step\n",
      "| \u001b[0m25       \u001b[0m | \u001b[0m0.8057   \u001b[0m | \u001b[0m5.194    \u001b[0m | \u001b[0m364.8    \u001b[0m | \u001b[0m0.2515   \u001b[0m | \u001b[0m0.2908   \u001b[0m | \u001b[0m91.73    \u001b[0m | \u001b[0m1.246    \u001b[0m | \u001b[0m2.762    \u001b[0m | \u001b[0m0.9485   \u001b[0m | \u001b[0m51.39    \u001b[0m | \u001b[0m0.413    \u001b[0m | \u001b[0m4.04     \u001b[0m |\n",
      "37/37 [==============================] - 0s 1ms/step\n",
      "37/37 [==============================] - 0s 1ms/step\n",
      "37/37 [==============================] - 0s 1ms/step\n",
      "37/37 [==============================] - 0s 1ms/step\n",
      "37/37 [==============================] - 0s 1ms/step\n",
      "| \u001b[0m26       \u001b[0m | \u001b[0m0.5      \u001b[0m | \u001b[0m0.7403   \u001b[0m | \u001b[0m919.9    \u001b[0m | \u001b[0m0.4112   \u001b[0m | \u001b[0m0.1232   \u001b[0m | \u001b[0m86.39    \u001b[0m | \u001b[0m2.893    \u001b[0m | \u001b[0m1.621    \u001b[0m | \u001b[0m0.752    \u001b[0m | \u001b[0m94.67    \u001b[0m | \u001b[0m0.3004   \u001b[0m | \u001b[0m5.003    \u001b[0m |\n",
      "37/37 [==============================] - 0s 1ms/step\n",
      "37/37 [==============================] - 0s 1ms/step\n",
      "37/37 [==============================] - 0s 1ms/step\n",
      "37/37 [==============================] - 0s 1ms/step\n",
      "37/37 [==============================] - 0s 1ms/step\n",
      "| \u001b[95m27       \u001b[0m | \u001b[95m0.9549   \u001b[0m | \u001b[95m8.727    \u001b[0m | \u001b[95m405.2    \u001b[0m | \u001b[95m0.6846   \u001b[0m | \u001b[95m0.1085   \u001b[0m | \u001b[95m25.47    \u001b[0m | \u001b[95m1.412    \u001b[0m | \u001b[95m2.167    \u001b[0m | \u001b[95m0.7813   \u001b[0m | \u001b[95m44.51    \u001b[0m | \u001b[95m0.02933  \u001b[0m | \u001b[95m3.027    \u001b[0m |\n",
      "37/37 [==============================] - 0s 1ms/step\n",
      "37/37 [==============================] - 0s 1ms/step\n",
      "37/37 [==============================] - 0s 1ms/step\n",
      "37/37 [==============================] - 0s 2ms/step\n",
      "37/37 [==============================] - 0s 1ms/step\n",
      "| \u001b[0m28       \u001b[0m | \u001b[0m0.5      \u001b[0m | \u001b[0m1.36     \u001b[0m | \u001b[0m753.9    \u001b[0m | \u001b[0m0.5885   \u001b[0m | \u001b[0m0.1415   \u001b[0m | \u001b[0m68.2     \u001b[0m | \u001b[0m1.021    \u001b[0m | \u001b[0m1.433    \u001b[0m | \u001b[0m0.6129   \u001b[0m | \u001b[0m60.12    \u001b[0m | \u001b[0m0.1266   \u001b[0m | \u001b[0m5.56     \u001b[0m |\n",
      "37/37 [==============================] - 0s 1ms/step\n",
      "37/37 [==============================] - 0s 1ms/step\n",
      "37/37 [==============================] - 0s 1ms/step\n",
      "37/37 [==============================] - 0s 1ms/step\n",
      "37/37 [==============================] - 0s 1ms/step\n",
      "| \u001b[0m29       \u001b[0m | \u001b[0m0.5      \u001b[0m | \u001b[0m7.191    \u001b[0m | \u001b[0m966.2    \u001b[0m | \u001b[0m0.04053  \u001b[0m | \u001b[0m0.2721   \u001b[0m | \u001b[0m78.01    \u001b[0m | \u001b[0m1.407    \u001b[0m | \u001b[0m2.463    \u001b[0m | \u001b[0m0.2568   \u001b[0m | \u001b[0m43.04    \u001b[0m | \u001b[0m0.2389   \u001b[0m | \u001b[0m4.9      \u001b[0m |\n",
      "=============================================================================================================================================================\n"
     ]
    }
   ],
   "source": [
    "params_nn2 ={\n",
    "    'neurons': (10, 100),\n",
    "    'activation':(0, 9),\n",
    "    'optimizer':(0,7),\n",
    "    'learning_rate':(0.01, 1),\n",
    "    'batch_size':(200, 1000),\n",
    "    'epochs':(20, 100),\n",
    "    'layers1':(1,3),\n",
    "    'layers2':(1,3),\n",
    "    'normalization':(0,1),\n",
    "    'dropout':(0,1),\n",
    "    'dropout_rate':(0,0.3)\n",
    "}\n",
    "# Run Bayesian Optimization\n",
    "nn_bo = BayesianOptimization(nn_cl_bo2, params_nn2, random_state=111)\n",
    "nn_bo.maximize(init_points=25, n_iter=4)"
   ]
  },
  {
   "cell_type": "code",
   "execution_count": 22,
   "id": "61c06651",
   "metadata": {},
   "outputs": [
    {
     "data": {
      "text/plain": [
       "{'activation': 'relu',\n",
       " 'batch_size': 405,\n",
       " 'dropout': 0.6845756347569049,\n",
       " 'dropout_rate': 0.10847525239268922,\n",
       " 'epochs': 25,\n",
       " 'layers1': 1,\n",
       " 'layers2': 2,\n",
       " 'learning_rate': 0.7813184853172991,\n",
       " 'neurons': 45,\n",
       " 'normalization': 0.029334209187537597,\n",
       " 'optimizer': <keras.optimizers.optimizer_v2.adadelta.Adadelta at 0x2221cd0fe20>}"
      ]
     },
     "execution_count": 22,
     "metadata": {},
     "output_type": "execute_result"
    }
   ],
   "source": [
    "params_nn_ = nn_bo.max['params']\n",
    "learning_rate = params_nn_['learning_rate']\n",
    "activationL = ['relu', 'sigmoid', 'softplus', 'softsign', 'tanh', 'selu',\n",
    "               'elu', 'exponential', LeakyReLU,'relu']\n",
    "params_nn_['activation'] = activationL[round(params_nn_['activation'])]\n",
    "params_nn_['batch_size'] = round(params_nn_['batch_size'])\n",
    "params_nn_['epochs'] = round(params_nn_['epochs'])\n",
    "params_nn_['layers1'] = round(params_nn_['layers1'])\n",
    "params_nn_['layers2'] = round(params_nn_['layers2'])\n",
    "params_nn_['neurons'] = round(params_nn_['neurons'])\n",
    "optimizerL = ['Adam', 'SGD', 'RMSprop', 'Adadelta', 'Adagrad', 'Adamax', 'Nadam', 'Ftrl','Adam']\n",
    "optimizerD= {'Adam':Adam(lr=learning_rate), 'SGD':SGD(lr=learning_rate),\n",
    "             'RMSprop':RMSprop(lr=learning_rate), 'Adadelta':Adadelta(lr=learning_rate),\n",
    "             'Adagrad':Adagrad(lr=learning_rate), 'Adamax':Adamax(lr=learning_rate),\n",
    "             'Nadam':Nadam(lr=learning_rate), 'Ftrl':Ftrl(lr=learning_rate)}\n",
    "params_nn_['optimizer'] = optimizerD[optimizerL[round(params_nn_['optimizer'])]]\n",
    "params_nn_"
   ]
  },
  {
   "cell_type": "markdown",
   "id": "eadf4b35",
   "metadata": {},
   "source": [
    "### <font color='indigo'>6) Final Model"
   ]
  },
  {
   "cell_type": "code",
   "execution_count": 25,
   "id": "68ec73aa",
   "metadata": {},
   "outputs": [
    {
     "name": "stdout",
     "output_type": "stream",
     "text": [
      "Epoch 1/25\n",
      "15/15 [==============================] - 1s 13ms/step - loss: 0.6330 - accuracy: 0.6903 - val_loss: 0.6177 - val_accuracy: 0.6602\n",
      "Epoch 2/25\n",
      "15/15 [==============================] - 0s 5ms/step - loss: 0.3368 - accuracy: 0.8892 - val_loss: 0.7357 - val_accuracy: 0.6383\n",
      "Epoch 3/25\n",
      "15/15 [==============================] - 0s 5ms/step - loss: 0.1798 - accuracy: 0.9206 - val_loss: 1.0224 - val_accuracy: 0.5957\n",
      "Epoch 4/25\n",
      "15/15 [==============================] - 0s 5ms/step - loss: 0.1433 - accuracy: 0.9348 - val_loss: 1.3248 - val_accuracy: 0.5570\n",
      "Epoch 5/25\n",
      "15/15 [==============================] - 0s 4ms/step - loss: 0.1320 - accuracy: 0.9413 - val_loss: 1.2045 - val_accuracy: 0.6011\n",
      "Epoch 6/25\n",
      "15/15 [==============================] - 0s 5ms/step - loss: 0.1164 - accuracy: 0.9498 - val_loss: 1.2878 - val_accuracy: 0.6022\n",
      "Epoch 7/25\n",
      "15/15 [==============================] - 0s 4ms/step - loss: 0.1136 - accuracy: 0.9496 - val_loss: 1.2440 - val_accuracy: 0.6161\n",
      "Epoch 8/25\n",
      "15/15 [==============================] - 0s 5ms/step - loss: 0.1081 - accuracy: 0.9535 - val_loss: 1.3475 - val_accuracy: 0.6027\n",
      "Epoch 9/25\n",
      "15/15 [==============================] - 0s 5ms/step - loss: 0.1076 - accuracy: 0.9504 - val_loss: 1.3495 - val_accuracy: 0.6033\n",
      "Epoch 10/25\n",
      "15/15 [==============================] - 0s 5ms/step - loss: 0.1007 - accuracy: 0.9572 - val_loss: 1.4679 - val_accuracy: 0.5884\n",
      "Epoch 11/25\n",
      "15/15 [==============================] - 0s 5ms/step - loss: 0.0993 - accuracy: 0.9569 - val_loss: 1.3944 - val_accuracy: 0.6055\n",
      "Epoch 12/25\n",
      "15/15 [==============================] - 0s 5ms/step - loss: 0.0963 - accuracy: 0.9579 - val_loss: 1.6160 - val_accuracy: 0.5752\n",
      "Epoch 13/25\n",
      "15/15 [==============================] - 0s 5ms/step - loss: 0.0959 - accuracy: 0.9567 - val_loss: 1.2987 - val_accuracy: 0.6233\n",
      "Epoch 14/25\n",
      "15/15 [==============================] - 0s 5ms/step - loss: 0.0920 - accuracy: 0.9613 - val_loss: 1.3673 - val_accuracy: 0.6117\n",
      "Epoch 15/25\n",
      "15/15 [==============================] - 0s 5ms/step - loss: 0.0908 - accuracy: 0.9618 - val_loss: 1.3963 - val_accuracy: 0.6093\n",
      "Epoch 16/25\n",
      "15/15 [==============================] - 0s 4ms/step - loss: 0.0889 - accuracy: 0.9623 - val_loss: 1.4846 - val_accuracy: 0.5989\n",
      "Epoch 17/25\n",
      "15/15 [==============================] - 0s 5ms/step - loss: 0.0874 - accuracy: 0.9608 - val_loss: 1.4353 - val_accuracy: 0.6051\n",
      "Epoch 18/25\n",
      "15/15 [==============================] - 0s 4ms/step - loss: 0.0843 - accuracy: 0.9638 - val_loss: 1.3053 - val_accuracy: 0.6277\n",
      "Epoch 19/25\n",
      "15/15 [==============================] - 0s 4ms/step - loss: 0.0858 - accuracy: 0.9642 - val_loss: 1.4565 - val_accuracy: 0.6064\n",
      "Epoch 20/25\n",
      "15/15 [==============================] - 0s 5ms/step - loss: 0.0834 - accuracy: 0.9640 - val_loss: 1.4650 - val_accuracy: 0.6121\n",
      "Epoch 21/25\n",
      "15/15 [==============================] - 0s 5ms/step - loss: 0.0849 - accuracy: 0.9632 - val_loss: 1.4631 - val_accuracy: 0.6126\n",
      "Epoch 22/25\n",
      "15/15 [==============================] - 0s 5ms/step - loss: 0.0806 - accuracy: 0.9676 - val_loss: 1.5938 - val_accuracy: 0.5972\n",
      "Epoch 23/25\n",
      "15/15 [==============================] - 0s 5ms/step - loss: 0.0799 - accuracy: 0.9661 - val_loss: 1.4041 - val_accuracy: 0.6233\n",
      "Epoch 24/25\n",
      "15/15 [==============================] - 0s 5ms/step - loss: 0.0791 - accuracy: 0.9664 - val_loss: 1.6493 - val_accuracy: 0.5917\n",
      "Epoch 25/25\n",
      "15/15 [==============================] - 0s 5ms/step - loss: 0.0788 - accuracy: 0.9650 - val_loss: 1.5097 - val_accuracy: 0.6099\n"
     ]
    },
    {
     "data": {
      "text/plain": [
       "<keras.callbacks.History at 0x2221bc14100>"
      ]
     },
     "execution_count": 25,
     "metadata": {},
     "output_type": "execute_result"
    }
   ],
   "source": [
    "# Fitting Neural Network\n",
    "def nn_cl_fun():\n",
    "    nn = Sequential()\n",
    "    nn.add(Dense(params_nn_['neurons'], input_dim=38, activation=params_nn_['activation']))\n",
    "    if params_nn_['normalization'] > 0.5:\n",
    "        nn.add(BatchNormalization())\n",
    "    for i in range(params_nn_['layers1']):\n",
    "        nn.add(Dense(params_nn_['neurons'], activation=params_nn_['activation']))\n",
    "    if params_nn_['dropout'] > 0.5:\n",
    "        nn.add(Dropout(params_nn_['dropout_rate'], seed=123))\n",
    "    for i in range(params_nn_['layers2']):\n",
    "        nn.add(Dense(params_nn_['neurons'], activation=params_nn_['activation']))\n",
    "    nn.add(Dense(1, activation='sigmoid'))\n",
    "    nn.compile(loss='binary_crossentropy', optimizer=params_nn_['optimizer'], metrics=['accuracy'])\n",
    "    return nn\n",
    "        \n",
    "es = EarlyStopping(monitor='accuracy', mode='max', verbose=0, patience=20)\n",
    "nn = KerasClassifier(build_fn=nn_cl_fun, epochs=params_nn_['epochs'], batch_size=params_nn_['batch_size'],\n",
    "                         verbose=0)\n",
    " \n",
    "nn.fit(X_train, Y_train, validation_data=(X_valid, Y_valid), verbose=1)"
   ]
  },
  {
   "cell_type": "code",
   "execution_count": 26,
   "id": "ab084596",
   "metadata": {
    "scrolled": true
   },
   "outputs": [
    {
     "name": "stdout",
     "output_type": "stream",
     "text": [
      "143/143 [==============================] - 0s 625us/step\n",
      "              precision    recall  f1-score   support\n",
      "\n",
      " Non-Default       1.00      0.57      0.73      4190\n",
      "     Default       0.17      1.00      0.29       363\n",
      "\n",
      "    accuracy                           0.61      4553\n",
      "   macro avg       0.58      0.79      0.51      4553\n",
      "weighted avg       0.93      0.61      0.69      4553\n",
      "\n"
     ]
    }
   ],
   "source": [
    "Y_pred_2 = nn.predict_proba(X_test)[:,1]\n",
    "Y_pred_cat_2 = np.where(Y_pred_2 > 0.5, 1, 0)\n",
    "target_names = ['Non-Default', 'Default']\n",
    "print(classification_report(Y_test, Y_pred_cat_2, target_names=target_names))"
   ]
  },
  {
   "cell_type": "code",
   "execution_count": 27,
   "id": "747e812a",
   "metadata": {
    "scrolled": false
   },
   "outputs": [
    {
     "data": {
      "image/png": "[encoded data removed]",
      "text/plain": [
       "<Figure size 640x480 with 2 Axes>"
      ]
     },
     "metadata": {},
     "output_type": "display_data"
    }
   ],
   "source": [
    "cm_final_model = confusion_matrix(Y_test, Y_pred_cat_2)\n",
    "ax = sns.heatmap(cm_final_model, annot=True, annot_kws={\"size\": 10}, cmap='Blues', fmt=\"d\")\n",
    "ax.set_title('      Confusion Matrix - ANN - DF2 (Undersampled)\\n')\n",
    "ax.set_xlabel('\\nPredicted Values')\n",
    "ax.set_ylabel('Actual Values ');\n",
    "plt.show()"
   ]
  },
  {
   "cell_type": "code",
   "execution_count": 28,
   "id": "812d28cb",
   "metadata": {
    "scrolled": false
   },
   "outputs": [
    {
     "data": {
      "image/png": "[encoded data removed]",
      "text/plain": [
       "<Figure size 640x480 with 1 Axes>"
      ]
     },
     "metadata": {},
     "output_type": "display_data"
    }
   ],
   "source": [
    "fpr, tpr, thresholds = roc_curve(Y_test, Y_pred_2)\n",
    "plt.plot([0,1],[0,1],'k--')\n",
    "plt.plot(fpr,tpr, label='ANN')\n",
    "plt.xlabel('False Positive Rate (FPR)')\n",
    "plt.ylabel('True Positive Rate (TPR)')\n",
    "plt.title('ROC curve - ANN - DF2 (Undersampled)')\n",
    "plt.show()"
   ]
  },
  {
   "cell_type": "code",
   "execution_count": 29,
   "id": "42adb67c",
   "metadata": {},
   "outputs": [
    {
     "data": {
      "text/plain": [
       "0.9886624982741277"
      ]
     },
     "execution_count": 29,
     "metadata": {},
     "output_type": "execute_result"
    }
   ],
   "source": [
    "roc_auc_score(Y_test, Y_pred_2)"
   ]
  }
 ],
 "metadata": {
  "kernelspec": {
   "display_name": "Python 3 (ipykernel)",
   "language": "python",
   "name": "python3"
  },
  "language_info": {
   "codemirror_mode": {
    "name": "ipython",
    "version": 3
   },
   "file_extension": ".py",
   "mimetype": "text/x-python",
   "name": "python",
   "nbconvert_exporter": "python",
   "pygments_lexer": "ipython3",
   "version": "3.9.12"
  }
 },
 "nbformat": 4,
 "nbformat_minor": 5
}
