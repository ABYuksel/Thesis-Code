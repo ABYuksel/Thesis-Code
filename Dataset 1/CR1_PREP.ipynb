{
 "cells": [
  {
   "cell_type": "markdown",
   "id": "196fa4bb",
   "metadata": {},
   "source": [
    "In this notebook, I will be doing:\n",
    " 1. **Exploratory Data Analysis (EDA)** to highlight several important aspects of the dataset which  will be used to answer some research questions underpinning my thesis.\n",
    " 2. **Outlier Detection**\n",
    " 3. **Missing Data Imputation**\n",
    " \n",
    "After doing those, the final dataset (wrangled) will be fed into some models which will be compared on some accuracy metrics."
   ]
  },
  {
   "cell_type": "markdown",
   "id": "137fb013",
   "metadata": {},
   "source": [
    "### <font color='red'> 1) Import Packages and Load Dataset"
   ]
  },
  {
   "cell_type": "code",
   "execution_count": 2,
   "id": "feae1c1f",
   "metadata": {},
   "outputs": [],
   "source": [
    "import numpy as np\n",
    "import pandas as pd\n",
    "import matplotlib.pyplot as plt\n",
    "import seaborn as sns"
   ]
  },
  {
   "cell_type": "code",
   "execution_count": 3,
   "id": "178240ea",
   "metadata": {
    "scrolled": true
   },
   "outputs": [
    {
     "data": {
      "text/html": [
       "<div>\n",
       "<style scoped>\n",
       "    .dataframe tbody tr th:only-of-type {\n",
       "        vertical-align: middle;\n",
       "    }\n",
       "\n",
       "    .dataframe tbody tr th {\n",
       "        vertical-align: top;\n",
       "    }\n",
       "\n",
       "    .dataframe thead th {\n",
       "        text-align: right;\n",
       "    }\n",
       "</style>\n",
       "<table border=\"1\" class=\"dataframe\">\n",
       "  <thead>\n",
       "    <tr style=\"text-align: right;\">\n",
       "      <th></th>\n",
       "      <th>person_age</th>\n",
       "      <th>person_income</th>\n",
       "      <th>person_home_ownership</th>\n",
       "      <th>person_emp_length</th>\n",
       "      <th>loan_intent</th>\n",
       "      <th>loan_grade</th>\n",
       "      <th>loan_amnt</th>\n",
       "      <th>loan_int_rate</th>\n",
       "      <th>loan_status</th>\n",
       "      <th>loan_percent_income</th>\n",
       "      <th>cb_person_default_on_file</th>\n",
       "      <th>cb_person_cred_hist_length</th>\n",
       "    </tr>\n",
       "  </thead>\n",
       "  <tbody>\n",
       "    <tr>\n",
       "      <th>0</th>\n",
       "      <td>22</td>\n",
       "      <td>59000</td>\n",
       "      <td>RENT</td>\n",
       "      <td>123.0</td>\n",
       "      <td>PERSONAL</td>\n",
       "      <td>D</td>\n",
       "      <td>35000</td>\n",
       "      <td>16.02</td>\n",
       "      <td>1</td>\n",
       "      <td>0.59</td>\n",
       "      <td>Y</td>\n",
       "      <td>3</td>\n",
       "    </tr>\n",
       "    <tr>\n",
       "      <th>1</th>\n",
       "      <td>21</td>\n",
       "      <td>9600</td>\n",
       "      <td>OWN</td>\n",
       "      <td>5.0</td>\n",
       "      <td>EDUCATION</td>\n",
       "      <td>B</td>\n",
       "      <td>1000</td>\n",
       "      <td>11.14</td>\n",
       "      <td>0</td>\n",
       "      <td>0.10</td>\n",
       "      <td>N</td>\n",
       "      <td>2</td>\n",
       "    </tr>\n",
       "    <tr>\n",
       "      <th>2</th>\n",
       "      <td>25</td>\n",
       "      <td>9600</td>\n",
       "      <td>MORTGAGE</td>\n",
       "      <td>1.0</td>\n",
       "      <td>MEDICAL</td>\n",
       "      <td>C</td>\n",
       "      <td>5500</td>\n",
       "      <td>12.87</td>\n",
       "      <td>1</td>\n",
       "      <td>0.57</td>\n",
       "      <td>N</td>\n",
       "      <td>3</td>\n",
       "    </tr>\n",
       "    <tr>\n",
       "      <th>...</th>\n",
       "      <td>...</td>\n",
       "      <td>...</td>\n",
       "      <td>...</td>\n",
       "      <td>...</td>\n",
       "      <td>...</td>\n",
       "      <td>...</td>\n",
       "      <td>...</td>\n",
       "      <td>...</td>\n",
       "      <td>...</td>\n",
       "      <td>...</td>\n",
       "      <td>...</td>\n",
       "      <td>...</td>\n",
       "    </tr>\n",
       "    <tr>\n",
       "      <th>32578</th>\n",
       "      <td>65</td>\n",
       "      <td>76000</td>\n",
       "      <td>RENT</td>\n",
       "      <td>3.0</td>\n",
       "      <td>HOMEIMPROVEMENT</td>\n",
       "      <td>B</td>\n",
       "      <td>35000</td>\n",
       "      <td>10.99</td>\n",
       "      <td>1</td>\n",
       "      <td>0.46</td>\n",
       "      <td>N</td>\n",
       "      <td>28</td>\n",
       "    </tr>\n",
       "    <tr>\n",
       "      <th>32579</th>\n",
       "      <td>56</td>\n",
       "      <td>150000</td>\n",
       "      <td>MORTGAGE</td>\n",
       "      <td>5.0</td>\n",
       "      <td>PERSONAL</td>\n",
       "      <td>B</td>\n",
       "      <td>15000</td>\n",
       "      <td>11.48</td>\n",
       "      <td>0</td>\n",
       "      <td>0.10</td>\n",
       "      <td>N</td>\n",
       "      <td>26</td>\n",
       "    </tr>\n",
       "    <tr>\n",
       "      <th>32580</th>\n",
       "      <td>66</td>\n",
       "      <td>42000</td>\n",
       "      <td>RENT</td>\n",
       "      <td>2.0</td>\n",
       "      <td>MEDICAL</td>\n",
       "      <td>B</td>\n",
       "      <td>6475</td>\n",
       "      <td>9.99</td>\n",
       "      <td>0</td>\n",
       "      <td>0.15</td>\n",
       "      <td>N</td>\n",
       "      <td>30</td>\n",
       "    </tr>\n",
       "  </tbody>\n",
       "</table>\n",
       "<p>32581 rows × 12 columns</p>\n",
       "</div>"
      ],
      "text/plain": [
       "       person_age  person_income person_home_ownership  person_emp_length  \\\n",
       "0              22          59000                  RENT              123.0   \n",
       "1              21           9600                   OWN                5.0   \n",
       "2              25           9600              MORTGAGE                1.0   \n",
       "...           ...            ...                   ...                ...   \n",
       "32578          65          76000                  RENT                3.0   \n",
       "32579          56         150000              MORTGAGE                5.0   \n",
       "32580          66          42000                  RENT                2.0   \n",
       "\n",
       "           loan_intent loan_grade  loan_amnt  loan_int_rate  loan_status  \\\n",
       "0             PERSONAL          D      35000          16.02            1   \n",
       "1            EDUCATION          B       1000          11.14            0   \n",
       "2              MEDICAL          C       5500          12.87            1   \n",
       "...                ...        ...        ...            ...          ...   \n",
       "32578  HOMEIMPROVEMENT          B      35000          10.99            1   \n",
       "32579         PERSONAL          B      15000          11.48            0   \n",
       "32580          MEDICAL          B       6475           9.99            0   \n",
       "\n",
       "       loan_percent_income cb_person_default_on_file  \\\n",
       "0                     0.59                         Y   \n",
       "1                     0.10                         N   \n",
       "2                     0.57                         N   \n",
       "...                    ...                       ...   \n",
       "32578                 0.46                         N   \n",
       "32579                 0.10                         N   \n",
       "32580                 0.15                         N   \n",
       "\n",
       "       cb_person_cred_hist_length  \n",
       "0                               3  \n",
       "1                               2  \n",
       "2                               3  \n",
       "...                           ...  \n",
       "32578                          28  \n",
       "32579                          26  \n",
       "32580                          30  \n",
       "\n",
       "[32581 rows x 12 columns]"
      ]
     },
     "execution_count": 3,
     "metadata": {},
     "output_type": "execute_result"
    }
   ],
   "source": [
    "pd.set_option(\"display.max_rows\", 6)\n",
    "df = pd.read_csv(\"CR1_Data_Raw.csv\", header=0, skiprows=0)\n",
    "df"
   ]
  },
  {
   "cell_type": "markdown",
   "id": "2c9f5d52",
   "metadata": {},
   "source": [
    "### <font color='red'>2) Overview of the Dataset"
   ]
  },
  {
   "cell_type": "code",
   "execution_count": 4,
   "id": "a5cad071",
   "metadata": {
    "scrolled": false
   },
   "outputs": [
    {
     "name": "stdout",
     "output_type": "stream",
     "text": [
      "We have 32581 rows and 12 columns in our dataset.\n",
      "\n",
      "The name of the columns are:\n",
      "   person_age\n",
      "   person_income\n",
      "   person_home_ownership\n",
      "   person_emp_length\n",
      "   loan_intent\n",
      "   loan_grade\n",
      "   loan_amnt\n",
      "   loan_int_rate\n",
      "   loan_status\n",
      "   loan_percent_income\n",
      "   cb_person_default_on_file\n",
      "   cb_person_cred_hist_length\n"
     ]
    }
   ],
   "source": [
    "print(f\"We have {df.shape[0]} rows and {df.shape[1]} columns in our dataset.\", end=\"\\n\\n\")\n",
    "print(\"The name of the columns are:\\n\", \"\\n   \".join(list(df.columns)), sep=\"   \")"
   ]
  },
  {
   "cell_type": "code",
   "execution_count": 5,
   "id": "b22a411e",
   "metadata": {
    "scrolled": false
   },
   "outputs": [
    {
     "name": "stdout",
     "output_type": "stream",
     "text": [
      "<class 'pandas.core.frame.DataFrame'>\n",
      "RangeIndex: 32581 entries, 0 to 32580\n",
      "Data columns (total 12 columns):\n",
      " #   Column                      Non-Null Count  Dtype  \n",
      "---  ------                      --------------  -----  \n",
      " 0   person_age                  32581 non-null  int64  \n",
      " 1   person_income               32581 non-null  int64  \n",
      " 2   person_home_ownership       32581 non-null  object \n",
      " 3   person_emp_length           31686 non-null  float64\n",
      " 4   loan_intent                 32581 non-null  object \n",
      " 5   loan_grade                  32581 non-null  object \n",
      " 6   loan_amnt                   32581 non-null  int64  \n",
      " 7   loan_int_rate               29465 non-null  float64\n",
      " 8   loan_status                 32581 non-null  int64  \n",
      " 9   loan_percent_income         32581 non-null  float64\n",
      " 10  cb_person_default_on_file   32581 non-null  object \n",
      " 11  cb_person_cred_hist_length  32581 non-null  int64  \n",
      "dtypes: float64(3), int64(5), object(4)\n",
      "memory usage: 3.0+ MB\n"
     ]
    }
   ],
   "source": [
    "df.info()"
   ]
  },
  {
   "cell_type": "markdown",
   "id": "977a52b4",
   "metadata": {},
   "source": [
    "* There are 8 numeric and 4 categorical columns in the dataset."
   ]
  },
  {
   "cell_type": "code",
   "execution_count": 6,
   "id": "f2ab77c7",
   "metadata": {
    "scrolled": true
   },
   "outputs": [
    {
     "data": {
      "text/html": [
       "<div>\n",
       "<style scoped>\n",
       "    .dataframe tbody tr th:only-of-type {\n",
       "        vertical-align: middle;\n",
       "    }\n",
       "\n",
       "    .dataframe tbody tr th {\n",
       "        vertical-align: top;\n",
       "    }\n",
       "\n",
       "    .dataframe thead th {\n",
       "        text-align: right;\n",
       "    }\n",
       "</style>\n",
       "<table border=\"1\" class=\"dataframe\">\n",
       "  <thead>\n",
       "    <tr style=\"text-align: right;\">\n",
       "      <th></th>\n",
       "      <th>person_age</th>\n",
       "      <th>person_income</th>\n",
       "      <th>person_emp_length</th>\n",
       "      <th>loan_amnt</th>\n",
       "      <th>loan_int_rate</th>\n",
       "      <th>loan_status</th>\n",
       "      <th>loan_percent_income</th>\n",
       "      <th>cb_person_cred_hist_length</th>\n",
       "    </tr>\n",
       "  </thead>\n",
       "  <tbody>\n",
       "    <tr>\n",
       "      <th>count</th>\n",
       "      <td>32581.00</td>\n",
       "      <td>32581.00</td>\n",
       "      <td>31686.00</td>\n",
       "      <td>32581.00</td>\n",
       "      <td>29465.00</td>\n",
       "      <td>32581.00</td>\n",
       "      <td>32581.00</td>\n",
       "      <td>32581.00</td>\n",
       "    </tr>\n",
       "    <tr>\n",
       "      <th>mean</th>\n",
       "      <td>27.73</td>\n",
       "      <td>66074.85</td>\n",
       "      <td>4.79</td>\n",
       "      <td>9589.37</td>\n",
       "      <td>11.01</td>\n",
       "      <td>0.22</td>\n",
       "      <td>0.17</td>\n",
       "      <td>5.80</td>\n",
       "    </tr>\n",
       "    <tr>\n",
       "      <th>std</th>\n",
       "      <td>6.35</td>\n",
       "      <td>61983.12</td>\n",
       "      <td>4.14</td>\n",
       "      <td>6322.09</td>\n",
       "      <td>3.24</td>\n",
       "      <td>0.41</td>\n",
       "      <td>0.11</td>\n",
       "      <td>4.06</td>\n",
       "    </tr>\n",
       "    <tr>\n",
       "      <th>min</th>\n",
       "      <td>20.00</td>\n",
       "      <td>4000.00</td>\n",
       "      <td>0.00</td>\n",
       "      <td>500.00</td>\n",
       "      <td>5.42</td>\n",
       "      <td>0.00</td>\n",
       "      <td>0.00</td>\n",
       "      <td>2.00</td>\n",
       "    </tr>\n",
       "    <tr>\n",
       "      <th>1%</th>\n",
       "      <td>21.00</td>\n",
       "      <td>14400.00</td>\n",
       "      <td>0.00</td>\n",
       "      <td>1000.00</td>\n",
       "      <td>5.42</td>\n",
       "      <td>0.00</td>\n",
       "      <td>0.02</td>\n",
       "      <td>2.00</td>\n",
       "    </tr>\n",
       "    <tr>\n",
       "      <th>10%</th>\n",
       "      <td>22.00</td>\n",
       "      <td>28590.00</td>\n",
       "      <td>0.00</td>\n",
       "      <td>3000.00</td>\n",
       "      <td>6.91</td>\n",
       "      <td>0.00</td>\n",
       "      <td>0.05</td>\n",
       "      <td>2.00</td>\n",
       "    </tr>\n",
       "    <tr>\n",
       "      <th>25%</th>\n",
       "      <td>23.00</td>\n",
       "      <td>38500.00</td>\n",
       "      <td>2.00</td>\n",
       "      <td>5000.00</td>\n",
       "      <td>7.90</td>\n",
       "      <td>0.00</td>\n",
       "      <td>0.09</td>\n",
       "      <td>3.00</td>\n",
       "    </tr>\n",
       "    <tr>\n",
       "      <th>50%</th>\n",
       "      <td>26.00</td>\n",
       "      <td>55000.00</td>\n",
       "      <td>4.00</td>\n",
       "      <td>8000.00</td>\n",
       "      <td>10.99</td>\n",
       "      <td>0.00</td>\n",
       "      <td>0.15</td>\n",
       "      <td>4.00</td>\n",
       "    </tr>\n",
       "    <tr>\n",
       "      <th>75%</th>\n",
       "      <td>30.00</td>\n",
       "      <td>79200.00</td>\n",
       "      <td>7.00</td>\n",
       "      <td>12200.00</td>\n",
       "      <td>13.47</td>\n",
       "      <td>0.00</td>\n",
       "      <td>0.23</td>\n",
       "      <td>8.00</td>\n",
       "    </tr>\n",
       "    <tr>\n",
       "      <th>90%</th>\n",
       "      <td>36.00</td>\n",
       "      <td>110004.00</td>\n",
       "      <td>10.00</td>\n",
       "      <td>19000.00</td>\n",
       "      <td>15.30</td>\n",
       "      <td>1.00</td>\n",
       "      <td>0.32</td>\n",
       "      <td>11.00</td>\n",
       "    </tr>\n",
       "    <tr>\n",
       "      <th>99%</th>\n",
       "      <td>50.00</td>\n",
       "      <td>225200.00</td>\n",
       "      <td>18.00</td>\n",
       "      <td>29800.00</td>\n",
       "      <td>18.62</td>\n",
       "      <td>1.00</td>\n",
       "      <td>0.50</td>\n",
       "      <td>17.00</td>\n",
       "    </tr>\n",
       "    <tr>\n",
       "      <th>max</th>\n",
       "      <td>144.00</td>\n",
       "      <td>6000000.00</td>\n",
       "      <td>123.00</td>\n",
       "      <td>35000.00</td>\n",
       "      <td>23.22</td>\n",
       "      <td>1.00</td>\n",
       "      <td>0.83</td>\n",
       "      <td>30.00</td>\n",
       "    </tr>\n",
       "  </tbody>\n",
       "</table>\n",
       "</div>"
      ],
      "text/plain": [
       "       person_age  person_income  person_emp_length  loan_amnt  loan_int_rate  \\\n",
       "count    32581.00       32581.00           31686.00   32581.00       29465.00   \n",
       "mean        27.73       66074.85               4.79    9589.37          11.01   \n",
       "std          6.35       61983.12               4.14    6322.09           3.24   \n",
       "min         20.00        4000.00               0.00     500.00           5.42   \n",
       "1%          21.00       14400.00               0.00    1000.00           5.42   \n",
       "10%         22.00       28590.00               0.00    3000.00           6.91   \n",
       "25%         23.00       38500.00               2.00    5000.00           7.90   \n",
       "50%         26.00       55000.00               4.00    8000.00          10.99   \n",
       "75%         30.00       79200.00               7.00   12200.00          13.47   \n",
       "90%         36.00      110004.00              10.00   19000.00          15.30   \n",
       "99%         50.00      225200.00              18.00   29800.00          18.62   \n",
       "max        144.00     6000000.00             123.00   35000.00          23.22   \n",
       "\n",
       "       loan_status  loan_percent_income  cb_person_cred_hist_length  \n",
       "count     32581.00             32581.00                    32581.00  \n",
       "mean          0.22                 0.17                        5.80  \n",
       "std           0.41                 0.11                        4.06  \n",
       "min           0.00                 0.00                        2.00  \n",
       "1%            0.00                 0.02                        2.00  \n",
       "10%           0.00                 0.05                        2.00  \n",
       "25%           0.00                 0.09                        3.00  \n",
       "50%           0.00                 0.15                        4.00  \n",
       "75%           0.00                 0.23                        8.00  \n",
       "90%           1.00                 0.32                       11.00  \n",
       "99%           1.00                 0.50                       17.00  \n",
       "max           1.00                 0.83                       30.00  "
      ]
     },
     "execution_count": 6,
     "metadata": {},
     "output_type": "execute_result"
    }
   ],
   "source": [
    "pd.set_option('display.float_format', lambda x: '%.2f' % x)\n",
    "pd.set_option(\"display.max_rows\", None)\n",
    "df.select_dtypes(include=[\"number\"]).describe([0.01,0.1,0.25,0.5,0.75,0.9,0.99])"
   ]
  },
  {
   "cell_type": "markdown",
   "id": "b6333c18",
   "metadata": {},
   "source": [
    "* When we look at the statistics above, it can be seen that there are some outliers in some attributes which can be detected from the great differences between 99% percentile value and the maximum."
   ]
  },
  {
   "cell_type": "code",
   "execution_count": 7,
   "id": "9324842b",
   "metadata": {},
   "outputs": [
    {
     "data": {
      "text/html": [
       "<div>\n",
       "<style scoped>\n",
       "    .dataframe tbody tr th:only-of-type {\n",
       "        vertical-align: middle;\n",
       "    }\n",
       "\n",
       "    .dataframe tbody tr th {\n",
       "        vertical-align: top;\n",
       "    }\n",
       "\n",
       "    .dataframe thead th {\n",
       "        text-align: right;\n",
       "    }\n",
       "</style>\n",
       "<table border=\"1\" class=\"dataframe\">\n",
       "  <thead>\n",
       "    <tr style=\"text-align: right;\">\n",
       "      <th></th>\n",
       "      <th>person_home_ownership</th>\n",
       "      <th>loan_intent</th>\n",
       "      <th>loan_grade</th>\n",
       "      <th>cb_person_default_on_file</th>\n",
       "    </tr>\n",
       "  </thead>\n",
       "  <tbody>\n",
       "    <tr>\n",
       "      <th>count</th>\n",
       "      <td>32581</td>\n",
       "      <td>32581</td>\n",
       "      <td>32581</td>\n",
       "      <td>32581</td>\n",
       "    </tr>\n",
       "    <tr>\n",
       "      <th>unique</th>\n",
       "      <td>4</td>\n",
       "      <td>6</td>\n",
       "      <td>7</td>\n",
       "      <td>2</td>\n",
       "    </tr>\n",
       "    <tr>\n",
       "      <th>top</th>\n",
       "      <td>RENT</td>\n",
       "      <td>EDUCATION</td>\n",
       "      <td>A</td>\n",
       "      <td>N</td>\n",
       "    </tr>\n",
       "    <tr>\n",
       "      <th>freq</th>\n",
       "      <td>16446</td>\n",
       "      <td>6453</td>\n",
       "      <td>10777</td>\n",
       "      <td>26836</td>\n",
       "    </tr>\n",
       "  </tbody>\n",
       "</table>\n",
       "</div>"
      ],
      "text/plain": [
       "       person_home_ownership loan_intent loan_grade cb_person_default_on_file\n",
       "count                  32581       32581      32581                     32581\n",
       "unique                     4           6          7                         2\n",
       "top                     RENT   EDUCATION          A                         N\n",
       "freq                   16446        6453      10777                     26836"
      ]
     },
     "execution_count": 7,
     "metadata": {},
     "output_type": "execute_result"
    }
   ],
   "source": [
    "df.select_dtypes(include=[\"object\"]).describe()"
   ]
  },
  {
   "cell_type": "markdown",
   "id": "c34e8f9a",
   "metadata": {},
   "source": [
    "* In two attributes, we have some missing (null) values, which will be treated (imputed or deleted) later in accordance with some methodologies in the literature."
   ]
  },
  {
   "cell_type": "code",
   "execution_count": 8,
   "id": "2de43e72",
   "metadata": {
    "scrolled": false
   },
   "outputs": [
    {
     "data": {
      "text/plain": [
       "person_age                       0\n",
       "person_income                    0\n",
       "person_home_ownership            0\n",
       "person_emp_length              895\n",
       "loan_intent                      0\n",
       "loan_grade                       0\n",
       "loan_amnt                        0\n",
       "loan_int_rate                 3116\n",
       "loan_status                      0\n",
       "loan_percent_income              0\n",
       "cb_person_default_on_file        0\n",
       "cb_person_cred_hist_length       0\n",
       "dtype: int64"
      ]
     },
     "execution_count": 8,
     "metadata": {},
     "output_type": "execute_result"
    }
   ],
   "source": [
    "pd.set_option(\"display.max_rows\", None)\n",
    "df.isnull().sum(axis=0)"
   ]
  },
  {
   "cell_type": "markdown",
   "id": "52f598ee",
   "metadata": {},
   "source": [
    "### <font color='peru'> 3) Correlation Matrix"
   ]
  },
  {
   "cell_type": "markdown",
   "id": "adac339c",
   "metadata": {},
   "source": [
    "* All the values in the correlation matrix below  lead to weak linear relationship between numerical variables. Therefore, rather than statistical techniques such as logistic regression, some other advanced techniques could have more predictive value on our dataset. However, some combination of those variables could be useful when estimating via a regression model."
   ]
  },
  {
   "cell_type": "code",
   "execution_count": 9,
   "id": "9be2ae05",
   "metadata": {
    "scrolled": true
   },
   "outputs": [
    {
     "data": {
      "image/png": "[encoded data removed]",
      "text/plain": [
       "<Figure size 640x480 with 2 Axes>"
      ]
     },
     "metadata": {},
     "output_type": "display_data"
    }
   ],
   "source": [
    "corr_mat = df.corr()\n",
    "corr_mat\n",
    "\n",
    "sns.heatmap(corr_mat, annot=True)\n",
    "plt.show()"
   ]
  },
  {
   "cell_type": "markdown",
   "id": "d58e8bc0",
   "metadata": {},
   "source": [
    "### <font color='peru'>4) Useful Figures"
   ]
  },
  {
   "cell_type": "markdown",
   "id": "d406e95c",
   "metadata": {},
   "source": [
    "#### <font color='navyblue'> a - Loan Status"
   ]
  },
  {
   "cell_type": "markdown",
   "id": "d2e4ce21",
   "metadata": {},
   "source": [
    "* Nearly 22% of the customers have defaulted on their loan."
   ]
  },
  {
   "cell_type": "code",
   "execution_count": 36,
   "id": "0c26aa75",
   "metadata": {
    "scrolled": false
   },
   "outputs": [
    {
     "data": {
      "image/png": "[encoded data removed]",
      "text/plain": [
       "<Figure size 1000x400 with 1 Axes>"
      ]
     },
     "metadata": {},
     "output_type": "display_data"
    }
   ],
   "source": [
    "plt.figure(figsize=(10,4))\n",
    "\n",
    "default_perc = (df[\"loan_status\"].value_counts() / len(df[\"loan_status\"]) * 100)\n",
    "\n",
    "default_perc.plot(kind=\"pie\", legend=False, \n",
    "                 autopct='%1.0f%%', explode=(0.05,0.01), \n",
    "                 shadow=True, labels=[\"non-default (0)\",\"default (1)\"],\n",
    "                 startangle=110, ax=plt.subplot(111))\n",
    "plt.xlabel('',fontsize=17) \n",
    "plt.show()"
   ]
  },
  {
   "cell_type": "markdown",
   "id": "8dd67c32",
   "metadata": {},
   "source": [
    "#### <font color='navyblue'>b - Loan Status over Loan Grade "
   ]
  },
  {
   "cell_type": "markdown",
   "id": "0ed314a1",
   "metadata": {},
   "source": [
    "* As expected, better the loan grade, less the likelihood of being default on the loan"
   ]
  },
  {
   "cell_type": "code",
   "execution_count": 35,
   "id": "1c0c2d68",
   "metadata": {
    "scrolled": false
   },
   "outputs": [
    {
     "data": {
      "image/png": "[encoded data removed]",
      "text/plain": [
       "<Figure size 1500x500 with 1 Axes>"
      ]
     },
     "metadata": {},
     "output_type": "display_data"
    }
   ],
   "source": [
    "plt.figure(figsize=(15,5))\n",
    "sns.countplot(data=df, x=\"loan_grade\", hue=\"loan_status\", order=[\"A\",\"B\",\"C\",\"D\",\"E\",\"F\",\"G\"], palette=\"turbo\")\n",
    "plt.xlabel('Loan Grade',fontsize=17) \n",
    "plt.ylabel('Count',fontsize=15) \n",
    "plt.legend(title='Current Default', loc='upper right', labels=['Non-deafult (0)', 'Default (1)'])\n",
    "plt.show()"
   ]
  },
  {
   "cell_type": "code",
   "execution_count": 13,
   "id": "77cf8b8b",
   "metadata": {},
   "outputs": [
    {
     "data": {
      "text/plain": [
       "0.13237278223057694"
      ]
     },
     "execution_count": 13,
     "metadata": {},
     "output_type": "execute_result"
    }
   ],
   "source": [
    "from pandas import factorize\n",
    "\n",
    "labels, categories = factorize(df[\"loan_grade\"])\n",
    "df[\"labels\"] = labels\n",
    "abs(df[\"loan_status\"].corr(df[\"labels\"]))"
   ]
  },
  {
   "cell_type": "markdown",
   "id": "1fc46bac",
   "metadata": {},
   "source": [
    "#### <font color='navyblue'>c - Loan Status over Home Ownership"
   ]
  },
  {
   "cell_type": "markdown",
   "id": "e5a7b961",
   "metadata": {},
   "source": [
    "* default/non-default ratio is the highest in the category **\"RENT\"**."
   ]
  },
  {
   "cell_type": "code",
   "execution_count": 31,
   "id": "5e40579a",
   "metadata": {
    "scrolled": false
   },
   "outputs": [
    {
     "data": {
      "image/png": "[encoded data removed]",
      "text/plain": [
       "<Figure size 600x400 with 1 Axes>"
      ]
     },
     "metadata": {},
     "output_type": "display_data"
    }
   ],
   "source": [
    "plt.figure(figsize=(6,4))\n",
    "sns.countplot(data=df, x=\"person_home_ownership\", hue=\"loan_status\", palette=\"turbo\")\n",
    "plt.xlabel('Home Ownership',fontsize=13) \n",
    "plt.ylabel('Count',fontsize=13) \n",
    "plt.legend(title='Current Default', loc='upper right', labels=['Non-deafult (0)', 'Default (1)'])\n",
    "plt.show()"
   ]
  },
  {
   "cell_type": "code",
   "execution_count": 14,
   "id": "8d5cebd4",
   "metadata": {},
   "outputs": [
    {
     "data": {
      "text/plain": [
       "0.21871372738641676"
      ]
     },
     "execution_count": 14,
     "metadata": {},
     "output_type": "execute_result"
    }
   ],
   "source": [
    "labels, categories = factorize(df[\"person_home_ownership\"])\n",
    "df[\"labels\"] = labels\n",
    "abs(df[\"loan_status\"].corr(df[\"labels\"]))"
   ]
  },
  {
   "cell_type": "markdown",
   "id": "1c9a54f3",
   "metadata": {},
   "source": [
    "#### <font color='navyblue'>d - Loan Status over Loan Intent"
   ]
  },
  {
   "cell_type": "markdown",
   "id": "c965433e",
   "metadata": {},
   "source": [
    "* default/non-default ratio is the highest in the category **\"DEBTCONSOLIDATION\"**."
   ]
  },
  {
   "cell_type": "code",
   "execution_count": 25,
   "id": "09dac02b",
   "metadata": {
    "scrolled": false
   },
   "outputs": [
    {
     "data": {
      "image/png": "[encoded data removed]",
      "text/plain": [
       "<Figure size 1500x500 with 1 Axes>"
      ]
     },
     "metadata": {},
     "output_type": "display_data"
    }
   ],
   "source": [
    "plt.figure(figsize=(15,5))\n",
    "plt.xlabel('Deafult',fontsize=15) \n",
    "plt.ylabel('Count',fontsize=15) \n",
    "sns.countplot(data=df, x=\"loan_intent\", hue=\"loan_status\", palette=\"turbo\")\n",
    "plt.legend(title='Current Default', loc='upper right', labels=['Non-deafult (0)', 'Default (1)'])\n",
    "plt.show()"
   ]
  },
  {
   "cell_type": "code",
   "execution_count": 12,
   "id": "fa89f03c",
   "metadata": {},
   "outputs": [
    {
     "data": {
      "text/plain": [
       "0.06538102138982256"
      ]
     },
     "execution_count": 12,
     "metadata": {},
     "output_type": "execute_result"
    }
   ],
   "source": [
    "from pandas import factorize\n",
    "\n",
    "labels, categories = factorize(df[\"loan_intent\"])\n",
    "df[\"labels\"] = labels\n",
    "abs(df[\"loan_status\"].corr(df[\"labels\"]))"
   ]
  },
  {
   "cell_type": "markdown",
   "id": "423eba48",
   "metadata": {},
   "source": [
    "#### <font color='navyblue'>e - Loan Status over Past Defaults"
   ]
  },
  {
   "cell_type": "markdown",
   "id": "856512e8",
   "metadata": {},
   "source": [
    "* Having historical default could be an important sign for the next situation of the customer on his loan. "
   ]
  },
  {
   "cell_type": "code",
   "execution_count": 37,
   "id": "20f162f1",
   "metadata": {
    "scrolled": false
   },
   "outputs": [
    {
     "data": {
      "image/png": "[encoded data removed]",
      "text/plain": [
       "<Figure size 500x400 with 1 Axes>"
      ]
     },
     "metadata": {},
     "output_type": "display_data"
    }
   ],
   "source": [
    "plt.figure(figsize=(5,4))\n",
    "sns.countplot(data=df, x=\"cb_person_default_on_file\", hue=\"loan_status\", order=[\"N\", \"Y\"], palette=\"turbo\")\n",
    "plt.legend(title='Current Default', loc='upper right', labels=['Non-deafult (0)', 'Default (1)'])\n",
    "plt.xlabel('Historical Deafult',fontsize=13) \n",
    "plt.ylabel('Count',fontsize=13) \n",
    "plt.show()"
   ]
  },
  {
   "cell_type": "markdown",
   "id": "72c9a86f",
   "metadata": {},
   "source": [
    "#### <font color='navyblue'>f -  Loan/Income Distribution by Loan Status"
   ]
  },
  {
   "cell_type": "code",
   "execution_count": 15,
   "id": "9c2f8bb1",
   "metadata": {
    "scrolled": false
   },
   "outputs": [
    {
     "data": {
      "image/png": "[encoded data removed]",
      "text/plain": [
       "<Figure size 500x500 with 1 Axes>"
      ]
     },
     "metadata": {},
     "output_type": "display_data"
    }
   ],
   "source": [
    "df.plot(kind=\"box\", column = ['loan_percent_income'], by = 'loan_status', figsize=(5, 5))\n",
    "plt.title('Loan/Income by Loan Status')\n",
    "plt.suptitle('')\n",
    "\n",
    "plt.show()"
   ]
  },
  {
   "cell_type": "markdown",
   "id": "fa1afe7c",
   "metadata": {},
   "source": [
    "#### <font color='navyblue'>g - person_age - cb_person_cred_hist_length"
   ]
  },
  {
   "cell_type": "code",
   "execution_count": 16,
   "id": "0f2128d6",
   "metadata": {
    "scrolled": false
   },
   "outputs": [
    {
     "data": {
      "image/png": "[encoded data removed]",
      "text/plain": [
       "<Figure size 640x480 with 1 Axes>"
      ]
     },
     "metadata": {},
     "output_type": "display_data"
    }
   ],
   "source": [
    "df.plot(kind=\"scatter\", y=\"cb_person_cred_hist_length\", x=\"person_age\")\n",
    "plt.show()"
   ]
  },
  {
   "cell_type": "markdown",
   "id": "be157f43",
   "metadata": {},
   "source": [
    "#### <font color='navyblue'>h - Distribution of Ages"
   ]
  },
  {
   "cell_type": "code",
   "execution_count": 17,
   "id": "bd30b3d2",
   "metadata": {
    "scrolled": false
   },
   "outputs": [
    {
     "data": {
      "image/png": "[encoded data removed]",
      "text/plain": [
       "<Figure size 640x480 with 1 Axes>"
      ]
     },
     "metadata": {},
     "output_type": "display_data"
    }
   ],
   "source": [
    "df[\"person_age\"].plot.kde()\n",
    "\n",
    "plt.show()"
   ]
  },
  {
   "cell_type": "markdown",
   "id": "55fd847f",
   "metadata": {},
   "source": [
    "### <font color='peru'>5) Some Pivot Analysis on the Data"
   ]
  },
  {
   "cell_type": "code",
   "execution_count": 18,
   "id": "f06bfa9a",
   "metadata": {
    "scrolled": true
   },
   "outputs": [
    {
     "data": {
      "text/html": [
       "<div>\n",
       "<style scoped>\n",
       "    .dataframe tbody tr th:only-of-type {\n",
       "        vertical-align: middle;\n",
       "    }\n",
       "\n",
       "    .dataframe tbody tr th {\n",
       "        vertical-align: top;\n",
       "    }\n",
       "\n",
       "    .dataframe thead tr th {\n",
       "        text-align: left;\n",
       "    }\n",
       "\n",
       "    .dataframe thead tr:last-of-type th {\n",
       "        text-align: right;\n",
       "    }\n",
       "</style>\n",
       "<table border=\"1\" class=\"dataframe\">\n",
       "  <thead>\n",
       "    <tr>\n",
       "      <th>cb_person_default_on_file</th>\n",
       "      <th colspan=\"2\" halign=\"left\">N</th>\n",
       "      <th colspan=\"2\" halign=\"left\">Y</th>\n",
       "    </tr>\n",
       "    <tr>\n",
       "      <th>loan_status</th>\n",
       "      <th>0</th>\n",
       "      <th>1</th>\n",
       "      <th>0</th>\n",
       "      <th>1</th>\n",
       "    </tr>\n",
       "    <tr>\n",
       "      <th>loan_grade</th>\n",
       "      <th></th>\n",
       "      <th></th>\n",
       "      <th></th>\n",
       "      <th></th>\n",
       "    </tr>\n",
       "  </thead>\n",
       "  <tbody>\n",
       "    <tr>\n",
       "      <th>A</th>\n",
       "      <td>9704</td>\n",
       "      <td>1073</td>\n",
       "      <td>0</td>\n",
       "      <td>0</td>\n",
       "    </tr>\n",
       "    <tr>\n",
       "      <th>B</th>\n",
       "      <td>8750</td>\n",
       "      <td>1701</td>\n",
       "      <td>0</td>\n",
       "      <td>0</td>\n",
       "    </tr>\n",
       "    <tr>\n",
       "      <th>C</th>\n",
       "      <td>2504</td>\n",
       "      <td>698</td>\n",
       "      <td>2615</td>\n",
       "      <td>641</td>\n",
       "    </tr>\n",
       "    <tr>\n",
       "      <th>D</th>\n",
       "      <td>736</td>\n",
       "      <td>1014</td>\n",
       "      <td>749</td>\n",
       "      <td>1127</td>\n",
       "    </tr>\n",
       "    <tr>\n",
       "      <th>E</th>\n",
       "      <td>169</td>\n",
       "      <td>330</td>\n",
       "      <td>174</td>\n",
       "      <td>291</td>\n",
       "    </tr>\n",
       "    <tr>\n",
       "      <th>F</th>\n",
       "      <td>37</td>\n",
       "      <td>92</td>\n",
       "      <td>34</td>\n",
       "      <td>78</td>\n",
       "    </tr>\n",
       "    <tr>\n",
       "      <th>G</th>\n",
       "      <td>0</td>\n",
       "      <td>28</td>\n",
       "      <td>1</td>\n",
       "      <td>35</td>\n",
       "    </tr>\n",
       "  </tbody>\n",
       "</table>\n",
       "</div>"
      ],
      "text/plain": [
       "cb_person_default_on_file     N           Y      \n",
       "loan_status                   0     1     0     1\n",
       "loan_grade                                       \n",
       "A                          9704  1073     0     0\n",
       "B                          8750  1701     0     0\n",
       "C                          2504   698  2615   641\n",
       "D                           736  1014   749  1127\n",
       "E                           169   330   174   291\n",
       "F                            37    92    34    78\n",
       "G                             0    28     1    35"
      ]
     },
     "execution_count": 18,
     "metadata": {},
     "output_type": "execute_result"
    }
   ],
   "source": [
    "pd.crosstab(df[\"loan_grade\"], [df[\"cb_person_default_on_file\"], df[\"loan_status\"]])"
   ]
  },
  {
   "cell_type": "code",
   "execution_count": 19,
   "id": "dad65f6c",
   "metadata": {
    "scrolled": false
   },
   "outputs": [
    {
     "data": {
      "text/html": [
       "<div>\n",
       "<style scoped>\n",
       "    .dataframe tbody tr th:only-of-type {\n",
       "        vertical-align: middle;\n",
       "    }\n",
       "\n",
       "    .dataframe tbody tr th {\n",
       "        vertical-align: top;\n",
       "    }\n",
       "\n",
       "    .dataframe thead th {\n",
       "        text-align: right;\n",
       "    }\n",
       "</style>\n",
       "<table border=\"1\" class=\"dataframe\">\n",
       "  <thead>\n",
       "    <tr style=\"text-align: right;\">\n",
       "      <th>cb_person_default_on_file</th>\n",
       "      <th>N</th>\n",
       "      <th>Y</th>\n",
       "    </tr>\n",
       "    <tr>\n",
       "      <th>loan_grade</th>\n",
       "      <th></th>\n",
       "      <th></th>\n",
       "    </tr>\n",
       "  </thead>\n",
       "  <tbody>\n",
       "    <tr>\n",
       "      <th>A</th>\n",
       "      <td>0.099564</td>\n",
       "      <td>NaN</td>\n",
       "    </tr>\n",
       "    <tr>\n",
       "      <th>B</th>\n",
       "      <td>0.162760</td>\n",
       "      <td>NaN</td>\n",
       "    </tr>\n",
       "    <tr>\n",
       "      <th>C</th>\n",
       "      <td>0.217989</td>\n",
       "      <td>0.196867</td>\n",
       "    </tr>\n",
       "    <tr>\n",
       "      <th>D</th>\n",
       "      <td>0.579429</td>\n",
       "      <td>0.600746</td>\n",
       "    </tr>\n",
       "    <tr>\n",
       "      <th>E</th>\n",
       "      <td>0.661323</td>\n",
       "      <td>0.625806</td>\n",
       "    </tr>\n",
       "    <tr>\n",
       "      <th>F</th>\n",
       "      <td>0.713178</td>\n",
       "      <td>0.696429</td>\n",
       "    </tr>\n",
       "    <tr>\n",
       "      <th>G</th>\n",
       "      <td>1.000000</td>\n",
       "      <td>0.972222</td>\n",
       "    </tr>\n",
       "  </tbody>\n",
       "</table>\n",
       "</div>"
      ],
      "text/plain": [
       "cb_person_default_on_file         N         Y\n",
       "loan_grade                                   \n",
       "A                          0.099564       NaN\n",
       "B                          0.162760       NaN\n",
       "C                          0.217989  0.196867\n",
       "D                          0.579429  0.600746\n",
       "E                          0.661323  0.625806\n",
       "F                          0.713178  0.696429\n",
       "G                          1.000000  0.972222"
      ]
     },
     "execution_count": 19,
     "metadata": {},
     "output_type": "execute_result"
    }
   ],
   "source": [
    "pd.crosstab(df[\"loan_grade\"], df[\"cb_person_default_on_file\"], values=df[\"loan_status\"], aggfunc=\"mean\")"
   ]
  },
  {
   "cell_type": "code",
   "execution_count": 20,
   "id": "8dfb4569",
   "metadata": {
    "scrolled": false
   },
   "outputs": [
    {
     "data": {
      "text/html": [
       "<div>\n",
       "<style scoped>\n",
       "    .dataframe tbody tr th:only-of-type {\n",
       "        vertical-align: middle;\n",
       "    }\n",
       "\n",
       "    .dataframe tbody tr th {\n",
       "        vertical-align: top;\n",
       "    }\n",
       "\n",
       "    .dataframe thead th {\n",
       "        text-align: right;\n",
       "    }\n",
       "</style>\n",
       "<table border=\"1\" class=\"dataframe\">\n",
       "  <thead>\n",
       "    <tr style=\"text-align: right;\">\n",
       "      <th>loan_status</th>\n",
       "      <th>0</th>\n",
       "      <th>1</th>\n",
       "    </tr>\n",
       "    <tr>\n",
       "      <th>person_home_ownership</th>\n",
       "      <th></th>\n",
       "      <th></th>\n",
       "    </tr>\n",
       "  </thead>\n",
       "  <tbody>\n",
       "    <tr>\n",
       "      <th>MORTGAGE</th>\n",
       "      <td>0.87</td>\n",
       "      <td>0.13</td>\n",
       "    </tr>\n",
       "    <tr>\n",
       "      <th>OTHER</th>\n",
       "      <td>0.69</td>\n",
       "      <td>0.31</td>\n",
       "    </tr>\n",
       "    <tr>\n",
       "      <th>OWN</th>\n",
       "      <td>0.93</td>\n",
       "      <td>0.07</td>\n",
       "    </tr>\n",
       "    <tr>\n",
       "      <th>RENT</th>\n",
       "      <td>0.68</td>\n",
       "      <td>0.32</td>\n",
       "    </tr>\n",
       "  </tbody>\n",
       "</table>\n",
       "</div>"
      ],
      "text/plain": [
       "loan_status               0     1\n",
       "person_home_ownership            \n",
       "MORTGAGE               0.87  0.13\n",
       "OTHER                  0.69  0.31\n",
       "OWN                    0.93  0.07\n",
       "RENT                   0.68  0.32"
      ]
     },
     "execution_count": 20,
     "metadata": {},
     "output_type": "execute_result"
    }
   ],
   "source": [
    "pd.crosstab(df[\"person_home_ownership\"], df[\"loan_status\"], normalize=\"index\").round(2)"
   ]
  },
  {
   "cell_type": "code",
   "execution_count": 21,
   "id": "a6d29350",
   "metadata": {},
   "outputs": [
    {
     "data": {
      "text/html": [
       "<div>\n",
       "<style scoped>\n",
       "    .dataframe tbody tr th:only-of-type {\n",
       "        vertical-align: middle;\n",
       "    }\n",
       "\n",
       "    .dataframe tbody tr th {\n",
       "        vertical-align: top;\n",
       "    }\n",
       "\n",
       "    .dataframe thead tr th {\n",
       "        text-align: left;\n",
       "    }\n",
       "\n",
       "    .dataframe thead tr:last-of-type th {\n",
       "        text-align: right;\n",
       "    }\n",
       "</style>\n",
       "<table border=\"1\" class=\"dataframe\">\n",
       "  <thead>\n",
       "    <tr>\n",
       "      <th></th>\n",
       "      <th colspan=\"4\" halign=\"left\">min</th>\n",
       "      <th colspan=\"4\" halign=\"left\">max</th>\n",
       "    </tr>\n",
       "    <tr>\n",
       "      <th>person_home_ownership</th>\n",
       "      <th>MORTGAGE</th>\n",
       "      <th>OTHER</th>\n",
       "      <th>OWN</th>\n",
       "      <th>RENT</th>\n",
       "      <th>MORTGAGE</th>\n",
       "      <th>OTHER</th>\n",
       "      <th>OWN</th>\n",
       "      <th>RENT</th>\n",
       "    </tr>\n",
       "    <tr>\n",
       "      <th>loan_status</th>\n",
       "      <th></th>\n",
       "      <th></th>\n",
       "      <th></th>\n",
       "      <th></th>\n",
       "      <th></th>\n",
       "      <th></th>\n",
       "      <th></th>\n",
       "      <th></th>\n",
       "    </tr>\n",
       "  </thead>\n",
       "  <tbody>\n",
       "    <tr>\n",
       "      <th>0</th>\n",
       "      <td>0.0</td>\n",
       "      <td>0.0</td>\n",
       "      <td>0.0</td>\n",
       "      <td>0.0</td>\n",
       "      <td>123.0</td>\n",
       "      <td>24.0</td>\n",
       "      <td>31.0</td>\n",
       "      <td>41.0</td>\n",
       "    </tr>\n",
       "    <tr>\n",
       "      <th>1</th>\n",
       "      <td>0.0</td>\n",
       "      <td>0.0</td>\n",
       "      <td>0.0</td>\n",
       "      <td>0.0</td>\n",
       "      <td>34.0</td>\n",
       "      <td>11.0</td>\n",
       "      <td>17.0</td>\n",
       "      <td>123.0</td>\n",
       "    </tr>\n",
       "  </tbody>\n",
       "</table>\n",
       "</div>"
      ],
      "text/plain": [
       "                           min                      max                   \n",
       "person_home_ownership MORTGAGE OTHER  OWN RENT MORTGAGE OTHER   OWN   RENT\n",
       "loan_status                                                               \n",
       "0                          0.0   0.0  0.0  0.0    123.0  24.0  31.0   41.0\n",
       "1                          0.0   0.0  0.0  0.0     34.0  11.0  17.0  123.0"
      ]
     },
     "execution_count": 21,
     "metadata": {},
     "output_type": "execute_result"
    }
   ],
   "source": [
    "pd.crosstab(df['loan_status'], df['person_home_ownership'],\n",
    "            values=df['person_emp_length'], aggfunc=['min','max'])"
   ]
  },
  {
   "cell_type": "markdown",
   "id": "47d23b8e",
   "metadata": {},
   "source": [
    "### <font color='peru'>6) Outlier Detection"
   ]
  },
  {
   "cell_type": "markdown",
   "id": "941dc563",
   "metadata": {},
   "source": [
    "* As it is clearly seen from the figure below, there are a few outliers, which could have emerged due to some reasons (a.g. typo). As there are very less outliers in this regard, we can simply drop those data points from the dataset."
   ]
  },
  {
   "cell_type": "code",
   "execution_count": 22,
   "id": "ea378045",
   "metadata": {
    "scrolled": false
   },
   "outputs": [
    {
     "data": {
      "text/plain": [
       "<Figure size 300x300 with 0 Axes>"
      ]
     },
     "metadata": {},
     "output_type": "display_data"
    },
    {
     "data": {
      "image/png": "[encoded data removed]",
      "text/plain": [
       "<Figure size 640x480 with 1 Axes>"
      ]
     },
     "metadata": {},
     "output_type": "display_data"
    }
   ],
   "source": [
    "plt.figure(figsize=(3,3))\n",
    "\n",
    "df.plot.scatter(y=\"person_emp_length\", x=\"person_age\")\n",
    "\n",
    "plt.show()"
   ]
  },
  {
   "cell_type": "markdown",
   "id": "2d7a9eb1",
   "metadata": {},
   "source": [
    "* As the ages bigger than 120 are seen extremely rarely in real life, we dropped their corresponding data records."
   ]
  },
  {
   "cell_type": "code",
   "execution_count": 23,
   "id": "00ce681e",
   "metadata": {
    "scrolled": true
   },
   "outputs": [],
   "source": [
    "indices=df[df[\"person_age\"]>=120].index\n",
    "df.drop(indices, inplace=True)"
   ]
  },
  {
   "cell_type": "markdown",
   "id": "8370b5a6",
   "metadata": {},
   "source": [
    "* Due to some legal reasons, a person cannot start his/her employment before at some specific ages. In this case, that threshold is chosen to be 15 (making it 10 or 20 does not make any difference in our case). If we sum this threshold and the employment length up, we would get the minimum age that person can be. So, if the given age is below this figure, that means there is an error there, and the corresponding row should be removed from the dataset."
   ]
  },
  {
   "cell_type": "code",
   "execution_count": 24,
   "id": "c4c3eaa9",
   "metadata": {},
   "outputs": [],
   "source": [
    "indices=df[df[\"person_emp_length\"]+15>df[\"person_age\"]].index\n",
    "df.drop(indices, inplace=True)"
   ]
  },
  {
   "cell_type": "markdown",
   "id": "0cd29394",
   "metadata": {},
   "source": [
    "By performing the actions above, we would have deleted only 7 records out of 32.5k data points, which can be safely neglected."
   ]
  },
  {
   "cell_type": "code",
   "execution_count": 25,
   "id": "87a2dd37",
   "metadata": {
    "scrolled": true
   },
   "outputs": [
    {
     "data": {
      "text/plain": [
       "(32574, 12)"
      ]
     },
     "execution_count": 25,
     "metadata": {},
     "output_type": "execute_result"
    }
   ],
   "source": [
    "df.shape"
   ]
  },
  {
   "cell_type": "markdown",
   "id": "67691756",
   "metadata": {},
   "source": [
    "We only have one customer more than 90, which makes sense now considering the reality. The distribution of the age below validates this as well."
   ]
  },
  {
   "cell_type": "code",
   "execution_count": 26,
   "id": "b57a0fa6",
   "metadata": {
    "scrolled": false
   },
   "outputs": [
    {
     "data": {
      "text/plain": [
       "73    3\n",
       "70    2\n",
       "94    1\n",
       "84    1\n",
       "80    1\n",
       "78    1\n",
       "76    1\n",
       "Name: person_age, dtype: int64"
      ]
     },
     "execution_count": 26,
     "metadata": {},
     "output_type": "execute_result"
    }
   ],
   "source": [
    "df[\"person_age\"].nlargest(10).value_counts()"
   ]
  },
  {
   "cell_type": "markdown",
   "id": "afcdf6fd",
   "metadata": {},
   "source": [
    "### <font color='peru'>7) Missing Value Treatment"
   ]
  },
  {
   "cell_type": "markdown",
   "id": "24398ef3",
   "metadata": {},
   "source": [
    "Print an array of columns with null values"
   ]
  },
  {
   "cell_type": "code",
   "execution_count": 27,
   "id": "d1d5324c",
   "metadata": {
    "scrolled": true
   },
   "outputs": [
    {
     "data": {
      "text/plain": [
       "person_emp_length     895\n",
       "loan_int_rate        3115\n",
       "dtype: int64"
      ]
     },
     "execution_count": 27,
     "metadata": {},
     "output_type": "execute_result"
    }
   ],
   "source": [
    "null_columns = df.columns[df.isnull().any()]\n",
    "df[null_columns].isnull().sum()"
   ]
  },
  {
   "cell_type": "markdown",
   "id": "aa73e1dc",
   "metadata": {},
   "source": [
    "* A popular approach to missing data imputation is to use a model to predict the missing values. This requires a model to be created for each input variable that has missing values. Although any one among a range of different models can be used to predict the missing values, the k-nearest neighbor (KNN) algorithm has proven to be generally effective, often referred to as “nearest neighbor imputation.”\n",
    "\n",
    "* For all rows in which the target column is not missing, the scikit learn trains a regression model using the other columns as predicors. To put in another way, the null values under the target colun are predicted via a regression model which is trained by data points which have a value under that target column. A good way to modify the text data is to perform one-hot encoding or create “dummy variables”. The idea is to convert each category into a binary data column by assigning a 1 or 0. Other options would be to use LabelEncoder or OrdinalEncoder from Scikit-Learn’s preprocessing package.\n",
    "\n",
    "* The KNN Imputer does not recognize text data values. It will generate errors if we do not change these values to numerical values. "
   ]
  },
  {
   "cell_type": "code",
   "execution_count": 28,
   "id": "3b1ea16c",
   "metadata": {
    "scrolled": true
   },
   "outputs": [
    {
     "data": {
      "text/html": [
       "<div>\n",
       "<style scoped>\n",
       "    .dataframe tbody tr th:only-of-type {\n",
       "        vertical-align: middle;\n",
       "    }\n",
       "\n",
       "    .dataframe tbody tr th {\n",
       "        vertical-align: top;\n",
       "    }\n",
       "\n",
       "    .dataframe thead th {\n",
       "        text-align: right;\n",
       "    }\n",
       "</style>\n",
       "<table border=\"1\" class=\"dataframe\">\n",
       "  <thead>\n",
       "    <tr style=\"text-align: right;\">\n",
       "      <th></th>\n",
       "      <th>person_home_ownership_OTHER</th>\n",
       "      <th>person_home_ownership_OWN</th>\n",
       "      <th>person_home_ownership_RENT</th>\n",
       "      <th>loan_intent_EDUCATION</th>\n",
       "      <th>loan_intent_HOMEIMPROVEMENT</th>\n",
       "      <th>loan_intent_MEDICAL</th>\n",
       "      <th>loan_intent_PERSONAL</th>\n",
       "      <th>loan_intent_VENTURE</th>\n",
       "      <th>loan_grade_B</th>\n",
       "      <th>loan_grade_C</th>\n",
       "      <th>loan_grade_D</th>\n",
       "      <th>loan_grade_E</th>\n",
       "      <th>loan_grade_F</th>\n",
       "      <th>loan_grade_G</th>\n",
       "      <th>cb_person_default_on_file_Y</th>\n",
       "    </tr>\n",
       "  </thead>\n",
       "  <tbody>\n",
       "    <tr>\n",
       "      <th>1</th>\n",
       "      <td>0</td>\n",
       "      <td>1</td>\n",
       "      <td>0</td>\n",
       "      <td>1</td>\n",
       "      <td>0</td>\n",
       "      <td>0</td>\n",
       "      <td>0</td>\n",
       "      <td>0</td>\n",
       "      <td>1</td>\n",
       "      <td>0</td>\n",
       "      <td>0</td>\n",
       "      <td>0</td>\n",
       "      <td>0</td>\n",
       "      <td>0</td>\n",
       "      <td>0</td>\n",
       "    </tr>\n",
       "    <tr>\n",
       "      <th>2</th>\n",
       "      <td>0</td>\n",
       "      <td>0</td>\n",
       "      <td>0</td>\n",
       "      <td>0</td>\n",
       "      <td>0</td>\n",
       "      <td>1</td>\n",
       "      <td>0</td>\n",
       "      <td>0</td>\n",
       "      <td>0</td>\n",
       "      <td>1</td>\n",
       "      <td>0</td>\n",
       "      <td>0</td>\n",
       "      <td>0</td>\n",
       "      <td>0</td>\n",
       "      <td>0</td>\n",
       "    </tr>\n",
       "    <tr>\n",
       "      <th>3</th>\n",
       "      <td>0</td>\n",
       "      <td>0</td>\n",
       "      <td>1</td>\n",
       "      <td>0</td>\n",
       "      <td>0</td>\n",
       "      <td>1</td>\n",
       "      <td>0</td>\n",
       "      <td>0</td>\n",
       "      <td>0</td>\n",
       "      <td>1</td>\n",
       "      <td>0</td>\n",
       "      <td>0</td>\n",
       "      <td>0</td>\n",
       "      <td>0</td>\n",
       "      <td>0</td>\n",
       "    </tr>\n",
       "    <tr>\n",
       "      <th>4</th>\n",
       "      <td>0</td>\n",
       "      <td>0</td>\n",
       "      <td>1</td>\n",
       "      <td>0</td>\n",
       "      <td>0</td>\n",
       "      <td>1</td>\n",
       "      <td>0</td>\n",
       "      <td>0</td>\n",
       "      <td>0</td>\n",
       "      <td>1</td>\n",
       "      <td>0</td>\n",
       "      <td>0</td>\n",
       "      <td>0</td>\n",
       "      <td>0</td>\n",
       "      <td>1</td>\n",
       "    </tr>\n",
       "    <tr>\n",
       "      <th>5</th>\n",
       "      <td>0</td>\n",
       "      <td>1</td>\n",
       "      <td>0</td>\n",
       "      <td>0</td>\n",
       "      <td>0</td>\n",
       "      <td>0</td>\n",
       "      <td>0</td>\n",
       "      <td>1</td>\n",
       "      <td>0</td>\n",
       "      <td>0</td>\n",
       "      <td>0</td>\n",
       "      <td>0</td>\n",
       "      <td>0</td>\n",
       "      <td>0</td>\n",
       "      <td>0</td>\n",
       "    </tr>\n",
       "  </tbody>\n",
       "</table>\n",
       "</div>"
      ],
      "text/plain": [
       "   person_home_ownership_OTHER  person_home_ownership_OWN  \\\n",
       "1                            0                          1   \n",
       "2                            0                          0   \n",
       "3                            0                          0   \n",
       "4                            0                          0   \n",
       "5                            0                          1   \n",
       "\n",
       "   person_home_ownership_RENT  loan_intent_EDUCATION  \\\n",
       "1                           0                      1   \n",
       "2                           0                      0   \n",
       "3                           1                      0   \n",
       "4                           1                      0   \n",
       "5                           0                      0   \n",
       "\n",
       "   loan_intent_HOMEIMPROVEMENT  loan_intent_MEDICAL  loan_intent_PERSONAL  \\\n",
       "1                            0                    0                     0   \n",
       "2                            0                    1                     0   \n",
       "3                            0                    1                     0   \n",
       "4                            0                    1                     0   \n",
       "5                            0                    0                     0   \n",
       "\n",
       "   loan_intent_VENTURE  loan_grade_B  loan_grade_C  loan_grade_D  \\\n",
       "1                    0             1             0             0   \n",
       "2                    0             0             1             0   \n",
       "3                    0             0             1             0   \n",
       "4                    0             0             1             0   \n",
       "5                    1             0             0             0   \n",
       "\n",
       "   loan_grade_E  loan_grade_F  loan_grade_G  cb_person_default_on_file_Y  \n",
       "1             0             0             0                            0  \n",
       "2             0             0             0                            0  \n",
       "3             0             0             0                            0  \n",
       "4             0             0             0                            1  \n",
       "5             0             0             0                            0  "
      ]
     },
     "execution_count": 28,
     "metadata": {},
     "output_type": "execute_result"
    }
   ],
   "source": [
    "cat_variables = df[[\"person_home_ownership\", \"loan_intent\", \"loan_grade\", \"cb_person_default_on_file\"]]\n",
    "cat_dummies = pd.get_dummies(cat_variables, drop_first=True)\n",
    "cat_dummies.head()"
   ]
  },
  {
   "cell_type": "code",
   "execution_count": 29,
   "id": "2c6fa38a",
   "metadata": {},
   "outputs": [
    {
     "data": {
      "text/plain": [
       "(32574, 15)"
      ]
     },
     "execution_count": 29,
     "metadata": {},
     "output_type": "execute_result"
    }
   ],
   "source": [
    "cat_dummies.shape"
   ]
  },
  {
   "cell_type": "code",
   "execution_count": 30,
   "id": "468d1643",
   "metadata": {},
   "outputs": [
    {
     "data": {
      "text/plain": [
       "(32574, 23)"
      ]
     },
     "execution_count": 30,
     "metadata": {},
     "output_type": "execute_result"
    }
   ],
   "source": [
    "new_df = df.drop([\"person_home_ownership\", \"loan_intent\", \"loan_grade\", \"cb_person_default_on_file\"], axis=1)\n",
    "new_df = pd.concat([new_df, cat_dummies], axis=1)\n",
    "new_df.shape"
   ]
  },
  {
   "cell_type": "markdown",
   "id": "9f967afc",
   "metadata": {},
   "source": [
    "* Another critical point here is that the KNN Imptuer is a distance-based imputation method and it requires us to normalize our data. Otherwise, the different scales of our data will lead the KNN Imputer to generate biased replacements for the missing values. For simplicity, we will use Scikit-Learn’s MinMaxScaler which will scale our variables to have values between 0 and 1."
   ]
  },
  {
   "cell_type": "code",
   "execution_count": 31,
   "id": "b0797b12",
   "metadata": {},
   "outputs": [
    {
     "data": {
      "text/html": [
       "<div>\n",
       "<style scoped>\n",
       "    .dataframe tbody tr th:only-of-type {\n",
       "        vertical-align: middle;\n",
       "    }\n",
       "\n",
       "    .dataframe tbody tr th {\n",
       "        vertical-align: top;\n",
       "    }\n",
       "\n",
       "    .dataframe thead th {\n",
       "        text-align: right;\n",
       "    }\n",
       "</style>\n",
       "<table border=\"1\" class=\"dataframe\">\n",
       "  <thead>\n",
       "    <tr style=\"text-align: right;\">\n",
       "      <th></th>\n",
       "      <th>person_age</th>\n",
       "      <th>person_income</th>\n",
       "      <th>person_emp_length</th>\n",
       "      <th>loan_amnt</th>\n",
       "      <th>loan_int_rate</th>\n",
       "      <th>loan_status</th>\n",
       "      <th>loan_percent_income</th>\n",
       "      <th>cb_person_cred_hist_length</th>\n",
       "      <th>person_home_ownership_OTHER</th>\n",
       "      <th>person_home_ownership_OWN</th>\n",
       "      <th>...</th>\n",
       "      <th>loan_intent_MEDICAL</th>\n",
       "      <th>loan_intent_PERSONAL</th>\n",
       "      <th>loan_intent_VENTURE</th>\n",
       "      <th>loan_grade_B</th>\n",
       "      <th>loan_grade_C</th>\n",
       "      <th>loan_grade_D</th>\n",
       "      <th>loan_grade_E</th>\n",
       "      <th>loan_grade_F</th>\n",
       "      <th>loan_grade_G</th>\n",
       "      <th>cb_person_default_on_file_Y</th>\n",
       "    </tr>\n",
       "  </thead>\n",
       "  <tbody>\n",
       "    <tr>\n",
       "      <th>0</th>\n",
       "      <td>0.013514</td>\n",
       "      <td>0.002751</td>\n",
       "      <td>0.121951</td>\n",
       "      <td>0.014493</td>\n",
       "      <td>0.321348</td>\n",
       "      <td>0.0</td>\n",
       "      <td>0.120482</td>\n",
       "      <td>0.000000</td>\n",
       "      <td>0.0</td>\n",
       "      <td>1.0</td>\n",
       "      <td>...</td>\n",
       "      <td>0.0</td>\n",
       "      <td>0.0</td>\n",
       "      <td>0.0</td>\n",
       "      <td>1.0</td>\n",
       "      <td>0.0</td>\n",
       "      <td>0.0</td>\n",
       "      <td>0.0</td>\n",
       "      <td>0.0</td>\n",
       "      <td>0.0</td>\n",
       "      <td>0.0</td>\n",
       "    </tr>\n",
       "    <tr>\n",
       "      <th>1</th>\n",
       "      <td>0.067568</td>\n",
       "      <td>0.002751</td>\n",
       "      <td>0.024390</td>\n",
       "      <td>0.144928</td>\n",
       "      <td>0.418539</td>\n",
       "      <td>1.0</td>\n",
       "      <td>0.686747</td>\n",
       "      <td>0.035714</td>\n",
       "      <td>0.0</td>\n",
       "      <td>0.0</td>\n",
       "      <td>...</td>\n",
       "      <td>1.0</td>\n",
       "      <td>0.0</td>\n",
       "      <td>0.0</td>\n",
       "      <td>0.0</td>\n",
       "      <td>1.0</td>\n",
       "      <td>0.0</td>\n",
       "      <td>0.0</td>\n",
       "      <td>0.0</td>\n",
       "      <td>0.0</td>\n",
       "      <td>0.0</td>\n",
       "    </tr>\n",
       "    <tr>\n",
       "      <th>2</th>\n",
       "      <td>0.040541</td>\n",
       "      <td>0.030209</td>\n",
       "      <td>0.097561</td>\n",
       "      <td>1.000000</td>\n",
       "      <td>0.551124</td>\n",
       "      <td>1.0</td>\n",
       "      <td>0.638554</td>\n",
       "      <td>0.000000</td>\n",
       "      <td>0.0</td>\n",
       "      <td>0.0</td>\n",
       "      <td>...</td>\n",
       "      <td>1.0</td>\n",
       "      <td>0.0</td>\n",
       "      <td>0.0</td>\n",
       "      <td>0.0</td>\n",
       "      <td>1.0</td>\n",
       "      <td>0.0</td>\n",
       "      <td>0.0</td>\n",
       "      <td>0.0</td>\n",
       "      <td>0.0</td>\n",
       "      <td>0.0</td>\n",
       "    </tr>\n",
       "    <tr>\n",
       "      <th>3</th>\n",
       "      <td>0.054054</td>\n",
       "      <td>0.024757</td>\n",
       "      <td>0.195122</td>\n",
       "      <td>1.000000</td>\n",
       "      <td>0.497191</td>\n",
       "      <td>1.0</td>\n",
       "      <td>0.662651</td>\n",
       "      <td>0.071429</td>\n",
       "      <td>0.0</td>\n",
       "      <td>0.0</td>\n",
       "      <td>...</td>\n",
       "      <td>1.0</td>\n",
       "      <td>0.0</td>\n",
       "      <td>0.0</td>\n",
       "      <td>0.0</td>\n",
       "      <td>1.0</td>\n",
       "      <td>0.0</td>\n",
       "      <td>0.0</td>\n",
       "      <td>0.0</td>\n",
       "      <td>0.0</td>\n",
       "      <td>1.0</td>\n",
       "    </tr>\n",
       "    <tr>\n",
       "      <th>4</th>\n",
       "      <td>0.013514</td>\n",
       "      <td>0.002898</td>\n",
       "      <td>0.048780</td>\n",
       "      <td>0.057971</td>\n",
       "      <td>0.096629</td>\n",
       "      <td>1.0</td>\n",
       "      <td>0.301205</td>\n",
       "      <td>0.000000</td>\n",
       "      <td>0.0</td>\n",
       "      <td>1.0</td>\n",
       "      <td>...</td>\n",
       "      <td>0.0</td>\n",
       "      <td>0.0</td>\n",
       "      <td>1.0</td>\n",
       "      <td>0.0</td>\n",
       "      <td>0.0</td>\n",
       "      <td>0.0</td>\n",
       "      <td>0.0</td>\n",
       "      <td>0.0</td>\n",
       "      <td>0.0</td>\n",
       "      <td>0.0</td>\n",
       "    </tr>\n",
       "  </tbody>\n",
       "</table>\n",
       "<p>5 rows × 23 columns</p>\n",
       "</div>"
      ],
      "text/plain": [
       "   person_age  person_income  person_emp_length  loan_amnt  loan_int_rate  \\\n",
       "0    0.013514       0.002751           0.121951   0.014493       0.321348   \n",
       "1    0.067568       0.002751           0.024390   0.144928       0.418539   \n",
       "2    0.040541       0.030209           0.097561   1.000000       0.551124   \n",
       "3    0.054054       0.024757           0.195122   1.000000       0.497191   \n",
       "4    0.013514       0.002898           0.048780   0.057971       0.096629   \n",
       "\n",
       "   loan_status  loan_percent_income  cb_person_cred_hist_length  \\\n",
       "0          0.0             0.120482                    0.000000   \n",
       "1          1.0             0.686747                    0.035714   \n",
       "2          1.0             0.638554                    0.000000   \n",
       "3          1.0             0.662651                    0.071429   \n",
       "4          1.0             0.301205                    0.000000   \n",
       "\n",
       "   person_home_ownership_OTHER  person_home_ownership_OWN  ...  \\\n",
       "0                          0.0                        1.0  ...   \n",
       "1                          0.0                        0.0  ...   \n",
       "2                          0.0                        0.0  ...   \n",
       "3                          0.0                        0.0  ...   \n",
       "4                          0.0                        1.0  ...   \n",
       "\n",
       "   loan_intent_MEDICAL  loan_intent_PERSONAL  loan_intent_VENTURE  \\\n",
       "0                  0.0                   0.0                  0.0   \n",
       "1                  1.0                   0.0                  0.0   \n",
       "2                  1.0                   0.0                  0.0   \n",
       "3                  1.0                   0.0                  0.0   \n",
       "4                  0.0                   0.0                  1.0   \n",
       "\n",
       "   loan_grade_B  loan_grade_C  loan_grade_D  loan_grade_E  loan_grade_F  \\\n",
       "0           1.0           0.0           0.0           0.0           0.0   \n",
       "1           0.0           1.0           0.0           0.0           0.0   \n",
       "2           0.0           1.0           0.0           0.0           0.0   \n",
       "3           0.0           1.0           0.0           0.0           0.0   \n",
       "4           0.0           0.0           0.0           0.0           0.0   \n",
       "\n",
       "   loan_grade_G  cb_person_default_on_file_Y  \n",
       "0           0.0                          0.0  \n",
       "1           0.0                          0.0  \n",
       "2           0.0                          0.0  \n",
       "3           0.0                          1.0  \n",
       "4           0.0                          0.0  \n",
       "\n",
       "[5 rows x 23 columns]"
      ]
     },
     "execution_count": 31,
     "metadata": {},
     "output_type": "execute_result"
    }
   ],
   "source": [
    "from sklearn.preprocessing import MinMaxScaler\n",
    "\n",
    "scaler = MinMaxScaler()\n",
    "new_df = pd.DataFrame(scaler.fit_transform(new_df), columns = new_df.columns)\n",
    "new_df.head()"
   ]
  },
  {
   "cell_type": "code",
   "execution_count": 32,
   "id": "da926195",
   "metadata": {},
   "outputs": [],
   "source": [
    "from sklearn.impute import KNNImputer\n",
    "\n",
    "imputer = KNNImputer(n_neighbors=5)\n",
    "new_df = pd.DataFrame(imputer.fit_transform(new_df),columns = new_df.columns)"
   ]
  },
  {
   "cell_type": "code",
   "execution_count": 33,
   "id": "27692ace",
   "metadata": {
    "scrolled": true
   },
   "outputs": [
    {
     "data": {
      "text/plain": [
       "person_age                     0\n",
       "person_income                  0\n",
       "person_emp_length              0\n",
       "loan_amnt                      0\n",
       "loan_int_rate                  0\n",
       "loan_status                    0\n",
       "loan_percent_income            0\n",
       "cb_person_cred_hist_length     0\n",
       "person_home_ownership_OTHER    0\n",
       "person_home_ownership_OWN      0\n",
       "person_home_ownership_RENT     0\n",
       "loan_intent_EDUCATION          0\n",
       "loan_intent_HOMEIMPROVEMENT    0\n",
       "loan_intent_MEDICAL            0\n",
       "loan_intent_PERSONAL           0\n",
       "loan_intent_VENTURE            0\n",
       "loan_grade_B                   0\n",
       "loan_grade_C                   0\n",
       "loan_grade_D                   0\n",
       "loan_grade_E                   0\n",
       "loan_grade_F                   0\n",
       "loan_grade_G                   0\n",
       "cb_person_default_on_file_Y    0\n",
       "dtype: int64"
      ]
     },
     "execution_count": 33,
     "metadata": {},
     "output_type": "execute_result"
    }
   ],
   "source": [
    "new_df.isna().sum()"
   ]
  },
  {
   "cell_type": "code",
   "execution_count": 34,
   "id": "8c46380b",
   "metadata": {
    "scrolled": false
   },
   "outputs": [
    {
     "data": {
      "text/html": [
       "<div>\n",
       "<style scoped>\n",
       "    .dataframe tbody tr th:only-of-type {\n",
       "        vertical-align: middle;\n",
       "    }\n",
       "\n",
       "    .dataframe tbody tr th {\n",
       "        vertical-align: top;\n",
       "    }\n",
       "\n",
       "    .dataframe thead th {\n",
       "        text-align: right;\n",
       "    }\n",
       "</style>\n",
       "<table border=\"1\" class=\"dataframe\">\n",
       "  <thead>\n",
       "    <tr style=\"text-align: right;\">\n",
       "      <th></th>\n",
       "      <th>person_age</th>\n",
       "      <th>person_income</th>\n",
       "      <th>person_emp_length</th>\n",
       "      <th>loan_amnt</th>\n",
       "      <th>loan_int_rate</th>\n",
       "      <th>loan_status</th>\n",
       "      <th>loan_percent_income</th>\n",
       "      <th>cb_person_cred_hist_length</th>\n",
       "      <th>person_home_ownership_OTHER</th>\n",
       "      <th>person_home_ownership_OWN</th>\n",
       "      <th>...</th>\n",
       "      <th>loan_intent_MEDICAL</th>\n",
       "      <th>loan_intent_PERSONAL</th>\n",
       "      <th>loan_intent_VENTURE</th>\n",
       "      <th>loan_grade_B</th>\n",
       "      <th>loan_grade_C</th>\n",
       "      <th>loan_grade_D</th>\n",
       "      <th>loan_grade_E</th>\n",
       "      <th>loan_grade_F</th>\n",
       "      <th>loan_grade_G</th>\n",
       "      <th>cb_person_default_on_file_Y</th>\n",
       "    </tr>\n",
       "  </thead>\n",
       "  <tbody>\n",
       "    <tr>\n",
       "      <th>0</th>\n",
       "      <td>0.013514</td>\n",
       "      <td>0.002751</td>\n",
       "      <td>0.121951</td>\n",
       "      <td>0.014493</td>\n",
       "      <td>0.321348</td>\n",
       "      <td>0.0</td>\n",
       "      <td>0.120482</td>\n",
       "      <td>0.000000</td>\n",
       "      <td>0.0</td>\n",
       "      <td>1.0</td>\n",
       "      <td>...</td>\n",
       "      <td>0.0</td>\n",
       "      <td>0.0</td>\n",
       "      <td>0.0</td>\n",
       "      <td>1.0</td>\n",
       "      <td>0.0</td>\n",
       "      <td>0.0</td>\n",
       "      <td>0.0</td>\n",
       "      <td>0.0</td>\n",
       "      <td>0.0</td>\n",
       "      <td>0.0</td>\n",
       "    </tr>\n",
       "    <tr>\n",
       "      <th>1</th>\n",
       "      <td>0.067568</td>\n",
       "      <td>0.002751</td>\n",
       "      <td>0.024390</td>\n",
       "      <td>0.144928</td>\n",
       "      <td>0.418539</td>\n",
       "      <td>1.0</td>\n",
       "      <td>0.686747</td>\n",
       "      <td>0.035714</td>\n",
       "      <td>0.0</td>\n",
       "      <td>0.0</td>\n",
       "      <td>...</td>\n",
       "      <td>1.0</td>\n",
       "      <td>0.0</td>\n",
       "      <td>0.0</td>\n",
       "      <td>0.0</td>\n",
       "      <td>1.0</td>\n",
       "      <td>0.0</td>\n",
       "      <td>0.0</td>\n",
       "      <td>0.0</td>\n",
       "      <td>0.0</td>\n",
       "      <td>0.0</td>\n",
       "    </tr>\n",
       "    <tr>\n",
       "      <th>2</th>\n",
       "      <td>0.040541</td>\n",
       "      <td>0.030209</td>\n",
       "      <td>0.097561</td>\n",
       "      <td>1.000000</td>\n",
       "      <td>0.551124</td>\n",
       "      <td>1.0</td>\n",
       "      <td>0.638554</td>\n",
       "      <td>0.000000</td>\n",
       "      <td>0.0</td>\n",
       "      <td>0.0</td>\n",
       "      <td>...</td>\n",
       "      <td>1.0</td>\n",
       "      <td>0.0</td>\n",
       "      <td>0.0</td>\n",
       "      <td>0.0</td>\n",
       "      <td>1.0</td>\n",
       "      <td>0.0</td>\n",
       "      <td>0.0</td>\n",
       "      <td>0.0</td>\n",
       "      <td>0.0</td>\n",
       "      <td>0.0</td>\n",
       "    </tr>\n",
       "    <tr>\n",
       "      <th>3</th>\n",
       "      <td>0.054054</td>\n",
       "      <td>0.024757</td>\n",
       "      <td>0.195122</td>\n",
       "      <td>1.000000</td>\n",
       "      <td>0.497191</td>\n",
       "      <td>1.0</td>\n",
       "      <td>0.662651</td>\n",
       "      <td>0.071429</td>\n",
       "      <td>0.0</td>\n",
       "      <td>0.0</td>\n",
       "      <td>...</td>\n",
       "      <td>1.0</td>\n",
       "      <td>0.0</td>\n",
       "      <td>0.0</td>\n",
       "      <td>0.0</td>\n",
       "      <td>1.0</td>\n",
       "      <td>0.0</td>\n",
       "      <td>0.0</td>\n",
       "      <td>0.0</td>\n",
       "      <td>0.0</td>\n",
       "      <td>1.0</td>\n",
       "    </tr>\n",
       "    <tr>\n",
       "      <th>4</th>\n",
       "      <td>0.013514</td>\n",
       "      <td>0.002898</td>\n",
       "      <td>0.048780</td>\n",
       "      <td>0.057971</td>\n",
       "      <td>0.096629</td>\n",
       "      <td>1.0</td>\n",
       "      <td>0.301205</td>\n",
       "      <td>0.000000</td>\n",
       "      <td>0.0</td>\n",
       "      <td>1.0</td>\n",
       "      <td>...</td>\n",
       "      <td>0.0</td>\n",
       "      <td>0.0</td>\n",
       "      <td>1.0</td>\n",
       "      <td>0.0</td>\n",
       "      <td>0.0</td>\n",
       "      <td>0.0</td>\n",
       "      <td>0.0</td>\n",
       "      <td>0.0</td>\n",
       "      <td>0.0</td>\n",
       "      <td>0.0</td>\n",
       "    </tr>\n",
       "  </tbody>\n",
       "</table>\n",
       "<p>5 rows × 23 columns</p>\n",
       "</div>"
      ],
      "text/plain": [
       "   person_age  person_income  person_emp_length  loan_amnt  loan_int_rate  \\\n",
       "0    0.013514       0.002751           0.121951   0.014493       0.321348   \n",
       "1    0.067568       0.002751           0.024390   0.144928       0.418539   \n",
       "2    0.040541       0.030209           0.097561   1.000000       0.551124   \n",
       "3    0.054054       0.024757           0.195122   1.000000       0.497191   \n",
       "4    0.013514       0.002898           0.048780   0.057971       0.096629   \n",
       "\n",
       "   loan_status  loan_percent_income  cb_person_cred_hist_length  \\\n",
       "0          0.0             0.120482                    0.000000   \n",
       "1          1.0             0.686747                    0.035714   \n",
       "2          1.0             0.638554                    0.000000   \n",
       "3          1.0             0.662651                    0.071429   \n",
       "4          1.0             0.301205                    0.000000   \n",
       "\n",
       "   person_home_ownership_OTHER  person_home_ownership_OWN  ...  \\\n",
       "0                          0.0                        1.0  ...   \n",
       "1                          0.0                        0.0  ...   \n",
       "2                          0.0                        0.0  ...   \n",
       "3                          0.0                        0.0  ...   \n",
       "4                          0.0                        1.0  ...   \n",
       "\n",
       "   loan_intent_MEDICAL  loan_intent_PERSONAL  loan_intent_VENTURE  \\\n",
       "0                  0.0                   0.0                  0.0   \n",
       "1                  1.0                   0.0                  0.0   \n",
       "2                  1.0                   0.0                  0.0   \n",
       "3                  1.0                   0.0                  0.0   \n",
       "4                  0.0                   0.0                  1.0   \n",
       "\n",
       "   loan_grade_B  loan_grade_C  loan_grade_D  loan_grade_E  loan_grade_F  \\\n",
       "0           1.0           0.0           0.0           0.0           0.0   \n",
       "1           0.0           1.0           0.0           0.0           0.0   \n",
       "2           0.0           1.0           0.0           0.0           0.0   \n",
       "3           0.0           1.0           0.0           0.0           0.0   \n",
       "4           0.0           0.0           0.0           0.0           0.0   \n",
       "\n",
       "   loan_grade_G  cb_person_default_on_file_Y  \n",
       "0           0.0                          0.0  \n",
       "1           0.0                          0.0  \n",
       "2           0.0                          0.0  \n",
       "3           0.0                          1.0  \n",
       "4           0.0                          0.0  \n",
       "\n",
       "[5 rows x 23 columns]"
      ]
     },
     "execution_count": 34,
     "metadata": {},
     "output_type": "execute_result"
    }
   ],
   "source": [
    "new_df.head()"
   ]
  },
  {
   "cell_type": "code",
   "execution_count": 35,
   "id": "38e62e19",
   "metadata": {
    "scrolled": false
   },
   "outputs": [
    {
     "data": {
      "text/html": [
       "<div>\n",
       "<style scoped>\n",
       "    .dataframe tbody tr th:only-of-type {\n",
       "        vertical-align: middle;\n",
       "    }\n",
       "\n",
       "    .dataframe tbody tr th {\n",
       "        vertical-align: top;\n",
       "    }\n",
       "\n",
       "    .dataframe thead th {\n",
       "        text-align: right;\n",
       "    }\n",
       "</style>\n",
       "<table border=\"1\" class=\"dataframe\">\n",
       "  <thead>\n",
       "    <tr style=\"text-align: right;\">\n",
       "      <th></th>\n",
       "      <th>person_age</th>\n",
       "      <th>person_income</th>\n",
       "      <th>person_emp_length</th>\n",
       "      <th>loan_amnt</th>\n",
       "      <th>loan_int_rate</th>\n",
       "      <th>loan_status</th>\n",
       "      <th>loan_percent_income</th>\n",
       "      <th>cb_person_cred_hist_length</th>\n",
       "      <th>person_home_ownership_OTHER</th>\n",
       "      <th>person_home_ownership_OWN</th>\n",
       "      <th>...</th>\n",
       "      <th>loan_intent_MEDICAL</th>\n",
       "      <th>loan_intent_PERSONAL</th>\n",
       "      <th>loan_intent_VENTURE</th>\n",
       "      <th>loan_grade_B</th>\n",
       "      <th>loan_grade_C</th>\n",
       "      <th>loan_grade_D</th>\n",
       "      <th>loan_grade_E</th>\n",
       "      <th>loan_grade_F</th>\n",
       "      <th>loan_grade_G</th>\n",
       "      <th>cb_person_default_on_file_Y</th>\n",
       "    </tr>\n",
       "  </thead>\n",
       "  <tbody>\n",
       "    <tr>\n",
       "      <th>0</th>\n",
       "      <td>21.0</td>\n",
       "      <td>9600.0</td>\n",
       "      <td>5.0</td>\n",
       "      <td>1000.0</td>\n",
       "      <td>11.14</td>\n",
       "      <td>0.0</td>\n",
       "      <td>0.10</td>\n",
       "      <td>2.0</td>\n",
       "      <td>0.0</td>\n",
       "      <td>1.0</td>\n",
       "      <td>...</td>\n",
       "      <td>0.0</td>\n",
       "      <td>0.0</td>\n",
       "      <td>0.0</td>\n",
       "      <td>1.0</td>\n",
       "      <td>0.0</td>\n",
       "      <td>0.0</td>\n",
       "      <td>0.0</td>\n",
       "      <td>0.0</td>\n",
       "      <td>0.0</td>\n",
       "      <td>0.0</td>\n",
       "    </tr>\n",
       "    <tr>\n",
       "      <th>1</th>\n",
       "      <td>25.0</td>\n",
       "      <td>9600.0</td>\n",
       "      <td>1.0</td>\n",
       "      <td>5500.0</td>\n",
       "      <td>12.87</td>\n",
       "      <td>1.0</td>\n",
       "      <td>0.57</td>\n",
       "      <td>3.0</td>\n",
       "      <td>0.0</td>\n",
       "      <td>0.0</td>\n",
       "      <td>...</td>\n",
       "      <td>1.0</td>\n",
       "      <td>0.0</td>\n",
       "      <td>0.0</td>\n",
       "      <td>0.0</td>\n",
       "      <td>1.0</td>\n",
       "      <td>0.0</td>\n",
       "      <td>0.0</td>\n",
       "      <td>0.0</td>\n",
       "      <td>0.0</td>\n",
       "      <td>0.0</td>\n",
       "    </tr>\n",
       "    <tr>\n",
       "      <th>2</th>\n",
       "      <td>23.0</td>\n",
       "      <td>65500.0</td>\n",
       "      <td>4.0</td>\n",
       "      <td>35000.0</td>\n",
       "      <td>15.23</td>\n",
       "      <td>1.0</td>\n",
       "      <td>0.53</td>\n",
       "      <td>2.0</td>\n",
       "      <td>0.0</td>\n",
       "      <td>0.0</td>\n",
       "      <td>...</td>\n",
       "      <td>1.0</td>\n",
       "      <td>0.0</td>\n",
       "      <td>0.0</td>\n",
       "      <td>0.0</td>\n",
       "      <td>1.0</td>\n",
       "      <td>0.0</td>\n",
       "      <td>0.0</td>\n",
       "      <td>0.0</td>\n",
       "      <td>0.0</td>\n",
       "      <td>0.0</td>\n",
       "    </tr>\n",
       "    <tr>\n",
       "      <th>3</th>\n",
       "      <td>24.0</td>\n",
       "      <td>54400.0</td>\n",
       "      <td>8.0</td>\n",
       "      <td>35000.0</td>\n",
       "      <td>14.27</td>\n",
       "      <td>1.0</td>\n",
       "      <td>0.55</td>\n",
       "      <td>4.0</td>\n",
       "      <td>0.0</td>\n",
       "      <td>0.0</td>\n",
       "      <td>...</td>\n",
       "      <td>1.0</td>\n",
       "      <td>0.0</td>\n",
       "      <td>0.0</td>\n",
       "      <td>0.0</td>\n",
       "      <td>1.0</td>\n",
       "      <td>0.0</td>\n",
       "      <td>0.0</td>\n",
       "      <td>0.0</td>\n",
       "      <td>0.0</td>\n",
       "      <td>1.0</td>\n",
       "    </tr>\n",
       "    <tr>\n",
       "      <th>4</th>\n",
       "      <td>21.0</td>\n",
       "      <td>9900.0</td>\n",
       "      <td>2.0</td>\n",
       "      <td>2500.0</td>\n",
       "      <td>7.14</td>\n",
       "      <td>1.0</td>\n",
       "      <td>0.25</td>\n",
       "      <td>2.0</td>\n",
       "      <td>0.0</td>\n",
       "      <td>1.0</td>\n",
       "      <td>...</td>\n",
       "      <td>0.0</td>\n",
       "      <td>0.0</td>\n",
       "      <td>1.0</td>\n",
       "      <td>0.0</td>\n",
       "      <td>0.0</td>\n",
       "      <td>0.0</td>\n",
       "      <td>0.0</td>\n",
       "      <td>0.0</td>\n",
       "      <td>0.0</td>\n",
       "      <td>0.0</td>\n",
       "    </tr>\n",
       "  </tbody>\n",
       "</table>\n",
       "<p>5 rows × 23 columns</p>\n",
       "</div>"
      ],
      "text/plain": [
       "   person_age  person_income  person_emp_length  loan_amnt  loan_int_rate  \\\n",
       "0        21.0         9600.0                5.0     1000.0          11.14   \n",
       "1        25.0         9600.0                1.0     5500.0          12.87   \n",
       "2        23.0        65500.0                4.0    35000.0          15.23   \n",
       "3        24.0        54400.0                8.0    35000.0          14.27   \n",
       "4        21.0         9900.0                2.0     2500.0           7.14   \n",
       "\n",
       "   loan_status  loan_percent_income  cb_person_cred_hist_length  \\\n",
       "0          0.0                 0.10                         2.0   \n",
       "1          1.0                 0.57                         3.0   \n",
       "2          1.0                 0.53                         2.0   \n",
       "3          1.0                 0.55                         4.0   \n",
       "4          1.0                 0.25                         2.0   \n",
       "\n",
       "   person_home_ownership_OTHER  person_home_ownership_OWN  ...  \\\n",
       "0                          0.0                        1.0  ...   \n",
       "1                          0.0                        0.0  ...   \n",
       "2                          0.0                        0.0  ...   \n",
       "3                          0.0                        0.0  ...   \n",
       "4                          0.0                        1.0  ...   \n",
       "\n",
       "   loan_intent_MEDICAL  loan_intent_PERSONAL  loan_intent_VENTURE  \\\n",
       "0                  0.0                   0.0                  0.0   \n",
       "1                  1.0                   0.0                  0.0   \n",
       "2                  1.0                   0.0                  0.0   \n",
       "3                  1.0                   0.0                  0.0   \n",
       "4                  0.0                   0.0                  1.0   \n",
       "\n",
       "   loan_grade_B  loan_grade_C  loan_grade_D  loan_grade_E  loan_grade_F  \\\n",
       "0           1.0           0.0           0.0           0.0           0.0   \n",
       "1           0.0           1.0           0.0           0.0           0.0   \n",
       "2           0.0           1.0           0.0           0.0           0.0   \n",
       "3           0.0           1.0           0.0           0.0           0.0   \n",
       "4           0.0           0.0           0.0           0.0           0.0   \n",
       "\n",
       "   loan_grade_G  cb_person_default_on_file_Y  \n",
       "0           0.0                          0.0  \n",
       "1           0.0                          0.0  \n",
       "2           0.0                          0.0  \n",
       "3           0.0                          1.0  \n",
       "4           0.0                          0.0  \n",
       "\n",
       "[5 rows x 23 columns]"
      ]
     },
     "execution_count": 35,
     "metadata": {},
     "output_type": "execute_result"
    }
   ],
   "source": [
    "new_df_1 = scaler.inverse_transform(new_df)\n",
    "new_df_1 = pd.DataFrame(new_df_1, columns=new_df.columns)\n",
    "new_df_1.head()"
   ]
  },
  {
   "cell_type": "code",
   "execution_count": 36,
   "id": "43cd1a36",
   "metadata": {},
   "outputs": [],
   "source": [
    "filled_cols = new_df_1[[\"loan_int_rate\",\"person_emp_length\"]]"
   ]
  },
  {
   "cell_type": "code",
   "execution_count": 37,
   "id": "94b254a5",
   "metadata": {
    "scrolled": false
   },
   "outputs": [
    {
     "data": {
      "text/plain": [
       "RangeIndex(start=0, stop=32574, step=1)"
      ]
     },
     "execution_count": 37,
     "metadata": {},
     "output_type": "execute_result"
    }
   ],
   "source": [
    "df = df.reset_index(drop=True)\n",
    "df.index"
   ]
  },
  {
   "cell_type": "code",
   "execution_count": 38,
   "id": "00e58f7f",
   "metadata": {},
   "outputs": [],
   "source": [
    "new_df = pd.concat([df.drop([\"loan_int_rate\",\"person_emp_length\"], axis=1), filled_cols], axis=1)"
   ]
  },
  {
   "cell_type": "code",
   "execution_count": 39,
   "id": "3de8cbef",
   "metadata": {},
   "outputs": [
    {
     "name": "stdout",
     "output_type": "stream",
     "text": [
      "<class 'pandas.core.frame.DataFrame'>\n",
      "RangeIndex: 32574 entries, 0 to 32573\n",
      "Data columns (total 12 columns):\n",
      " #   Column                      Non-Null Count  Dtype  \n",
      "---  ------                      --------------  -----  \n",
      " 0   person_age                  32574 non-null  int64  \n",
      " 1   person_income               32574 non-null  int64  \n",
      " 2   person_home_ownership       32574 non-null  object \n",
      " 3   loan_intent                 32574 non-null  object \n",
      " 4   loan_grade                  32574 non-null  object \n",
      " 5   loan_amnt                   32574 non-null  int64  \n",
      " 6   loan_status                 32574 non-null  int64  \n",
      " 7   loan_percent_income         32574 non-null  float64\n",
      " 8   cb_person_default_on_file   32574 non-null  object \n",
      " 9   cb_person_cred_hist_length  32574 non-null  int64  \n",
      " 10  loan_int_rate               32574 non-null  float64\n",
      " 11  person_emp_length           32574 non-null  float64\n",
      "dtypes: float64(3), int64(5), object(4)\n",
      "memory usage: 3.0+ MB\n"
     ]
    }
   ],
   "source": [
    "new_df.info()"
   ]
  },
  {
   "cell_type": "code",
   "execution_count": 40,
   "id": "0695714a",
   "metadata": {},
   "outputs": [],
   "source": [
    "new_df.to_csv(\"CR1_Data_Processed.csv\", index=False)"
   ]
  }
 ],
 "metadata": {
  "kernelspec": {
   "display_name": "Python 3 (ipykernel)",
   "language": "python",
   "name": "python3"
  },
  "language_info": {
   "codemirror_mode": {
    "name": "ipython",
    "version": 3
   },
   "file_extension": ".py",
   "mimetype": "text/x-python",
   "name": "python",
   "nbconvert_exporter": "python",
   "pygments_lexer": "ipython3",
   "version": "3.9.12"
  }
 },
 "nbformat": 4,
 "nbformat_minor": 5
}
