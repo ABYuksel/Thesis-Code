{
 "cells": [
  {
   "cell_type": "markdown",
   "id": "046461ee",
   "metadata": {},
   "source": [
    "### <font color='indigo'>1) Import the Required Packages and Load the Dataset"
   ]
  },
  {
   "cell_type": "code",
   "execution_count": 1,
   "id": "50fa65de",
   "metadata": {},
   "outputs": [],
   "source": [
    "import numpy as np\n",
    "import pandas as pd\n",
    "import matplotlib.pyplot as plt\n",
    "import seaborn as sns\n",
    "import tensorflow as tf\n",
    "\n",
    "from sklearn.model_selection import train_test_split\n",
    "from sklearn.preprocessing import StandardScaler\n",
    "from keras.models import Sequential\n",
    "from keras.layers import Dense\n",
    "from sklearn.metrics import classification_report\n",
    "from sklearn.metrics import confusion_matrix\n",
    "from sklearn.metrics import roc_curve\n",
    "from sklearn.metrics import roc_auc_score\n",
    "\n",
    "#for hyperparameter optimization\n",
    "#!pip install bayesian-optimization\n",
    "from keras.layers import Dense, BatchNormalization, Dropout\n",
    "from keras.optimizers import Adam, SGD, RMSprop, Adadelta, Adagrad, Adamax, Nadam, Ftrl\n",
    "from keras.callbacks import EarlyStopping, ModelCheckpoint\n",
    "from keras.wrappers.scikit_learn import KerasClassifier\n",
    "from math import floor\n",
    "from sklearn.model_selection import cross_val_score\n",
    "from sklearn.metrics import make_scorer, accuracy_score\n",
    "from bayes_opt import BayesianOptimization\n",
    "from sklearn.model_selection import StratifiedKFold\n",
    "from keras.layers import LeakyReLU\n",
    "LeakyReLU = LeakyReLU(alpha=0.1)\n",
    "import warnings\n",
    "warnings.filterwarnings('ignore')"
   ]
  },
  {
   "cell_type": "code",
   "execution_count": 2,
   "id": "eb67d0dd",
   "metadata": {},
   "outputs": [
    {
     "name": "stdout",
     "output_type": "stream",
     "text": [
      "<class 'pandas.core.frame.DataFrame'>\n",
      "RangeIndex: 32574 entries, 0 to 32573\n",
      "Data columns (total 12 columns):\n",
      " #   Column                      Non-Null Count  Dtype  \n",
      "---  ------                      --------------  -----  \n",
      " 0   person_age                  32574 non-null  int64  \n",
      " 1   person_income               32574 non-null  int64  \n",
      " 2   person_home_ownership       32574 non-null  object \n",
      " 3   loan_intent                 32574 non-null  object \n",
      " 4   loan_grade                  32574 non-null  object \n",
      " 5   loan_amnt                   32574 non-null  int64  \n",
      " 6   loan_status                 32574 non-null  int64  \n",
      " 7   loan_percent_income         32574 non-null  float64\n",
      " 8   cb_person_default_on_file   32574 non-null  object \n",
      " 9   cb_person_cred_hist_length  32574 non-null  int64  \n",
      " 10  loan_int_rate               32574 non-null  float64\n",
      " 11  person_emp_length           32574 non-null  float64\n",
      "dtypes: float64(3), int64(5), object(4)\n",
      "memory usage: 3.0+ MB\n"
     ]
    }
   ],
   "source": [
    "df = pd.read_csv(\"CR1_Data_Processed.csv\", header=0, skiprows=0)\n",
    "df.info()"
   ]
  },
  {
   "cell_type": "markdown",
   "id": "af4d6401",
   "metadata": {},
   "source": [
    "### <font color='indigo'>2) Data Preparation for the Model"
   ]
  },
  {
   "cell_type": "markdown",
   "id": "7aac1152",
   "metadata": {},
   "source": [
    "* The categorical variables need to be encoded so that they can be used in models."
   ]
  },
  {
   "cell_type": "code",
   "execution_count": 3,
   "id": "3c300896",
   "metadata": {},
   "outputs": [
    {
     "data": {
      "text/html": [
       "<div>\n",
       "<style scoped>\n",
       "    .dataframe tbody tr th:only-of-type {\n",
       "        vertical-align: middle;\n",
       "    }\n",
       "\n",
       "    .dataframe tbody tr th {\n",
       "        vertical-align: top;\n",
       "    }\n",
       "\n",
       "    .dataframe thead th {\n",
       "        text-align: right;\n",
       "    }\n",
       "</style>\n",
       "<table border=\"1\" class=\"dataframe\">\n",
       "  <thead>\n",
       "    <tr style=\"text-align: right;\">\n",
       "      <th></th>\n",
       "      <th>person_age</th>\n",
       "      <th>person_income</th>\n",
       "      <th>loan_amnt</th>\n",
       "      <th>loan_status</th>\n",
       "      <th>loan_percent_income</th>\n",
       "      <th>cb_person_cred_hist_length</th>\n",
       "      <th>loan_int_rate</th>\n",
       "      <th>person_emp_length</th>\n",
       "      <th>person_home_ownership_MORTGAGE</th>\n",
       "      <th>person_home_ownership_OTHER</th>\n",
       "      <th>...</th>\n",
       "      <th>loan_intent_VENTURE</th>\n",
       "      <th>loan_grade_A</th>\n",
       "      <th>loan_grade_B</th>\n",
       "      <th>loan_grade_C</th>\n",
       "      <th>loan_grade_D</th>\n",
       "      <th>loan_grade_E</th>\n",
       "      <th>loan_grade_F</th>\n",
       "      <th>loan_grade_G</th>\n",
       "      <th>cb_person_default_on_file_N</th>\n",
       "      <th>cb_person_default_on_file_Y</th>\n",
       "    </tr>\n",
       "  </thead>\n",
       "  <tbody>\n",
       "    <tr>\n",
       "      <th>0</th>\n",
       "      <td>21</td>\n",
       "      <td>9600</td>\n",
       "      <td>1000</td>\n",
       "      <td>0</td>\n",
       "      <td>0.10</td>\n",
       "      <td>2</td>\n",
       "      <td>11.14</td>\n",
       "      <td>5.0</td>\n",
       "      <td>0</td>\n",
       "      <td>0</td>\n",
       "      <td>...</td>\n",
       "      <td>0</td>\n",
       "      <td>0</td>\n",
       "      <td>1</td>\n",
       "      <td>0</td>\n",
       "      <td>0</td>\n",
       "      <td>0</td>\n",
       "      <td>0</td>\n",
       "      <td>0</td>\n",
       "      <td>1</td>\n",
       "      <td>0</td>\n",
       "    </tr>\n",
       "    <tr>\n",
       "      <th>1</th>\n",
       "      <td>25</td>\n",
       "      <td>9600</td>\n",
       "      <td>5500</td>\n",
       "      <td>1</td>\n",
       "      <td>0.57</td>\n",
       "      <td>3</td>\n",
       "      <td>12.87</td>\n",
       "      <td>1.0</td>\n",
       "      <td>1</td>\n",
       "      <td>0</td>\n",
       "      <td>...</td>\n",
       "      <td>0</td>\n",
       "      <td>0</td>\n",
       "      <td>0</td>\n",
       "      <td>1</td>\n",
       "      <td>0</td>\n",
       "      <td>0</td>\n",
       "      <td>0</td>\n",
       "      <td>0</td>\n",
       "      <td>1</td>\n",
       "      <td>0</td>\n",
       "    </tr>\n",
       "    <tr>\n",
       "      <th>2</th>\n",
       "      <td>23</td>\n",
       "      <td>65500</td>\n",
       "      <td>35000</td>\n",
       "      <td>1</td>\n",
       "      <td>0.53</td>\n",
       "      <td>2</td>\n",
       "      <td>15.23</td>\n",
       "      <td>4.0</td>\n",
       "      <td>0</td>\n",
       "      <td>0</td>\n",
       "      <td>...</td>\n",
       "      <td>0</td>\n",
       "      <td>0</td>\n",
       "      <td>0</td>\n",
       "      <td>1</td>\n",
       "      <td>0</td>\n",
       "      <td>0</td>\n",
       "      <td>0</td>\n",
       "      <td>0</td>\n",
       "      <td>1</td>\n",
       "      <td>0</td>\n",
       "    </tr>\n",
       "    <tr>\n",
       "      <th>3</th>\n",
       "      <td>24</td>\n",
       "      <td>54400</td>\n",
       "      <td>35000</td>\n",
       "      <td>1</td>\n",
       "      <td>0.55</td>\n",
       "      <td>4</td>\n",
       "      <td>14.27</td>\n",
       "      <td>8.0</td>\n",
       "      <td>0</td>\n",
       "      <td>0</td>\n",
       "      <td>...</td>\n",
       "      <td>0</td>\n",
       "      <td>0</td>\n",
       "      <td>0</td>\n",
       "      <td>1</td>\n",
       "      <td>0</td>\n",
       "      <td>0</td>\n",
       "      <td>0</td>\n",
       "      <td>0</td>\n",
       "      <td>0</td>\n",
       "      <td>1</td>\n",
       "    </tr>\n",
       "    <tr>\n",
       "      <th>4</th>\n",
       "      <td>21</td>\n",
       "      <td>9900</td>\n",
       "      <td>2500</td>\n",
       "      <td>1</td>\n",
       "      <td>0.25</td>\n",
       "      <td>2</td>\n",
       "      <td>7.14</td>\n",
       "      <td>2.0</td>\n",
       "      <td>0</td>\n",
       "      <td>0</td>\n",
       "      <td>...</td>\n",
       "      <td>1</td>\n",
       "      <td>1</td>\n",
       "      <td>0</td>\n",
       "      <td>0</td>\n",
       "      <td>0</td>\n",
       "      <td>0</td>\n",
       "      <td>0</td>\n",
       "      <td>0</td>\n",
       "      <td>1</td>\n",
       "      <td>0</td>\n",
       "    </tr>\n",
       "  </tbody>\n",
       "</table>\n",
       "<p>5 rows × 27 columns</p>\n",
       "</div>"
      ],
      "text/plain": [
       "   person_age  person_income  loan_amnt  loan_status  loan_percent_income  \\\n",
       "0          21           9600       1000            0                 0.10   \n",
       "1          25           9600       5500            1                 0.57   \n",
       "2          23          65500      35000            1                 0.53   \n",
       "3          24          54400      35000            1                 0.55   \n",
       "4          21           9900       2500            1                 0.25   \n",
       "\n",
       "   cb_person_cred_hist_length  loan_int_rate  person_emp_length  \\\n",
       "0                           2          11.14                5.0   \n",
       "1                           3          12.87                1.0   \n",
       "2                           2          15.23                4.0   \n",
       "3                           4          14.27                8.0   \n",
       "4                           2           7.14                2.0   \n",
       "\n",
       "   person_home_ownership_MORTGAGE  person_home_ownership_OTHER  ...  \\\n",
       "0                               0                            0  ...   \n",
       "1                               1                            0  ...   \n",
       "2                               0                            0  ...   \n",
       "3                               0                            0  ...   \n",
       "4                               0                            0  ...   \n",
       "\n",
       "   loan_intent_VENTURE  loan_grade_A  loan_grade_B  loan_grade_C  \\\n",
       "0                    0             0             1             0   \n",
       "1                    0             0             0             1   \n",
       "2                    0             0             0             1   \n",
       "3                    0             0             0             1   \n",
       "4                    1             1             0             0   \n",
       "\n",
       "   loan_grade_D  loan_grade_E  loan_grade_F  loan_grade_G  \\\n",
       "0             0             0             0             0   \n",
       "1             0             0             0             0   \n",
       "2             0             0             0             0   \n",
       "3             0             0             0             0   \n",
       "4             0             0             0             0   \n",
       "\n",
       "   cb_person_default_on_file_N  cb_person_default_on_file_Y  \n",
       "0                            1                            0  \n",
       "1                            1                            0  \n",
       "2                            1                            0  \n",
       "3                            0                            1  \n",
       "4                            1                            0  \n",
       "\n",
       "[5 rows x 27 columns]"
      ]
     },
     "execution_count": 3,
     "metadata": {},
     "output_type": "execute_result"
    }
   ],
   "source": [
    "df = pd.get_dummies(df)\n",
    "df.head()"
   ]
  },
  {
   "cell_type": "markdown",
   "id": "3727bb93",
   "metadata": {},
   "source": [
    "#### Predictors-Target Split"
   ]
  },
  {
   "cell_type": "code",
   "execution_count": 4,
   "id": "c037c7e6",
   "metadata": {},
   "outputs": [],
   "source": [
    "X = df.drop([\"loan_status\"], axis=1) #predictors\n",
    "Y = df[[\"loan_status\"]] #target"
   ]
  },
  {
   "cell_type": "markdown",
   "id": "b2e1225e",
   "metadata": {},
   "source": [
    "#### Train-Val-Test Split"
   ]
  },
  {
   "cell_type": "markdown",
   "id": "ebd31e58",
   "metadata": {},
   "source": [
    "* Splitting the whole dataset into three sets: train, validation, and test with ratios of 80%, 10%, and 10% respectively."
   ]
  },
  {
   "cell_type": "code",
   "execution_count": 5,
   "id": "85eb1ee9",
   "metadata": {},
   "outputs": [
    {
     "name": "stdout",
     "output_type": "stream",
     "text": [
      "(26059, 26)\n",
      "(26059, 1)\n",
      "(3257, 26)\n",
      "(3257, 1)\n",
      "(3258, 26)\n",
      "(3258, 1)\n"
     ]
    },
    {
     "data": {
      "text/plain": [
       "(None, None)"
      ]
     },
     "execution_count": 5,
     "metadata": {},
     "output_type": "execute_result"
    }
   ],
   "source": [
    "train_size=0.8\n",
    "X_train, X_rem, Y_train, Y_rem = train_test_split(X, Y, train_size=0.8, random_state=777)\n",
    "\n",
    "test_size = 0.5\n",
    "X_valid, X_test, Y_valid, Y_test = train_test_split(X_rem, Y_rem, test_size=0.5, random_state=777)\n",
    "\n",
    "print(X_train.shape), print(Y_train.shape)\n",
    "print(X_valid.shape), print(Y_valid.shape)\n",
    "print(X_test.shape), print(Y_test.shape)"
   ]
  },
  {
   "cell_type": "markdown",
   "id": "6601563f",
   "metadata": {},
   "source": [
    "#### Feature Scaling"
   ]
  },
  {
   "cell_type": "code",
   "execution_count": 6,
   "id": "71f2b67a",
   "metadata": {},
   "outputs": [],
   "source": [
    "sc = StandardScaler()\n",
    "X_train = sc.fit_transform(X_train)\n",
    "X_valid = sc.fit_transform(X_valid)\n",
    "X_test = sc.transform(X_test)"
   ]
  },
  {
   "cell_type": "markdown",
   "id": "b6db95c3",
   "metadata": {},
   "source": [
    "### <font color='indigo'>3) Model Building"
   ]
  },
  {
   "cell_type": "code",
   "execution_count": 7,
   "id": "f78698a3",
   "metadata": {},
   "outputs": [
    {
     "data": {
      "text/plain": [
       "<keras.callbacks.History at 0x2a07a856e80>"
      ]
     },
     "execution_count": 7,
     "metadata": {},
     "output_type": "execute_result"
    }
   ],
   "source": [
    "classifier = Sequential()\n",
    "# Adding the input layer and the first hidden layer\n",
    "classifier.add(Dense(units = 6, kernel_initializer = 'uniform', activation = 'relu', input_dim = 26))\n",
    "\n",
    "# Adding the second hidden layer\n",
    "classifier.add(Dense(units = 6, kernel_initializer = 'uniform', activation = 'relu'))\n",
    "\n",
    "# Adding the output layer\n",
    "classifier.add(Dense(units = 1, kernel_initializer = 'uniform', activation = 'sigmoid'))\n",
    "\n",
    "# Compiling the ANN | means applying SGD on the whole ANN\n",
    "classifier.compile(optimizer = 'adam', loss = 'binary_crossentropy', metrics = ['accuracy'])\n",
    "\n",
    "# Fitting the ANN to the Training set\n",
    "classifier.fit(X_train, Y_train, batch_size = 10, epochs = 100,verbose = 0)"
   ]
  },
  {
   "cell_type": "markdown",
   "id": "e4420be0",
   "metadata": {},
   "source": [
    "### <font color='indigo'>4) Model Performance Indicators"
   ]
  },
  {
   "cell_type": "code",
   "execution_count": 8,
   "id": "9b577a19",
   "metadata": {},
   "outputs": [
    {
     "name": "stdout",
     "output_type": "stream",
     "text": [
      "326/326 [==============================] - 0s 675us/step - loss: 0.2853 - accuracy: 0.8971\n",
      "Train score: 0.285330593585968\n",
      "Train accuracy: 0.897144615650177\n"
     ]
    }
   ],
   "source": [
    "score, acc = classifier.evaluate(X_valid, Y_valid, batch_size=10)\n",
    "print('Train score:', score)\n",
    "print('Train accuracy:', acc)"
   ]
  },
  {
   "cell_type": "code",
   "execution_count": 10,
   "id": "bcfdc7c5",
   "metadata": {
    "scrolled": false
   },
   "outputs": [
    {
     "name": "stdout",
     "output_type": "stream",
     "text": [
      "102/102 [==============================] - 0s 690us/step\n",
      "              precision    recall  f1-score   support\n",
      "\n",
      " Non-Default       0.91      0.97      0.94      2566\n",
      "     Default       0.86      0.64      0.73       692\n",
      "\n",
      "    accuracy                           0.90      3258\n",
      "   macro avg       0.88      0.80      0.83      3258\n",
      "weighted avg       0.90      0.90      0.89      3258\n",
      "\n"
     ]
    }
   ],
   "source": [
    "Y_pred = classifier.predict(X_test)\n",
    "Y_pred_cat = np.where(Y_pred > 0.5, 1, 0)\n",
    "target_names = ['Non-Default', 'Default']\n",
    "print(classification_report(Y_test, Y_pred_cat, target_names=target_names))"
   ]
  },
  {
   "cell_type": "code",
   "execution_count": 11,
   "id": "dc28bb90",
   "metadata": {},
   "outputs": [
    {
     "data": {
      "text/plain": [
       "Text(0.5, 23.52222222222222, 'Predicted label')"
      ]
     },
     "execution_count": 11,
     "metadata": {},
     "output_type": "execute_result"
    },
    {
     "data": {
      "image/png": "[encoded data removed]",
      "text/plain": [
       "<Figure size 640x480 with 2 Axes>"
      ]
     },
     "metadata": {},
     "output_type": "display_data"
    }
   ],
   "source": [
    "cm = confusion_matrix(Y_test, Y_pred_cat)\n",
    "p = sns.heatmap(pd.DataFrame(cm), annot=True, cmap=\"YlGnBu\" ,fmt='g')\n",
    "plt.title('Confusion matrix', y=1.1)\n",
    "plt.ylabel('Actual label')\n",
    "plt.xlabel('Predicted label')"
   ]
  },
  {
   "cell_type": "code",
   "execution_count": 12,
   "id": "2c107fe7",
   "metadata": {
    "scrolled": false
   },
   "outputs": [
    {
     "data": {
      "image/png": "[encoded data removed]",
      "text/plain": [
       "<Figure size 640x480 with 1 Axes>"
      ]
     },
     "metadata": {},
     "output_type": "display_data"
    }
   ],
   "source": [
    "fpr, tpr, thresholds = roc_curve(Y_test, Y_pred)\n",
    "plt.plot([0,1],[0,1],'k--')\n",
    "plt.plot(fpr,tpr, label='ANN')\n",
    "plt.xlabel('False Positive Rate (FPR)')\n",
    "plt.ylabel('True Positive Rate (TPR)')\n",
    "plt.title('ROC curve - ANN - DF1')\n",
    "plt.show()"
   ]
  },
  {
   "cell_type": "code",
   "execution_count": 13,
   "id": "d6adea82",
   "metadata": {},
   "outputs": [
    {
     "data": {
      "text/plain": [
       "0.8918499587761705"
      ]
     },
     "execution_count": 13,
     "metadata": {},
     "output_type": "execute_result"
    }
   ],
   "source": [
    "#Area under ROC curve\n",
    "roc_auc_score(Y_test, Y_pred)"
   ]
  },
  {
   "cell_type": "markdown",
   "id": "81a68b34",
   "metadata": {},
   "source": [
    "### <font color='indigo'>5) Hyperparameter Tuning"
   ]
  },
  {
   "cell_type": "code",
   "execution_count": 17,
   "id": "a107ed5c",
   "metadata": {},
   "outputs": [],
   "source": [
    "def nn_cl_bo2(neurons, activation, optimizer, learning_rate, batch_size, epochs,\n",
    "              layers1, layers2, normalization, dropout, dropout_rate):\n",
    "    optimizerL = ['SGD', 'Adam', 'RMSprop', 'Adadelta', 'Adagrad', 'Adamax', 'Nadam', 'Ftrl','SGD']\n",
    "    optimizerD= {'Adam':Adam(lr=learning_rate), 'SGD':SGD(lr=learning_rate),\n",
    "                 'RMSprop':RMSprop(lr=learning_rate), 'Adadelta':Adadelta(lr=learning_rate),\n",
    "                 'Adagrad':Adagrad(lr=learning_rate), 'Adamax':Adamax(lr=learning_rate),\n",
    "                 'Nadam':Nadam(lr=learning_rate), 'Ftrl':Ftrl(lr=learning_rate)}\n",
    "    activationL = ['relu', 'sigmoid', 'softplus', 'softsign', 'tanh', 'selu',\n",
    "                   'elu', 'exponential', LeakyReLU,'relu']\n",
    "    neurons = round(neurons)\n",
    "    activation = activationL[round(activation)]\n",
    "    optimizer = optimizerD[optimizerL[round(optimizer)]]\n",
    "    batch_size = round(batch_size)\n",
    "    epochs = round(epochs)\n",
    "    layers1 = round(layers1)\n",
    "    layers2 = round(layers2)\n",
    "    def nn_cl_fun():\n",
    "        nn = Sequential()\n",
    "        nn.add(Dense(neurons, input_dim=26, activation=activation))\n",
    "        if normalization > 0.5:\n",
    "            nn.add(BatchNormalization())\n",
    "        for i in range(layers1):\n",
    "            nn.add(Dense(neurons, activation=activation))\n",
    "        if dropout > 0.5:\n",
    "            nn.add(Dropout(dropout_rate, seed=123))\n",
    "        for i in range(layers2):\n",
    "            nn.add(Dense(neurons, activation=activation))\n",
    "        nn.add(Dense(1, activation='sigmoid'))\n",
    "        nn.compile(loss='binary_crossentropy', optimizer=optimizer, metrics=['accuracy'])\n",
    "        return nn\n",
    "    es = EarlyStopping(monitor='accuracy', mode='max', verbose=0, patience=20)\n",
    "    nn = KerasClassifier(build_fn=nn_cl_fun, epochs=epochs, batch_size=batch_size, verbose=0)\n",
    "    kfold = StratifiedKFold(n_splits=5, shuffle=True, random_state=123)\n",
    "    score = cross_val_score(nn, X_train, Y_train, scoring=score_acc, cv=kfold, fit_params={'callbacks':[es]}).mean()\n",
    "    return score"
   ]
  },
  {
   "cell_type": "code",
   "execution_count": 18,
   "id": "dc0de9b3",
   "metadata": {},
   "outputs": [
    {
     "name": "stdout",
     "output_type": "stream",
     "text": [
      "|   iter    |  target   | activa... | batch_... |  dropout  | dropou... |  epochs   |  layers1  |  layers2  | learni... |  neurons  | normal... | optimizer |\n",
      "-------------------------------------------------------------------------------------------------------------------------------------------------------------\n",
      "163/163 [==============================] - 1s 1ms/step\n",
      "163/163 [==============================] - 0s 1ms/step\n",
      "163/163 [==============================] - 0s 1ms/step\n",
      "163/163 [==============================] - 0s 1ms/step\n",
      "163/163 [==============================] - 0s 1ms/step\n",
      "| \u001b[0m1        \u001b[0m | \u001b[0m0.7805   \u001b[0m | \u001b[0m5.51     \u001b[0m | \u001b[0m335.3    \u001b[0m | \u001b[0m0.4361   \u001b[0m | \u001b[0m0.2308   \u001b[0m | \u001b[0m43.63    \u001b[0m | \u001b[0m1.298    \u001b[0m | \u001b[0m1.045    \u001b[0m | \u001b[0m0.426    \u001b[0m | \u001b[0m31.48    \u001b[0m | \u001b[0m0.3377   \u001b[0m | \u001b[0m6.935    \u001b[0m |\n",
      "163/163 [==============================] - 0s 1ms/step\n",
      "163/163 [==============================] - 0s 1ms/step\n",
      "163/163 [==============================] - 0s 2ms/step\n",
      "163/163 [==============================] - 0s 1ms/step\n",
      "163/163 [==============================] - 0s 1ms/step\n",
      "| \u001b[95m2        \u001b[0m | \u001b[95m0.7832   \u001b[0m | \u001b[95m2.14     \u001b[0m | \u001b[95m265.0    \u001b[0m | \u001b[95m0.6696   \u001b[0m | \u001b[95m0.1864   \u001b[0m | \u001b[95m41.94    \u001b[0m | \u001b[95m1.932    \u001b[0m | \u001b[95m1.237    \u001b[0m | \u001b[95m0.08322  \u001b[0m | \u001b[95m91.07    \u001b[0m | \u001b[95m0.794    \u001b[0m | \u001b[95m5.884    \u001b[0m |\n",
      "163/163 [==============================] - 0s 1ms/step\n",
      "163/163 [==============================] - 0s 1ms/step\n",
      "163/163 [==============================] - 0s 1ms/step\n",
      "163/163 [==============================] - 0s 1ms/step\n",
      "163/163 [==============================] - 0s 1ms/step\n",
      "| \u001b[0m3        \u001b[0m | \u001b[0m0.7805   \u001b[0m | \u001b[0m7.337    \u001b[0m | \u001b[0m992.8    \u001b[0m | \u001b[0m0.5773   \u001b[0m | \u001b[0m0.2441   \u001b[0m | \u001b[0m53.71    \u001b[0m | \u001b[0m1.055    \u001b[0m | \u001b[0m1.908    \u001b[0m | \u001b[0m0.1143   \u001b[0m | \u001b[0m83.55    \u001b[0m | \u001b[0m0.6977   \u001b[0m | \u001b[0m3.957    \u001b[0m |\n",
      "163/163 [==============================] - 0s 1ms/step\n",
      "163/163 [==============================] - 0s 1ms/step\n",
      "163/163 [==============================] - 0s 1ms/step\n",
      "163/163 [==============================] - 0s 1ms/step\n",
      "163/163 [==============================] - 0s 1ms/step\n",
      "| \u001b[0m4        \u001b[0m | \u001b[0m0.7805   \u001b[0m | \u001b[0m2.468    \u001b[0m | \u001b[0m998.8    \u001b[0m | \u001b[0m0.138    \u001b[0m | \u001b[0m0.1846   \u001b[0m | \u001b[0m58.8     \u001b[0m | \u001b[0m1.81     \u001b[0m | \u001b[0m2.456    \u001b[0m | \u001b[0m0.3296   \u001b[0m | \u001b[0m46.05    \u001b[0m | \u001b[0m0.319    \u001b[0m | \u001b[0m6.631    \u001b[0m |\n",
      "163/163 [==============================] - 0s 1ms/step\n",
      "163/163 [==============================] - 0s 1ms/step\n",
      "163/163 [==============================] - 0s 1ms/step\n",
      "163/163 [==============================] - 0s 1ms/step\n",
      "163/163 [==============================] - 0s 1ms/step\n",
      "| \u001b[95m5        \u001b[0m | \u001b[95m0.915    \u001b[0m | \u001b[95m8.268    \u001b[0m | \u001b[95m851.1    \u001b[0m | \u001b[95m0.03408  \u001b[0m | \u001b[95m0.283    \u001b[0m | \u001b[95m96.04    \u001b[0m | \u001b[95m2.613    \u001b[0m | \u001b[95m1.963    \u001b[0m | \u001b[95m0.9671   \u001b[0m | \u001b[95m47.53    \u001b[0m | \u001b[95m0.3188   \u001b[0m | \u001b[95m0.1151   \u001b[0m |\n",
      "163/163 [==============================] - 0s 1ms/step\n",
      "163/163 [==============================] - 0s 2ms/step\n",
      "163/163 [==============================] - 0s 1ms/step\n",
      "163/163 [==============================] - 0s 1ms/step\n",
      "163/163 [==============================] - 0s 1ms/step\n",
      "| \u001b[0m6        \u001b[0m | \u001b[0m0.9031   \u001b[0m | \u001b[0m0.3436   \u001b[0m | \u001b[0m242.5    \u001b[0m | \u001b[0m0.128    \u001b[0m | \u001b[0m0.01001  \u001b[0m | \u001b[0m38.11    \u001b[0m | \u001b[0m2.088    \u001b[0m | \u001b[0m1.357    \u001b[0m | \u001b[0m0.1876   \u001b[0m | \u001b[0m23.47    \u001b[0m | \u001b[0m0.683    \u001b[0m | \u001b[0m3.283    \u001b[0m |\n",
      "163/163 [==============================] - 0s 1ms/step\n",
      "163/163 [==============================] - 0s 1ms/step\n",
      "163/163 [==============================] - 0s 1ms/step\n",
      "163/163 [==============================] - 0s 1ms/step\n",
      "163/163 [==============================] - 0s 1ms/step\n",
      "| \u001b[0m7        \u001b[0m | \u001b[0m0.7805   \u001b[0m | \u001b[0m6.914    \u001b[0m | \u001b[0m735.1    \u001b[0m | \u001b[0m0.4413   \u001b[0m | \u001b[0m0.1786   \u001b[0m | \u001b[0m56.93    \u001b[0m | \u001b[0m2.927    \u001b[0m | \u001b[0m1.296    \u001b[0m | \u001b[0m0.9077   \u001b[0m | \u001b[0m54.81    \u001b[0m | \u001b[0m0.5925   \u001b[0m | \u001b[0m4.793    \u001b[0m |\n",
      "163/163 [==============================] - 0s 1ms/step\n",
      "163/163 [==============================] - 0s 1ms/step\n",
      "163/163 [==============================] - 1s 2ms/step\n",
      "163/163 [==============================] - 0s 1ms/step\n",
      "163/163 [==============================] - 0s 1ms/step\n",
      "| \u001b[95m8        \u001b[0m | \u001b[95m0.9183   \u001b[0m | \u001b[95m1.597    \u001b[0m | \u001b[95m891.7    \u001b[0m | \u001b[95m0.4821   \u001b[0m | \u001b[95m0.0208   \u001b[0m | \u001b[95m49.18    \u001b[0m | \u001b[95m1.723    \u001b[0m | \u001b[95m1.944    \u001b[0m | \u001b[95m0.1877   \u001b[0m | \u001b[95m25.78    \u001b[0m | \u001b[95m0.9491   \u001b[0m | \u001b[95m4.59     \u001b[0m |\n",
      "163/163 [==============================] - 0s 1ms/step\n",
      "163/163 [==============================] - 0s 2ms/step\n",
      "163/163 [==============================] - 0s 2ms/step\n",
      "163/163 [==============================] - 0s 1ms/step\n",
      "163/163 [==============================] - 0s 1ms/step\n",
      "| \u001b[0m9        \u001b[0m | \u001b[0m0.7805   \u001b[0m | \u001b[0m1.215    \u001b[0m | \u001b[0m942.2    \u001b[0m | \u001b[0m0.8418   \u001b[0m | \u001b[0m0.01583  \u001b[0m | \u001b[0m36.29    \u001b[0m | \u001b[0m2.745    \u001b[0m | \u001b[0m2.348    \u001b[0m | \u001b[0m0.3043   \u001b[0m | \u001b[0m76.1     \u001b[0m | \u001b[0m0.6183   \u001b[0m | \u001b[0m1.473    \u001b[0m |\n",
      "163/163 [==============================] - 0s 1ms/step\n",
      "163/163 [==============================] - 0s 1ms/step\n",
      "163/163 [==============================] - 0s 1ms/step\n",
      "163/163 [==============================] - 0s 2ms/step\n",
      "163/163 [==============================] - 0s 1ms/step\n",
      "| \u001b[0m10       \u001b[0m | \u001b[0m0.7805   \u001b[0m | \u001b[0m7.219    \u001b[0m | \u001b[0m247.3    \u001b[0m | \u001b[0m0.3082   \u001b[0m | \u001b[0m0.06221  \u001b[0m | \u001b[0m97.78    \u001b[0m | \u001b[0m2.819    \u001b[0m | \u001b[0m2.353    \u001b[0m | \u001b[0m0.124    \u001b[0m | \u001b[0m96.22    \u001b[0m | \u001b[0m0.09171  \u001b[0m | \u001b[0m4.409    \u001b[0m |\n",
      "163/163 [==============================] - 0s 1ms/step\n",
      "163/163 [==============================] - 0s 1ms/step\n",
      "163/163 [==============================] - 0s 2ms/step\n",
      "163/163 [==============================] - 0s 1ms/step\n",
      "163/163 [==============================] - 0s 1ms/step\n",
      "| \u001b[0m11       \u001b[0m | \u001b[0m0.9176   \u001b[0m | \u001b[0m8.126    \u001b[0m | \u001b[0m471.8    \u001b[0m | \u001b[0m0.6528   \u001b[0m | \u001b[0m0.2775   \u001b[0m | \u001b[0m49.92    \u001b[0m | \u001b[0m2.543    \u001b[0m | \u001b[0m2.792    \u001b[0m | \u001b[0m0.624    \u001b[0m | \u001b[0m23.6     \u001b[0m | \u001b[0m0.3749   \u001b[0m | \u001b[0m4.451    \u001b[0m |\n",
      "163/163 [==============================] - 0s 1ms/step\n",
      "163/163 [==============================] - 0s 1ms/step\n",
      "163/163 [==============================] - 0s 1ms/step\n",
      "163/163 [==============================] - 0s 1ms/step\n",
      "163/163 [==============================] - 0s 1ms/step\n",
      "| \u001b[0m12       \u001b[0m | \u001b[0m0.7805   \u001b[0m | \u001b[0m4.132    \u001b[0m | \u001b[0m625.8    \u001b[0m | \u001b[0m0.3523   \u001b[0m | \u001b[0m0.198    \u001b[0m | \u001b[0m58.12    \u001b[0m | \u001b[0m1.909    \u001b[0m | \u001b[0m1.25     \u001b[0m | \u001b[0m0.4183   \u001b[0m | \u001b[0m34.58    \u001b[0m | \u001b[0m0.3467   \u001b[0m | \u001b[0m6.821    \u001b[0m |\n",
      "163/163 [==============================] - 0s 2ms/step\n",
      "163/163 [==============================] - 1s 2ms/step\n",
      "163/163 [==============================] - 0s 2ms/step\n",
      "163/163 [==============================] - 0s 2ms/step\n",
      "163/163 [==============================] - 0s 2ms/step\n",
      "| \u001b[0m13       \u001b[0m | \u001b[0m0.8998   \u001b[0m | \u001b[0m1.94     \u001b[0m | \u001b[0m746.3    \u001b[0m | \u001b[0m0.03181  \u001b[0m | \u001b[0m0.2506   \u001b[0m | \u001b[0m76.13    \u001b[0m | \u001b[0m2.932    \u001b[0m | \u001b[0m2.184    \u001b[0m | \u001b[0m0.2252   \u001b[0m | \u001b[0m74.73    \u001b[0m | \u001b[0m0.03087  \u001b[0m | \u001b[0m2.931    \u001b[0m |\n",
      "163/163 [==============================] - 0s 1ms/step\n",
      "163/163 [==============================] - 0s 2ms/step\n",
      "163/163 [==============================] - 0s 845us/step\n",
      "163/163 [==============================] - 0s 1ms/step\n",
      "163/163 [==============================] - 0s 912us/step\n",
      "| \u001b[0m14       \u001b[0m | \u001b[0m0.8441   \u001b[0m | \u001b[0m2.531    \u001b[0m | \u001b[0m285.0    \u001b[0m | \u001b[0m0.4263   \u001b[0m | \u001b[0m0.2522   \u001b[0m | \u001b[0m28.83    \u001b[0m | \u001b[0m2.973    \u001b[0m | \u001b[0m1.467    \u001b[0m | \u001b[0m0.7242   \u001b[0m | \u001b[0m69.48    \u001b[0m | \u001b[0m0.07776  \u001b[0m | \u001b[0m4.881    \u001b[0m |\n",
      "163/163 [==============================] - 0s 1ms/step\n",
      "163/163 [==============================] - 0s 1ms/step\n",
      "163/163 [==============================] - 0s 1ms/step\n",
      "163/163 [==============================] - 0s 1ms/step\n",
      "163/163 [==============================] - 0s 1ms/step\n",
      "| \u001b[95m15       \u001b[0m | \u001b[95m0.9209   \u001b[0m | \u001b[95m2.388    \u001b[0m | \u001b[95m921.5    \u001b[0m | \u001b[95m0.8183   \u001b[0m | \u001b[95m0.1198   \u001b[0m | \u001b[95m85.62    \u001b[0m | \u001b[95m1.396    \u001b[0m | \u001b[95m2.045    \u001b[0m | \u001b[95m0.4184   \u001b[0m | \u001b[95m93.33    \u001b[0m | \u001b[95m0.8254   \u001b[0m | \u001b[95m3.507    \u001b[0m |\n"
     ]
    },
    {
     "name": "stdout",
     "output_type": "stream",
     "text": [
      "163/163 [==============================] - 0s 971us/step\n",
      "163/163 [==============================] - 0s 826us/step\n",
      "163/163 [==============================] - 0s 760us/step\n",
      "163/163 [==============================] - 0s 1ms/step\n",
      "163/163 [==============================] - 0s 880us/step\n",
      "| \u001b[0m16       \u001b[0m | \u001b[0m0.7805   \u001b[0m | \u001b[0m1.051    \u001b[0m | \u001b[0m209.3    \u001b[0m | \u001b[0m0.9132   \u001b[0m | \u001b[0m0.1537   \u001b[0m | \u001b[0m87.45    \u001b[0m | \u001b[0m1.19     \u001b[0m | \u001b[0m2.607    \u001b[0m | \u001b[0m0.07161  \u001b[0m | \u001b[0m67.19    \u001b[0m | \u001b[0m0.9688   \u001b[0m | \u001b[0m2.782    \u001b[0m |\n",
      "163/163 [==============================] - 0s 806us/step\n",
      "163/163 [==============================] - 0s 893us/step\n",
      "163/163 [==============================] - 0s 825us/step\n",
      "163/163 [==============================] - 0s 853us/step\n",
      "163/163 [==============================] - 0s 828us/step\n",
      "| \u001b[0m17       \u001b[0m | \u001b[0m0.6683   \u001b[0m | \u001b[0m5.936    \u001b[0m | \u001b[0m371.9    \u001b[0m | \u001b[0m0.8899   \u001b[0m | \u001b[0m0.296    \u001b[0m | \u001b[0m79.09    \u001b[0m | \u001b[0m2.283    \u001b[0m | \u001b[0m1.504    \u001b[0m | \u001b[0m0.4811   \u001b[0m | \u001b[0m34.13    \u001b[0m | \u001b[0m0.8683   \u001b[0m | \u001b[0m1.868    \u001b[0m |\n",
      "163/163 [==============================] - 0s 709us/step\n",
      "163/163 [==============================] - 0s 991us/step\n",
      "163/163 [==============================] - 0s 800us/step\n",
      "163/163 [==============================] - 0s 759us/step\n",
      "163/163 [==============================] - 0s 758us/step\n",
      "| \u001b[0m18       \u001b[0m | \u001b[0m0.7805   \u001b[0m | \u001b[0m8.757    \u001b[0m | \u001b[0m370.8    \u001b[0m | \u001b[0m0.2978   \u001b[0m | \u001b[0m0.221    \u001b[0m | \u001b[0m21.03    \u001b[0m | \u001b[0m1.06     \u001b[0m | \u001b[0m2.468    \u001b[0m | \u001b[0m0.5033   \u001b[0m | \u001b[0m29.63    \u001b[0m | \u001b[0m0.00893  \u001b[0m | \u001b[0m5.955    \u001b[0m |\n",
      "163/163 [==============================] - 0s 1ms/step\n",
      "163/163 [==============================] - 0s 1ms/step\n",
      "163/163 [==============================] - 0s 1ms/step\n",
      "163/163 [==============================] - 0s 1ms/step\n",
      "163/163 [==============================] - 0s 1ms/step\n",
      "| \u001b[0m19       \u001b[0m | \u001b[0m0.919    \u001b[0m | \u001b[0m4.828    \u001b[0m | \u001b[0m778.8    \u001b[0m | \u001b[0m0.6616   \u001b[0m | \u001b[0m0.2516   \u001b[0m | \u001b[0m51.06    \u001b[0m | \u001b[0m1.852    \u001b[0m | \u001b[0m2.656    \u001b[0m | \u001b[0m0.4743   \u001b[0m | \u001b[0m83.8     \u001b[0m | \u001b[0m0.01418  \u001b[0m | \u001b[0m2.777    \u001b[0m |\n",
      "163/163 [==============================] - 0s 974us/step\n",
      "163/163 [==============================] - 0s 955us/step\n",
      "163/163 [==============================] - 0s 1ms/step\n",
      "163/163 [==============================] - 0s 915us/step\n",
      "163/163 [==============================] - 0s 955us/step\n",
      "| \u001b[0m20       \u001b[0m | \u001b[0m0.5561   \u001b[0m | \u001b[0m1.155    \u001b[0m | \u001b[0m294.5    \u001b[0m | \u001b[0m0.206    \u001b[0m | \u001b[0m0.2243   \u001b[0m | \u001b[0m94.41    \u001b[0m | \u001b[0m1.761    \u001b[0m | \u001b[0m1.921    \u001b[0m | \u001b[0m0.8746   \u001b[0m | \u001b[0m83.31    \u001b[0m | \u001b[0m0.02497  \u001b[0m | \u001b[0m6.111    \u001b[0m |\n",
      "163/163 [==============================] - 0s 937us/step\n",
      "163/163 [==============================] - 0s 917us/step\n",
      "163/163 [==============================] - 0s 909us/step\n",
      "163/163 [==============================] - 0s 862us/step\n",
      "163/163 [==============================] - 0s 873us/step\n",
      "| \u001b[0m21       \u001b[0m | \u001b[0m0.7806   \u001b[0m | \u001b[0m5.441    \u001b[0m | \u001b[0m613.2    \u001b[0m | \u001b[0m0.5893   \u001b[0m | \u001b[0m0.2399   \u001b[0m | \u001b[0m33.86    \u001b[0m | \u001b[0m1.374    \u001b[0m | \u001b[0m1.516    \u001b[0m | \u001b[0m0.06056  \u001b[0m | \u001b[0m59.74    \u001b[0m | \u001b[0m0.3518   \u001b[0m | \u001b[0m6.419    \u001b[0m |\n",
      "163/163 [==============================] - 0s 853us/step\n",
      "163/163 [==============================] - 0s 740us/step\n",
      "163/163 [==============================] - 0s 932us/step\n",
      "163/163 [==============================] - 0s 782us/step\n",
      "163/163 [==============================] - 0s 741us/step\n",
      "| \u001b[0m22       \u001b[0m | \u001b[0m0.9148   \u001b[0m | \u001b[0m4.289    \u001b[0m | \u001b[0m283.6    \u001b[0m | \u001b[0m0.1525   \u001b[0m | \u001b[0m0.08206  \u001b[0m | \u001b[0m82.52    \u001b[0m | \u001b[0m1.786    \u001b[0m | \u001b[0m2.598    \u001b[0m | \u001b[0m0.4387   \u001b[0m | \u001b[0m17.34    \u001b[0m | \u001b[0m0.01064  \u001b[0m | \u001b[0m3.016    \u001b[0m |\n",
      "163/163 [==============================] - 0s 1ms/step\n",
      "163/163 [==============================] - 0s 1ms/step\n",
      "163/163 [==============================] - 1s 2ms/step\n",
      "163/163 [==============================] - 1s 2ms/step\n",
      "163/163 [==============================] - 0s 2ms/step\n",
      "| \u001b[0m23       \u001b[0m | \u001b[0m0.9161   \u001b[0m | \u001b[0m5.966    \u001b[0m | \u001b[0m612.2    \u001b[0m | \u001b[0m0.5801   \u001b[0m | \u001b[0m0.1479   \u001b[0m | \u001b[0m79.24    \u001b[0m | \u001b[0m2.579    \u001b[0m | \u001b[0m2.562    \u001b[0m | \u001b[0m0.1363   \u001b[0m | \u001b[0m94.61    \u001b[0m | \u001b[0m0.8777   \u001b[0m | \u001b[0m4.897    \u001b[0m |\n",
      "163/163 [==============================] - 0s 2ms/step\n",
      "163/163 [==============================] - 0s 1ms/step\n",
      "163/163 [==============================] - 0s 2ms/step\n",
      "163/163 [==============================] - 0s 2ms/step\n",
      "163/163 [==============================] - 0s 2ms/step\n",
      "| \u001b[0m24       \u001b[0m | \u001b[0m0.8605   \u001b[0m | \u001b[0m8.432    \u001b[0m | \u001b[0m739.0    \u001b[0m | \u001b[0m0.5944   \u001b[0m | \u001b[0m0.1035   \u001b[0m | \u001b[0m26.69    \u001b[0m | \u001b[0m2.159    \u001b[0m | \u001b[0m1.035    \u001b[0m | \u001b[0m0.5569   \u001b[0m | \u001b[0m66.93    \u001b[0m | \u001b[0m0.6784   \u001b[0m | \u001b[0m1.194    \u001b[0m |\n",
      "163/163 [==============================] - 0s 1ms/step\n",
      "163/163 [==============================] - 0s 2ms/step\n",
      "163/163 [==============================] - 0s 2ms/step\n",
      "163/163 [==============================] - 0s 1ms/step\n",
      "163/163 [==============================] - 0s 2ms/step\n",
      "| \u001b[0m25       \u001b[0m | \u001b[0m0.6897   \u001b[0m | \u001b[0m5.194    \u001b[0m | \u001b[0m364.8    \u001b[0m | \u001b[0m0.2515   \u001b[0m | \u001b[0m0.2908   \u001b[0m | \u001b[0m91.73    \u001b[0m | \u001b[0m1.246    \u001b[0m | \u001b[0m2.762    \u001b[0m | \u001b[0m0.9485   \u001b[0m | \u001b[0m51.39    \u001b[0m | \u001b[0m0.413    \u001b[0m | \u001b[0m4.04     \u001b[0m |\n",
      "163/163 [==============================] - 0s 2ms/step\n",
      "163/163 [==============================] - 0s 1ms/step\n",
      "163/163 [==============================] - 0s 1ms/step\n",
      "163/163 [==============================] - 0s 1ms/step\n",
      "163/163 [==============================] - 0s 2ms/step\n",
      "| \u001b[0m26       \u001b[0m | \u001b[0m0.7805   \u001b[0m | \u001b[0m0.0      \u001b[0m | \u001b[0m897.0    \u001b[0m | \u001b[0m0.9323   \u001b[0m | \u001b[0m0.0      \u001b[0m | \u001b[0m93.46    \u001b[0m | \u001b[0m1.0      \u001b[0m | \u001b[0m1.0      \u001b[0m | \u001b[0m0.01     \u001b[0m | \u001b[0m53.4     \u001b[0m | \u001b[0m1.0      \u001b[0m | \u001b[0m7.0      \u001b[0m |\n",
      "163/163 [==============================] - 0s 2ms/step\n",
      "163/163 [==============================] - 0s 2ms/step\n",
      "163/163 [==============================] - 0s 2ms/step\n",
      "163/163 [==============================] - 1s 2ms/step\n",
      "163/163 [==============================] - 0s 2ms/step\n",
      "| \u001b[0m27       \u001b[0m | \u001b[0m0.9189   \u001b[0m | \u001b[0m6.366    \u001b[0m | \u001b[0m780.2    \u001b[0m | \u001b[0m0.6271   \u001b[0m | \u001b[0m0.1646   \u001b[0m | \u001b[0m53.26    \u001b[0m | \u001b[0m1.954    \u001b[0m | \u001b[0m2.228    \u001b[0m | \u001b[0m0.6962   \u001b[0m | \u001b[0m81.66    \u001b[0m | \u001b[0m0.1557   \u001b[0m | \u001b[0m2.563    \u001b[0m |\n",
      "163/163 [==============================] - 0s 1ms/step\n",
      "163/163 [==============================] - 0s 1ms/step\n",
      "163/163 [==============================] - 0s 1ms/step\n",
      "163/163 [==============================] - 0s 1ms/step\n",
      "163/163 [==============================] - 0s 1ms/step\n",
      "| \u001b[0m28       \u001b[0m | \u001b[0m0.7805   \u001b[0m | \u001b[0m7.232    \u001b[0m | \u001b[0m845.2    \u001b[0m | \u001b[0m0.0      \u001b[0m | \u001b[0m0.2797   \u001b[0m | \u001b[0m53.0     \u001b[0m | \u001b[0m2.775    \u001b[0m | \u001b[0m2.891    \u001b[0m | \u001b[0m0.8107   \u001b[0m | \u001b[0m36.33    \u001b[0m | \u001b[0m0.3069   \u001b[0m | \u001b[0m0.0      \u001b[0m |\n",
      "163/163 [==============================] - 0s 1ms/step\n",
      "163/163 [==============================] - 0s 1ms/step\n",
      "163/163 [==============================] - 0s 1ms/step\n",
      "163/163 [==============================] - 0s 1ms/step\n",
      "163/163 [==============================] - 0s 1ms/step\n",
      "| \u001b[0m29       \u001b[0m | \u001b[0m0.9165   \u001b[0m | \u001b[0m9.0      \u001b[0m | \u001b[0m273.2    \u001b[0m | \u001b[0m1.0      \u001b[0m | \u001b[0m0.0      \u001b[0m | \u001b[0m51.1     \u001b[0m | \u001b[0m3.0      \u001b[0m | \u001b[0m3.0      \u001b[0m | \u001b[0m1.0      \u001b[0m | \u001b[0m10.0     \u001b[0m | \u001b[0m0.0      \u001b[0m | \u001b[0m0.0      \u001b[0m |\n",
      "=============================================================================================================================================================\n"
     ]
    }
   ],
   "source": [
    "params_nn2 ={\n",
    "    'neurons': (10, 100),\n",
    "    'activation':(0, 9),\n",
    "    'optimizer':(0,7),\n",
    "    'learning_rate':(0.01, 1),\n",
    "    'batch_size':(200, 1000),\n",
    "    'epochs':(20, 100),\n",
    "    'layers1':(1,3),\n",
    "    'layers2':(1,3),\n",
    "    'normalization':(0,1),\n",
    "    'dropout':(0,1),\n",
    "    'dropout_rate':(0,0.3)\n",
    "}\n",
    "# Run Bayesian Optimization\n",
    "nn_bo = BayesianOptimization(nn_cl_bo2, params_nn2, random_state=111)\n",
    "nn_bo.maximize(init_points=25, n_iter=4)"
   ]
  },
  {
   "cell_type": "code",
   "execution_count": 19,
   "id": "61c06651",
   "metadata": {
    "scrolled": true
   },
   "outputs": [
    {
     "data": {
      "text/plain": [
       "{'activation': 'softplus',\n",
       " 'batch_size': 921,\n",
       " 'dropout': 0.8182638736220813,\n",
       " 'dropout_rate': 0.11976995858293202,\n",
       " 'epochs': 86,\n",
       " 'layers1': 1,\n",
       " 'layers2': 2,\n",
       " 'learning_rate': 0.4183500837466161,\n",
       " 'neurons': 93,\n",
       " 'normalization': 0.8253804525121795,\n",
       " 'optimizer': <keras.optimizers.optimizer_v2.adagrad.Adagrad at 0x2a00d95ad60>}"
      ]
     },
     "execution_count": 19,
     "metadata": {},
     "output_type": "execute_result"
    }
   ],
   "source": [
    "params_nn_ = nn_bo.max['params']\n",
    "learning_rate = params_nn_['learning_rate']\n",
    "activationL = ['relu', 'sigmoid', 'softplus', 'softsign', 'tanh', 'selu',\n",
    "               'elu', 'exponential', LeakyReLU,'relu']\n",
    "params_nn_['activation'] = activationL[round(params_nn_['activation'])]\n",
    "params_nn_['batch_size'] = round(params_nn_['batch_size'])\n",
    "params_nn_['epochs'] = round(params_nn_['epochs'])\n",
    "params_nn_['layers1'] = round(params_nn_['layers1'])\n",
    "params_nn_['layers2'] = round(params_nn_['layers2'])\n",
    "params_nn_['neurons'] = round(params_nn_['neurons'])\n",
    "optimizerL = ['Adam', 'SGD', 'RMSprop', 'Adadelta', 'Adagrad', 'Adamax', 'Nadam', 'Ftrl','Adam']\n",
    "optimizerD= {'Adam':Adam(lr=learning_rate), 'SGD':SGD(lr=learning_rate),\n",
    "             'RMSprop':RMSprop(lr=learning_rate), 'Adadelta':Adadelta(lr=learning_rate),\n",
    "             'Adagrad':Adagrad(lr=learning_rate), 'Adamax':Adamax(lr=learning_rate),\n",
    "             'Nadam':Nadam(lr=learning_rate), 'Ftrl':Ftrl(lr=learning_rate)}\n",
    "params_nn_['optimizer'] = optimizerD[optimizerL[round(params_nn_['optimizer'])]]\n",
    "params_nn_"
   ]
  },
  {
   "cell_type": "markdown",
   "id": "f6030840",
   "metadata": {},
   "source": [
    "### <font color='indigo'>6) Final Model"
   ]
  },
  {
   "cell_type": "code",
   "execution_count": 20,
   "id": "68ec73aa",
   "metadata": {},
   "outputs": [
    {
     "name": "stdout",
     "output_type": "stream",
     "text": [
      "Epoch 1/86\n",
      "29/29 [==============================] - 2s 21ms/step - loss: 0.9428 - accuracy: 0.7733 - val_loss: 0.4165 - val_accuracy: 0.8109\n",
      "Epoch 2/86\n",
      "29/29 [==============================] - 0s 12ms/step - loss: 0.3605 - accuracy: 0.8554 - val_loss: 0.3791 - val_accuracy: 0.8431\n",
      "Epoch 3/86\n",
      "29/29 [==============================] - 0s 12ms/step - loss: 0.3474 - accuracy: 0.8666 - val_loss: 0.3542 - val_accuracy: 0.8585\n",
      "Epoch 4/86\n",
      "29/29 [==============================] - 0s 13ms/step - loss: 0.3379 - accuracy: 0.8708 - val_loss: 0.3781 - val_accuracy: 0.8793\n",
      "Epoch 5/86\n",
      "29/29 [==============================] - 0s 11ms/step - loss: 0.3287 - accuracy: 0.8771 - val_loss: 0.3194 - val_accuracy: 0.8763\n",
      "Epoch 6/86\n",
      "29/29 [==============================] - 0s 13ms/step - loss: 0.3187 - accuracy: 0.8817 - val_loss: 0.3370 - val_accuracy: 0.8849\n",
      "Epoch 7/86\n",
      "29/29 [==============================] - 0s 12ms/step - loss: 0.3090 - accuracy: 0.8866 - val_loss: 0.2906 - val_accuracy: 0.8996\n",
      "Epoch 8/86\n",
      "29/29 [==============================] - 0s 14ms/step - loss: 0.3040 - accuracy: 0.8894 - val_loss: 0.2850 - val_accuracy: 0.9048\n",
      "Epoch 9/86\n",
      "29/29 [==============================] - 0s 12ms/step - loss: 0.2967 - accuracy: 0.8927 - val_loss: 0.3074 - val_accuracy: 0.8803\n",
      "Epoch 10/86\n",
      "29/29 [==============================] - 0s 12ms/step - loss: 0.2895 - accuracy: 0.8965 - val_loss: 0.2770 - val_accuracy: 0.9024\n",
      "Epoch 11/86\n",
      "29/29 [==============================] - 0s 14ms/step - loss: 0.2841 - accuracy: 0.8996 - val_loss: 0.2619 - val_accuracy: 0.9122\n",
      "Epoch 12/86\n",
      "29/29 [==============================] - 0s 12ms/step - loss: 0.2773 - accuracy: 0.9024 - val_loss: 0.2561 - val_accuracy: 0.9122\n",
      "Epoch 13/86\n",
      "29/29 [==============================] - 0s 13ms/step - loss: 0.2767 - accuracy: 0.9016 - val_loss: 0.2645 - val_accuracy: 0.9048\n",
      "Epoch 14/86\n",
      "29/29 [==============================] - 0s 13ms/step - loss: 0.2741 - accuracy: 0.9036 - val_loss: 0.2567 - val_accuracy: 0.9076\n",
      "Epoch 15/86\n",
      "29/29 [==============================] - 0s 12ms/step - loss: 0.2776 - accuracy: 0.9027 - val_loss: 0.2998 - val_accuracy: 0.8922\n",
      "Epoch 16/86\n",
      "29/29 [==============================] - 0s 12ms/step - loss: 0.2680 - accuracy: 0.9060 - val_loss: 0.3030 - val_accuracy: 0.8876\n",
      "Epoch 17/86\n",
      "29/29 [==============================] - 0s 12ms/step - loss: 0.2679 - accuracy: 0.9050 - val_loss: 0.2936 - val_accuracy: 0.8990\n",
      "Epoch 18/86\n",
      "29/29 [==============================] - 0s 12ms/step - loss: 0.2662 - accuracy: 0.9047 - val_loss: 0.2650 - val_accuracy: 0.9051\n",
      "Epoch 19/86\n",
      "29/29 [==============================] - 0s 12ms/step - loss: 0.2615 - accuracy: 0.9076 - val_loss: 0.2547 - val_accuracy: 0.9051\n",
      "Epoch 20/86\n",
      "29/29 [==============================] - 0s 12ms/step - loss: 0.2606 - accuracy: 0.9082 - val_loss: 0.2551 - val_accuracy: 0.9073\n",
      "Epoch 21/86\n",
      "29/29 [==============================] - 0s 12ms/step - loss: 0.2573 - accuracy: 0.9099 - val_loss: 0.2974 - val_accuracy: 0.8858\n",
      "Epoch 22/86\n",
      "29/29 [==============================] - 0s 12ms/step - loss: 0.2574 - accuracy: 0.9102 - val_loss: 0.2569 - val_accuracy: 0.9085\n",
      "Epoch 23/86\n",
      "29/29 [==============================] - 0s 12ms/step - loss: 0.2557 - accuracy: 0.9086 - val_loss: 0.2377 - val_accuracy: 0.9165\n",
      "Epoch 24/86\n",
      "29/29 [==============================] - 0s 12ms/step - loss: 0.2508 - accuracy: 0.9121 - val_loss: 0.2515 - val_accuracy: 0.9103\n",
      "Epoch 25/86\n",
      "29/29 [==============================] - 0s 12ms/step - loss: 0.2498 - accuracy: 0.9134 - val_loss: 0.2437 - val_accuracy: 0.9193\n",
      "Epoch 26/86\n",
      "29/29 [==============================] - 0s 12ms/step - loss: 0.2526 - accuracy: 0.9116 - val_loss: 0.3261 - val_accuracy: 0.8892\n",
      "Epoch 27/86\n",
      "29/29 [==============================] - 0s 12ms/step - loss: 0.2536 - accuracy: 0.9124 - val_loss: 0.2280 - val_accuracy: 0.9226\n",
      "Epoch 28/86\n",
      "29/29 [==============================] - 0s 12ms/step - loss: 0.2465 - accuracy: 0.9139 - val_loss: 0.2306 - val_accuracy: 0.9214\n",
      "Epoch 29/86\n",
      "29/29 [==============================] - 0s 12ms/step - loss: 0.2445 - accuracy: 0.9149 - val_loss: 0.2496 - val_accuracy: 0.9116\n",
      "Epoch 30/86\n",
      "29/29 [==============================] - 0s 12ms/step - loss: 0.2461 - accuracy: 0.9136 - val_loss: 0.2479 - val_accuracy: 0.9143\n",
      "Epoch 31/86\n",
      "29/29 [==============================] - 0s 15ms/step - loss: 0.2447 - accuracy: 0.9146 - val_loss: 0.2321 - val_accuracy: 0.9177\n",
      "Epoch 32/86\n",
      "29/29 [==============================] - 0s 13ms/step - loss: 0.2444 - accuracy: 0.9153 - val_loss: 0.2703 - val_accuracy: 0.9082\n",
      "Epoch 33/86\n",
      "29/29 [==============================] - 0s 12ms/step - loss: 0.2492 - accuracy: 0.9117 - val_loss: 0.2451 - val_accuracy: 0.9159\n",
      "Epoch 34/86\n",
      "29/29 [==============================] - 0s 12ms/step - loss: 0.2413 - accuracy: 0.9154 - val_loss: 0.2564 - val_accuracy: 0.9125\n",
      "Epoch 35/86\n",
      "29/29 [==============================] - 0s 12ms/step - loss: 0.2416 - accuracy: 0.9161 - val_loss: 0.2373 - val_accuracy: 0.9153\n",
      "Epoch 36/86\n",
      "29/29 [==============================] - 0s 12ms/step - loss: 0.2415 - accuracy: 0.9150 - val_loss: 0.2887 - val_accuracy: 0.9042\n",
      "Epoch 37/86\n",
      "29/29 [==============================] - 0s 12ms/step - loss: 0.2459 - accuracy: 0.9127 - val_loss: 0.2302 - val_accuracy: 0.9186\n",
      "Epoch 38/86\n",
      "29/29 [==============================] - 0s 13ms/step - loss: 0.2399 - accuracy: 0.9165 - val_loss: 0.2764 - val_accuracy: 0.9070\n",
      "Epoch 39/86\n",
      "29/29 [==============================] - 0s 12ms/step - loss: 0.2406 - accuracy: 0.9162 - val_loss: 0.2167 - val_accuracy: 0.9306\n",
      "Epoch 40/86\n",
      "29/29 [==============================] - 0s 13ms/step - loss: 0.2360 - accuracy: 0.9180 - val_loss: 0.2238 - val_accuracy: 0.9248\n",
      "Epoch 41/86\n",
      "29/29 [==============================] - 0s 13ms/step - loss: 0.2371 - accuracy: 0.9183 - val_loss: 0.2428 - val_accuracy: 0.9162\n",
      "Epoch 42/86\n",
      "29/29 [==============================] - 0s 13ms/step - loss: 0.2370 - accuracy: 0.9179 - val_loss: 0.2421 - val_accuracy: 0.9199\n",
      "Epoch 43/86\n",
      "29/29 [==============================] - 0s 12ms/step - loss: 0.2427 - accuracy: 0.9147 - val_loss: 0.2361 - val_accuracy: 0.9193\n",
      "Epoch 44/86\n",
      "29/29 [==============================] - 0s 12ms/step - loss: 0.2351 - accuracy: 0.9187 - val_loss: 0.2246 - val_accuracy: 0.9229\n",
      "Epoch 45/86\n",
      "29/29 [==============================] - 0s 12ms/step - loss: 0.2314 - accuracy: 0.9204 - val_loss: 0.2511 - val_accuracy: 0.9125\n",
      "Epoch 46/86\n",
      "29/29 [==============================] - 0s 13ms/step - loss: 0.2354 - accuracy: 0.9175 - val_loss: 0.2229 - val_accuracy: 0.9220\n",
      "Epoch 47/86\n",
      "29/29 [==============================] - 0s 12ms/step - loss: 0.2318 - accuracy: 0.9191 - val_loss: 0.2351 - val_accuracy: 0.9183\n",
      "Epoch 48/86\n",
      "29/29 [==============================] - 0s 12ms/step - loss: 0.2343 - accuracy: 0.9183 - val_loss: 0.2220 - val_accuracy: 0.9235\n",
      "Epoch 49/86\n",
      "29/29 [==============================] - 0s 12ms/step - loss: 0.2287 - accuracy: 0.9200 - val_loss: 0.2395 - val_accuracy: 0.9235\n",
      "Epoch 50/86\n",
      "29/29 [==============================] - 0s 12ms/step - loss: 0.2337 - accuracy: 0.9195 - val_loss: 0.2702 - val_accuracy: 0.9125\n",
      "Epoch 51/86\n",
      "29/29 [==============================] - 0s 12ms/step - loss: 0.2334 - accuracy: 0.9200 - val_loss: 0.2266 - val_accuracy: 0.9223\n",
      "Epoch 52/86\n",
      "29/29 [==============================] - 0s 13ms/step - loss: 0.2289 - accuracy: 0.9201 - val_loss: 0.2269 - val_accuracy: 0.9220\n",
      "Epoch 53/86\n",
      "29/29 [==============================] - 0s 13ms/step - loss: 0.2287 - accuracy: 0.9206 - val_loss: 0.2359 - val_accuracy: 0.9248\n",
      "Epoch 54/86\n",
      "29/29 [==============================] - 0s 12ms/step - loss: 0.2310 - accuracy: 0.9207 - val_loss: 0.2702 - val_accuracy: 0.9134\n",
      "Epoch 55/86\n",
      "29/29 [==============================] - 0s 14ms/step - loss: 0.2308 - accuracy: 0.9197 - val_loss: 0.2165 - val_accuracy: 0.9257\n",
      "Epoch 56/86\n",
      "29/29 [==============================] - 0s 12ms/step - loss: 0.2269 - accuracy: 0.9211 - val_loss: 0.2439 - val_accuracy: 0.9162\n",
      "Epoch 57/86\n",
      "29/29 [==============================] - 0s 13ms/step - loss: 0.2318 - accuracy: 0.9184 - val_loss: 0.2175 - val_accuracy: 0.9248\n",
      "Epoch 58/86\n",
      "29/29 [==============================] - 0s 12ms/step - loss: 0.2253 - accuracy: 0.9226 - val_loss: 0.2267 - val_accuracy: 0.9235\n"
     ]
    },
    {
     "name": "stdout",
     "output_type": "stream",
     "text": [
      "Epoch 59/86\n",
      "29/29 [==============================] - 0s 12ms/step - loss: 0.2270 - accuracy: 0.9213 - val_loss: 0.2156 - val_accuracy: 0.9251\n",
      "Epoch 60/86\n",
      "29/29 [==============================] - 0s 12ms/step - loss: 0.2264 - accuracy: 0.9218 - val_loss: 0.2142 - val_accuracy: 0.9282\n",
      "Epoch 61/86\n",
      "29/29 [==============================] - 0s 12ms/step - loss: 0.2259 - accuracy: 0.9222 - val_loss: 0.2198 - val_accuracy: 0.9223\n",
      "Epoch 62/86\n",
      "29/29 [==============================] - 0s 12ms/step - loss: 0.2243 - accuracy: 0.9232 - val_loss: 0.2457 - val_accuracy: 0.9223\n",
      "Epoch 63/86\n",
      "29/29 [==============================] - 0s 12ms/step - loss: 0.2276 - accuracy: 0.9213 - val_loss: 0.2274 - val_accuracy: 0.9220\n",
      "Epoch 64/86\n",
      "29/29 [==============================] - 0s 12ms/step - loss: 0.2243 - accuracy: 0.9219 - val_loss: 0.2235 - val_accuracy: 0.9248\n",
      "Epoch 65/86\n",
      "29/29 [==============================] - 0s 12ms/step - loss: 0.2241 - accuracy: 0.9231 - val_loss: 0.2220 - val_accuracy: 0.9220\n",
      "Epoch 66/86\n",
      "29/29 [==============================] - 0s 13ms/step - loss: 0.2230 - accuracy: 0.9223 - val_loss: 0.2246 - val_accuracy: 0.9239\n",
      "Epoch 67/86\n",
      "29/29 [==============================] - 0s 12ms/step - loss: 0.2237 - accuracy: 0.9236 - val_loss: 0.2287 - val_accuracy: 0.9217\n",
      "Epoch 68/86\n",
      "29/29 [==============================] - 0s 12ms/step - loss: 0.2236 - accuracy: 0.9236 - val_loss: 0.2472 - val_accuracy: 0.9196\n",
      "Epoch 69/86\n",
      "29/29 [==============================] - 0s 12ms/step - loss: 0.2252 - accuracy: 0.9229 - val_loss: 0.2196 - val_accuracy: 0.9275\n",
      "Epoch 70/86\n",
      "29/29 [==============================] - 0s 14ms/step - loss: 0.2221 - accuracy: 0.9228 - val_loss: 0.2246 - val_accuracy: 0.9251\n",
      "Epoch 71/86\n",
      "29/29 [==============================] - 0s 12ms/step - loss: 0.2219 - accuracy: 0.9232 - val_loss: 0.2195 - val_accuracy: 0.9294\n",
      "Epoch 72/86\n",
      "29/29 [==============================] - 0s 13ms/step - loss: 0.2215 - accuracy: 0.9242 - val_loss: 0.2248 - val_accuracy: 0.9254\n",
      "Epoch 73/86\n",
      "29/29 [==============================] - 0s 13ms/step - loss: 0.2209 - accuracy: 0.9240 - val_loss: 0.2171 - val_accuracy: 0.9275\n",
      "Epoch 74/86\n",
      "29/29 [==============================] - 0s 12ms/step - loss: 0.2197 - accuracy: 0.9239 - val_loss: 0.2227 - val_accuracy: 0.9269\n",
      "Epoch 75/86\n",
      "29/29 [==============================] - 0s 12ms/step - loss: 0.2219 - accuracy: 0.9228 - val_loss: 0.2181 - val_accuracy: 0.9278\n",
      "Epoch 76/86\n",
      "29/29 [==============================] - 0s 12ms/step - loss: 0.2230 - accuracy: 0.9236 - val_loss: 0.2208 - val_accuracy: 0.9260\n",
      "Epoch 77/86\n",
      "29/29 [==============================] - 0s 12ms/step - loss: 0.2215 - accuracy: 0.9235 - val_loss: 0.2174 - val_accuracy: 0.9272\n",
      "Epoch 78/86\n",
      "29/29 [==============================] - 0s 12ms/step - loss: 0.2211 - accuracy: 0.9234 - val_loss: 0.2215 - val_accuracy: 0.9260\n",
      "Epoch 79/86\n",
      "29/29 [==============================] - 0s 12ms/step - loss: 0.2182 - accuracy: 0.9245 - val_loss: 0.2377 - val_accuracy: 0.9229\n",
      "Epoch 80/86\n",
      "29/29 [==============================] - 0s 12ms/step - loss: 0.2197 - accuracy: 0.9242 - val_loss: 0.2246 - val_accuracy: 0.9242\n",
      "Epoch 81/86\n",
      "29/29 [==============================] - 0s 11ms/step - loss: 0.2204 - accuracy: 0.9231 - val_loss: 0.2142 - val_accuracy: 0.9309\n",
      "Epoch 82/86\n",
      "29/29 [==============================] - 0s 11ms/step - loss: 0.2182 - accuracy: 0.9251 - val_loss: 0.2249 - val_accuracy: 0.9254\n",
      "Epoch 83/86\n",
      "29/29 [==============================] - 0s 12ms/step - loss: 0.2198 - accuracy: 0.9245 - val_loss: 0.2183 - val_accuracy: 0.9315\n",
      "Epoch 84/86\n",
      "29/29 [==============================] - 0s 12ms/step - loss: 0.2178 - accuracy: 0.9252 - val_loss: 0.2288 - val_accuracy: 0.9254\n",
      "Epoch 85/86\n",
      "29/29 [==============================] - 0s 12ms/step - loss: 0.2191 - accuracy: 0.9249 - val_loss: 0.2249 - val_accuracy: 0.9245\n",
      "Epoch 86/86\n",
      "29/29 [==============================] - 0s 12ms/step - loss: 0.2157 - accuracy: 0.9261 - val_loss: 0.2344 - val_accuracy: 0.9257\n"
     ]
    },
    {
     "data": {
      "text/plain": [
       "<keras.callbacks.History at 0x2a008677760>"
      ]
     },
     "execution_count": 20,
     "metadata": {},
     "output_type": "execute_result"
    }
   ],
   "source": [
    "# Fitting Neural Network\n",
    "def nn_cl_fun():\n",
    "    nn = Sequential()\n",
    "    nn.add(Dense(params_nn_['neurons'], input_dim=26, activation=params_nn_['activation']))\n",
    "    if params_nn_['normalization'] > 0.5:\n",
    "        nn.add(BatchNormalization())\n",
    "    for i in range(params_nn_['layers1']):\n",
    "        nn.add(Dense(params_nn_['neurons'], activation=params_nn_['activation']))\n",
    "    if params_nn_['dropout'] > 0.5:\n",
    "        nn.add(Dropout(params_nn_['dropout_rate'], seed=123))\n",
    "    for i in range(params_nn_['layers2']):\n",
    "        nn.add(Dense(params_nn_['neurons'], activation=params_nn_['activation']))\n",
    "    nn.add(Dense(1, activation='sigmoid'))\n",
    "    nn.compile(loss='binary_crossentropy', optimizer=params_nn_['optimizer'], metrics=['accuracy'])\n",
    "    return nn\n",
    "        \n",
    "es = EarlyStopping(monitor='accuracy', mode='max', verbose=0, patience=20)\n",
    "nn = KerasClassifier(build_fn=nn_cl_fun, epochs=params_nn_['epochs'], batch_size=params_nn_['batch_size'],\n",
    "                         verbose=0)\n",
    " \n",
    "nn.fit(X_train, Y_train, validation_data=(X_valid, Y_valid), verbose=1)"
   ]
  },
  {
   "cell_type": "code",
   "execution_count": 29,
   "id": "ab084596",
   "metadata": {
    "scrolled": true
   },
   "outputs": [
    {
     "name": "stdout",
     "output_type": "stream",
     "text": [
      "102/102 [==============================] - 0s 2ms/step\n",
      "              precision    recall  f1-score   support\n",
      "\n",
      " Non-Default       0.93      0.97      0.95      2566\n",
      "     Default       0.87      0.72      0.79       692\n",
      "\n",
      "    accuracy                           0.92      3258\n",
      "   macro avg       0.90      0.85      0.87      3258\n",
      "weighted avg       0.92      0.92      0.92      3258\n",
      "\n"
     ]
    }
   ],
   "source": [
    "Y_pred_2 = nn.predict_proba(X_test)[:,1]\n",
    "Y_pred_cat_2 = np.where(Y_pred_2 > 0.5, 1, 0)\n",
    "target_names = ['Non-Default', 'Default']\n",
    "print(classification_report(Y_test, Y_pred_cat_2, target_names=target_names))"
   ]
  },
  {
   "cell_type": "code",
   "execution_count": 33,
   "id": "747e812a",
   "metadata": {
    "scrolled": false
   },
   "outputs": [
    {
     "data": {
      "image/png": "[encoded data removed]",
      "text/plain": [
       "<Figure size 640x480 with 2 Axes>"
      ]
     },
     "metadata": {},
     "output_type": "display_data"
    }
   ],
   "source": [
    "cm_final_model = confusion_matrix(Y_test, Y_pred_cat_2)\n",
    "ax = sns.heatmap(cm_final_model, annot=True, annot_kws={\"size\": 10}, cmap='Blues', fmt=\"d\")\n",
    "ax.set_title('      Confusion Matrix - ANN - DF1\\n')\n",
    "ax.set_xlabel('\\nPredicted Values')\n",
    "ax.set_ylabel('Actual Values ');\n",
    "plt.show()"
   ]
  },
  {
   "cell_type": "code",
   "execution_count": 1,
   "id": "812d28cb",
   "metadata": {
    "scrolled": false
   },
   "outputs": [
    {
     "ename": "NameError",
     "evalue": "name 'roc_curve' is not defined",
     "output_type": "error",
     "traceback": [
      "\u001b[1;31m---------------------------------------------------------------------------\u001b[0m",
      "\u001b[1;31mNameError\u001b[0m                                 Traceback (most recent call last)",
      "\u001b[1;32m~\\AppData\\Local\\Temp\\ipykernel_12456\\3356665775.py\u001b[0m in \u001b[0;36m<module>\u001b[1;34m\u001b[0m\n\u001b[1;32m----> 1\u001b[1;33m \u001b[0mfpr\u001b[0m\u001b[1;33m,\u001b[0m \u001b[0mtpr\u001b[0m\u001b[1;33m,\u001b[0m \u001b[0mthresholds\u001b[0m \u001b[1;33m=\u001b[0m \u001b[0mroc_curve\u001b[0m\u001b[1;33m(\u001b[0m\u001b[0mY_test\u001b[0m\u001b[1;33m,\u001b[0m \u001b[0mY_pred_2\u001b[0m\u001b[1;33m)\u001b[0m\u001b[1;33m\u001b[0m\u001b[1;33m\u001b[0m\u001b[0m\n\u001b[0m\u001b[0;32m      2\u001b[0m \u001b[0mplt\u001b[0m\u001b[1;33m.\u001b[0m\u001b[0mplot\u001b[0m\u001b[1;33m(\u001b[0m\u001b[1;33m[\u001b[0m\u001b[1;36m0\u001b[0m\u001b[1;33m,\u001b[0m\u001b[1;36m1\u001b[0m\u001b[1;33m]\u001b[0m\u001b[1;33m,\u001b[0m\u001b[1;33m[\u001b[0m\u001b[1;36m0\u001b[0m\u001b[1;33m,\u001b[0m\u001b[1;36m1\u001b[0m\u001b[1;33m]\u001b[0m\u001b[1;33m,\u001b[0m\u001b[1;34m'k--'\u001b[0m\u001b[1;33m)\u001b[0m\u001b[1;33m\u001b[0m\u001b[1;33m\u001b[0m\u001b[0m\n\u001b[0;32m      3\u001b[0m \u001b[0mplt\u001b[0m\u001b[1;33m.\u001b[0m\u001b[0mplot\u001b[0m\u001b[1;33m(\u001b[0m\u001b[0mfpr\u001b[0m\u001b[1;33m,\u001b[0m\u001b[0mtpr\u001b[0m\u001b[1;33m,\u001b[0m \u001b[0mlabel\u001b[0m\u001b[1;33m=\u001b[0m\u001b[1;34m'ANN'\u001b[0m\u001b[1;33m)\u001b[0m\u001b[1;33m\u001b[0m\u001b[1;33m\u001b[0m\u001b[0m\n\u001b[0;32m      4\u001b[0m \u001b[0mplt\u001b[0m\u001b[1;33m.\u001b[0m\u001b[0mxlabel\u001b[0m\u001b[1;33m(\u001b[0m\u001b[1;34m'False Positive Rate (FPR)'\u001b[0m\u001b[1;33m)\u001b[0m\u001b[1;33m\u001b[0m\u001b[1;33m\u001b[0m\u001b[0m\n\u001b[0;32m      5\u001b[0m \u001b[0mplt\u001b[0m\u001b[1;33m.\u001b[0m\u001b[0mylabel\u001b[0m\u001b[1;33m(\u001b[0m\u001b[1;34m'True Positive Rate (TPR)'\u001b[0m\u001b[1;33m)\u001b[0m\u001b[1;33m\u001b[0m\u001b[1;33m\u001b[0m\u001b[0m\n",
      "\u001b[1;31mNameError\u001b[0m: name 'roc_curve' is not defined"
     ]
    }
   ],
   "source": [
    "fpr, tpr, thresholds = roc_curve(Y_test, Y_pred_2)\n",
    "plt.plot([0,1],[0,1],'k--')\n",
    "plt.plot(fpr,tpr, label='ANN')\n",
    "plt.xlabel('False Positive Rate (FPR)')\n",
    "plt.ylabel('True Positive Rate (TPR)')\n",
    "plt.title('ROC curve - ANN - DF1')\n",
    "plt.show()"
   ]
  },
  {
   "cell_type": "code",
   "execution_count": 32,
   "id": "42adb67c",
   "metadata": {},
   "outputs": [
    {
     "data": {
      "text/plain": [
       "0.9187130280817629"
      ]
     },
     "execution_count": 32,
     "metadata": {},
     "output_type": "execute_result"
    }
   ],
   "source": [
    "roc_auc_score(Y_test, Y_pred_2)"
   ]
  }
 ],
 "metadata": {
  "kernelspec": {
   "display_name": "Python 3 (ipykernel)",
   "language": "python",
   "name": "python3"
  },
  "language_info": {
   "codemirror_mode": {
    "name": "ipython",
    "version": 3
   },
   "file_extension": ".py",
   "mimetype": "text/x-python",
   "name": "python",
   "nbconvert_exporter": "python",
   "pygments_lexer": "ipython3",
   "version": "3.9.12"
  }
 },
 "nbformat": 4,
 "nbformat_minor": 5
}
