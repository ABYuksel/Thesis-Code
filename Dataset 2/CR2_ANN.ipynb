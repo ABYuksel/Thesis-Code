{
 "cells": [
  {
   "cell_type": "markdown",
   "id": "ad489b06",
   "metadata": {},
   "source": [
    "### <font color='indigo'>1) Import the Required Packages and Load the Dataset"
   ]
  },
  {
   "cell_type": "code",
   "execution_count": 1,
   "id": "50fa65de",
   "metadata": {},
   "outputs": [],
   "source": [
    "import numpy as np\n",
    "import pandas as pd\n",
    "import matplotlib.pyplot as plt\n",
    "import seaborn as sns\n",
    "import tensorflow as tf\n",
    "\n",
    "from sklearn.model_selection import train_test_split\n",
    "from sklearn.preprocessing import StandardScaler\n",
    "from keras.models import Sequential\n",
    "from keras.layers import Dense\n",
    "from sklearn.metrics import classification_report\n",
    "from sklearn.metrics import confusion_matrix\n",
    "from sklearn.metrics import roc_curve\n",
    "from sklearn.metrics import roc_auc_score\n",
    "\n",
    "#for hyperparameter optimization\n",
    "#!pip install bayesian-optimization\n",
    "from keras.layers import Dense, BatchNormalization, Dropout\n",
    "from keras.optimizers import Adam, SGD, RMSprop, Adadelta, Adagrad, Adamax, Nadam, Ftrl\n",
    "from keras.callbacks import EarlyStopping, ModelCheckpoint\n",
    "from keras.wrappers.scikit_learn import KerasClassifier\n",
    "from math import floor\n",
    "from sklearn.model_selection import cross_val_score\n",
    "from sklearn.metrics import make_scorer, accuracy_score\n",
    "from bayes_opt import BayesianOptimization\n",
    "from sklearn.model_selection import StratifiedKFold\n",
    "from keras.layers import LeakyReLU\n",
    "LeakyReLU = LeakyReLU(alpha=0.1)\n",
    "import warnings\n",
    "warnings.filterwarnings('ignore')"
   ]
  },
  {
   "cell_type": "markdown",
   "id": "a2dcc5a3",
   "metadata": {},
   "source": [
    "* The categorical variables in the dataset are already encoded."
   ]
  },
  {
   "cell_type": "code",
   "execution_count": 2,
   "id": "eb67d0dd",
   "metadata": {
    "collapsed": true
   },
   "outputs": [
    {
     "name": "stdout",
     "output_type": "stream",
     "text": [
      "<class 'pandas.core.frame.DataFrame'>\n",
      "RangeIndex: 45528 entries, 0 to 45527\n",
      "Data columns (total 39 columns):\n",
      " #   Column                                 Non-Null Count  Dtype  \n",
      "---  ------                                 --------------  -----  \n",
      " 0   age                                    45528 non-null  float64\n",
      " 1   no_of_children                         45528 non-null  float64\n",
      " 2   net_yearly_income                      45528 non-null  float64\n",
      " 3   no_of_days_employed                    45528 non-null  float64\n",
      " 4   total_family_members                   45528 non-null  float64\n",
      " 5   migrant_worker                         45528 non-null  float64\n",
      " 6   yearly_debt_payments                   45528 non-null  float64\n",
      " 7   credit_limit                           45528 non-null  float64\n",
      " 8   credit_limit_used(%)                   45528 non-null  float64\n",
      " 9   credit_score                           45528 non-null  float64\n",
      " 10  prev_defaults                          45528 non-null  float64\n",
      " 11  default_in_last_6months                45528 non-null  float64\n",
      " 12  credit_card_default                    45528 non-null  float64\n",
      " 13  gender_F                               45528 non-null  float64\n",
      " 14  gender_M                               45528 non-null  float64\n",
      " 15  gender_XNA                             45528 non-null  float64\n",
      " 16  owns_car_N                             45528 non-null  float64\n",
      " 17  owns_car_Y                             45528 non-null  float64\n",
      " 18  owns_house_N                           45528 non-null  float64\n",
      " 19  owns_house_Y                           45528 non-null  float64\n",
      " 20  occupation_type_Accountants            45528 non-null  float64\n",
      " 21  occupation_type_Cleaning staff         45528 non-null  float64\n",
      " 22  occupation_type_Cooking staff          45528 non-null  float64\n",
      " 23  occupation_type_Core staff             45528 non-null  float64\n",
      " 24  occupation_type_Drivers                45528 non-null  float64\n",
      " 25  occupation_type_HR staff               45528 non-null  float64\n",
      " 26  occupation_type_High skill tech staff  45528 non-null  float64\n",
      " 27  occupation_type_IT staff               45528 non-null  float64\n",
      " 28  occupation_type_Laborers               45528 non-null  float64\n",
      " 29  occupation_type_Low-skill Laborers     45528 non-null  float64\n",
      " 30  occupation_type_Managers               45528 non-null  float64\n",
      " 31  occupation_type_Medicine staff         45528 non-null  float64\n",
      " 32  occupation_type_Private service staff  45528 non-null  float64\n",
      " 33  occupation_type_Realty agents          45528 non-null  float64\n",
      " 34  occupation_type_Sales staff            45528 non-null  float64\n",
      " 35  occupation_type_Secretaries            45528 non-null  float64\n",
      " 36  occupation_type_Security staff         45528 non-null  float64\n",
      " 37  occupation_type_Unknown                45528 non-null  float64\n",
      " 38  occupation_type_Waiters/barmen staff   45528 non-null  float64\n",
      "dtypes: float64(39)\n",
      "memory usage: 13.5 MB\n"
     ]
    }
   ],
   "source": [
    "df = pd.read_csv(\"CR2_Data_Processed.csv\", header=0, skiprows=0)\n",
    "df.info()"
   ]
  },
  {
   "cell_type": "code",
   "execution_count": 4,
   "id": "b06a4192",
   "metadata": {},
   "outputs": [
    {
     "data": {
      "text/html": [
       "<div>\n",
       "<style scoped>\n",
       "    .dataframe tbody tr th:only-of-type {\n",
       "        vertical-align: middle;\n",
       "    }\n",
       "\n",
       "    .dataframe tbody tr th {\n",
       "        vertical-align: top;\n",
       "    }\n",
       "\n",
       "    .dataframe thead th {\n",
       "        text-align: right;\n",
       "    }\n",
       "</style>\n",
       "<table border=\"1\" class=\"dataframe\">\n",
       "  <thead>\n",
       "    <tr style=\"text-align: right;\">\n",
       "      <th></th>\n",
       "      <th>age</th>\n",
       "      <th>no_of_children</th>\n",
       "      <th>net_yearly_income</th>\n",
       "      <th>no_of_days_employed</th>\n",
       "      <th>total_family_members</th>\n",
       "      <th>migrant_worker</th>\n",
       "      <th>yearly_debt_payments</th>\n",
       "      <th>credit_limit</th>\n",
       "      <th>credit_limit_used(%)</th>\n",
       "      <th>credit_score</th>\n",
       "      <th>...</th>\n",
       "      <th>occupation_type_Low-skill Laborers</th>\n",
       "      <th>occupation_type_Managers</th>\n",
       "      <th>occupation_type_Medicine staff</th>\n",
       "      <th>occupation_type_Private service staff</th>\n",
       "      <th>occupation_type_Realty agents</th>\n",
       "      <th>occupation_type_Sales staff</th>\n",
       "      <th>occupation_type_Secretaries</th>\n",
       "      <th>occupation_type_Security staff</th>\n",
       "      <th>occupation_type_Unknown</th>\n",
       "      <th>occupation_type_Waiters/barmen staff</th>\n",
       "    </tr>\n",
       "  </thead>\n",
       "  <tbody>\n",
       "    <tr>\n",
       "      <th>0</th>\n",
       "      <td>46.0</td>\n",
       "      <td>0.0</td>\n",
       "      <td>107934.04</td>\n",
       "      <td>612.0</td>\n",
       "      <td>1.0</td>\n",
       "      <td>1.0</td>\n",
       "      <td>33070.28</td>\n",
       "      <td>18690.93</td>\n",
       "      <td>73.0</td>\n",
       "      <td>544.0</td>\n",
       "      <td>...</td>\n",
       "      <td>0.0</td>\n",
       "      <td>0.0</td>\n",
       "      <td>0.0</td>\n",
       "      <td>0.0</td>\n",
       "      <td>0.0</td>\n",
       "      <td>0.0</td>\n",
       "      <td>0.0</td>\n",
       "      <td>0.0</td>\n",
       "      <td>1.0</td>\n",
       "      <td>0.0</td>\n",
       "    </tr>\n",
       "    <tr>\n",
       "      <th>1</th>\n",
       "      <td>29.0</td>\n",
       "      <td>0.0</td>\n",
       "      <td>109862.62</td>\n",
       "      <td>2771.0</td>\n",
       "      <td>2.0</td>\n",
       "      <td>0.0</td>\n",
       "      <td>15329.53</td>\n",
       "      <td>37745.19</td>\n",
       "      <td>52.0</td>\n",
       "      <td>857.0</td>\n",
       "      <td>...</td>\n",
       "      <td>0.0</td>\n",
       "      <td>0.0</td>\n",
       "      <td>0.0</td>\n",
       "      <td>0.0</td>\n",
       "      <td>0.0</td>\n",
       "      <td>0.0</td>\n",
       "      <td>0.0</td>\n",
       "      <td>0.0</td>\n",
       "      <td>0.0</td>\n",
       "      <td>0.0</td>\n",
       "    </tr>\n",
       "    <tr>\n",
       "      <th>2</th>\n",
       "      <td>37.0</td>\n",
       "      <td>0.0</td>\n",
       "      <td>230153.17</td>\n",
       "      <td>204.0</td>\n",
       "      <td>2.0</td>\n",
       "      <td>0.0</td>\n",
       "      <td>48416.60</td>\n",
       "      <td>41598.36</td>\n",
       "      <td>43.0</td>\n",
       "      <td>650.0</td>\n",
       "      <td>...</td>\n",
       "      <td>0.0</td>\n",
       "      <td>0.0</td>\n",
       "      <td>0.0</td>\n",
       "      <td>0.0</td>\n",
       "      <td>0.0</td>\n",
       "      <td>0.0</td>\n",
       "      <td>0.0</td>\n",
       "      <td>0.0</td>\n",
       "      <td>0.0</td>\n",
       "      <td>0.0</td>\n",
       "    </tr>\n",
       "    <tr>\n",
       "      <th>3</th>\n",
       "      <td>39.0</td>\n",
       "      <td>0.0</td>\n",
       "      <td>122325.82</td>\n",
       "      <td>11941.0</td>\n",
       "      <td>2.0</td>\n",
       "      <td>0.0</td>\n",
       "      <td>22574.36</td>\n",
       "      <td>32627.76</td>\n",
       "      <td>20.0</td>\n",
       "      <td>754.0</td>\n",
       "      <td>...</td>\n",
       "      <td>0.0</td>\n",
       "      <td>0.0</td>\n",
       "      <td>0.0</td>\n",
       "      <td>0.0</td>\n",
       "      <td>0.0</td>\n",
       "      <td>0.0</td>\n",
       "      <td>0.0</td>\n",
       "      <td>0.0</td>\n",
       "      <td>0.0</td>\n",
       "      <td>0.0</td>\n",
       "    </tr>\n",
       "    <tr>\n",
       "      <th>4</th>\n",
       "      <td>46.0</td>\n",
       "      <td>0.0</td>\n",
       "      <td>387286.00</td>\n",
       "      <td>1459.0</td>\n",
       "      <td>1.0</td>\n",
       "      <td>0.0</td>\n",
       "      <td>38282.95</td>\n",
       "      <td>52950.64</td>\n",
       "      <td>75.0</td>\n",
       "      <td>927.0</td>\n",
       "      <td>...</td>\n",
       "      <td>0.0</td>\n",
       "      <td>0.0</td>\n",
       "      <td>0.0</td>\n",
       "      <td>0.0</td>\n",
       "      <td>0.0</td>\n",
       "      <td>0.0</td>\n",
       "      <td>0.0</td>\n",
       "      <td>0.0</td>\n",
       "      <td>0.0</td>\n",
       "      <td>0.0</td>\n",
       "    </tr>\n",
       "  </tbody>\n",
       "</table>\n",
       "<p>5 rows × 39 columns</p>\n",
       "</div>"
      ],
      "text/plain": [
       "    age  no_of_children  net_yearly_income  no_of_days_employed  \\\n",
       "0  46.0             0.0          107934.04                612.0   \n",
       "1  29.0             0.0          109862.62               2771.0   \n",
       "2  37.0             0.0          230153.17                204.0   \n",
       "3  39.0             0.0          122325.82              11941.0   \n",
       "4  46.0             0.0          387286.00               1459.0   \n",
       "\n",
       "   total_family_members  migrant_worker  yearly_debt_payments  credit_limit  \\\n",
       "0                   1.0             1.0              33070.28      18690.93   \n",
       "1                   2.0             0.0              15329.53      37745.19   \n",
       "2                   2.0             0.0              48416.60      41598.36   \n",
       "3                   2.0             0.0              22574.36      32627.76   \n",
       "4                   1.0             0.0              38282.95      52950.64   \n",
       "\n",
       "   credit_limit_used(%)  credit_score  ...  \\\n",
       "0                  73.0         544.0  ...   \n",
       "1                  52.0         857.0  ...   \n",
       "2                  43.0         650.0  ...   \n",
       "3                  20.0         754.0  ...   \n",
       "4                  75.0         927.0  ...   \n",
       "\n",
       "   occupation_type_Low-skill Laborers  occupation_type_Managers  \\\n",
       "0                                 0.0                       0.0   \n",
       "1                                 0.0                       0.0   \n",
       "2                                 0.0                       0.0   \n",
       "3                                 0.0                       0.0   \n",
       "4                                 0.0                       0.0   \n",
       "\n",
       "   occupation_type_Medicine staff  occupation_type_Private service staff  \\\n",
       "0                             0.0                                    0.0   \n",
       "1                             0.0                                    0.0   \n",
       "2                             0.0                                    0.0   \n",
       "3                             0.0                                    0.0   \n",
       "4                             0.0                                    0.0   \n",
       "\n",
       "   occupation_type_Realty agents  occupation_type_Sales staff  \\\n",
       "0                            0.0                          0.0   \n",
       "1                            0.0                          0.0   \n",
       "2                            0.0                          0.0   \n",
       "3                            0.0                          0.0   \n",
       "4                            0.0                          0.0   \n",
       "\n",
       "   occupation_type_Secretaries  occupation_type_Security staff  \\\n",
       "0                          0.0                             0.0   \n",
       "1                          0.0                             0.0   \n",
       "2                          0.0                             0.0   \n",
       "3                          0.0                             0.0   \n",
       "4                          0.0                             0.0   \n",
       "\n",
       "   occupation_type_Unknown  occupation_type_Waiters/barmen staff  \n",
       "0                      1.0                                   0.0  \n",
       "1                      0.0                                   0.0  \n",
       "2                      0.0                                   0.0  \n",
       "3                      0.0                                   0.0  \n",
       "4                      0.0                                   0.0  \n",
       "\n",
       "[5 rows x 39 columns]"
      ]
     },
     "execution_count": 4,
     "metadata": {},
     "output_type": "execute_result"
    }
   ],
   "source": [
    "df.head()"
   ]
  },
  {
   "cell_type": "markdown",
   "id": "5ac350b3",
   "metadata": {},
   "source": [
    "### <font color='indigo'>2) Data Preparation for the Model"
   ]
  },
  {
   "cell_type": "markdown",
   "id": "3727bb93",
   "metadata": {},
   "source": [
    "#### Predictors-Target Split"
   ]
  },
  {
   "cell_type": "code",
   "execution_count": 5,
   "id": "c037c7e6",
   "metadata": {},
   "outputs": [],
   "source": [
    "X = df.drop([\"credit_card_default\"], axis=1) #predictors\n",
    "Y = df[[\"credit_card_default\"]] #target"
   ]
  },
  {
   "cell_type": "markdown",
   "id": "b2e1225e",
   "metadata": {},
   "source": [
    "#### Train-Val-Test Split"
   ]
  },
  {
   "cell_type": "markdown",
   "id": "1b1f189a",
   "metadata": {},
   "source": [
    "* Splitting the whole dataset into three sets: train, validation, and test with ratios of 80%, 10%, and 10% respectively."
   ]
  },
  {
   "cell_type": "code",
   "execution_count": 6,
   "id": "85eb1ee9",
   "metadata": {},
   "outputs": [
    {
     "name": "stdout",
     "output_type": "stream",
     "text": [
      "(36422, 38)\n",
      "(36422, 1)\n",
      "(4553, 38)\n",
      "(4553, 1)\n",
      "(4553, 38)\n",
      "(4553, 1)\n"
     ]
    },
    {
     "data": {
      "text/plain": [
       "(None, None)"
      ]
     },
     "execution_count": 6,
     "metadata": {},
     "output_type": "execute_result"
    }
   ],
   "source": [
    "train_size=0.8\n",
    "X_train, X_rem, Y_train, Y_rem = train_test_split(X, Y, train_size=0.8, random_state=777)\n",
    "\n",
    "test_size = 0.5\n",
    "X_valid, X_test, Y_valid, Y_test = train_test_split(X_rem, Y_rem, test_size=0.5, random_state=777)\n",
    "\n",
    "print(X_train.shape), print(Y_train.shape)\n",
    "print(X_valid.shape), print(Y_valid.shape)\n",
    "print(X_test.shape), print(Y_test.shape)"
   ]
  },
  {
   "cell_type": "markdown",
   "id": "236a1d8e",
   "metadata": {},
   "source": [
    "#### Feature Scaling"
   ]
  },
  {
   "cell_type": "code",
   "execution_count": 7,
   "id": "71f2b67a",
   "metadata": {},
   "outputs": [],
   "source": [
    "sc = StandardScaler()\n",
    "X_train = sc.fit_transform(X_train)\n",
    "X_valid = sc.fit_transform(X_valid)\n",
    "X_test = sc.transform(X_test)"
   ]
  },
  {
   "cell_type": "markdown",
   "id": "74ddbac8",
   "metadata": {},
   "source": [
    "### <font color='indigo'>3) Model Building"
   ]
  },
  {
   "cell_type": "code",
   "execution_count": 8,
   "id": "590d7bae",
   "metadata": {},
   "outputs": [
    {
     "data": {
      "text/plain": [
       "<keras.callbacks.History at 0x1ce9aa311c0>"
      ]
     },
     "execution_count": 8,
     "metadata": {},
     "output_type": "execute_result"
    }
   ],
   "source": [
    "classifier = Sequential()\n",
    "# Adding the input layer and the first hidden layer\n",
    "classifier.add(Dense(units = 6, kernel_initializer = 'uniform', activation = 'relu', input_dim = 38))\n",
    "\n",
    "# Adding the second hidden layer\n",
    "classifier.add(Dense(units = 6, kernel_initializer = 'uniform', activation = 'relu'))\n",
    "\n",
    "# Adding the output layer\n",
    "classifier.add(Dense(units = 1, kernel_initializer = 'uniform', activation = 'sigmoid'))\n",
    "\n",
    "# Compiling the ANN | means applying SGD on the whole ANN\n",
    "classifier.compile(optimizer = 'adam', loss = 'binary_crossentropy', metrics = ['accuracy'])\n",
    "\n",
    "# Fitting the ANN to the Training set\n",
    "classifier.fit(X_train, Y_train, batch_size = 10, epochs = 100,verbose = 0)"
   ]
  },
  {
   "cell_type": "markdown",
   "id": "7e1742fa",
   "metadata": {},
   "source": [
    "### <font color='indigo'>4) Model Performance Indicators"
   ]
  },
  {
   "cell_type": "code",
   "execution_count": 9,
   "id": "e767d872",
   "metadata": {},
   "outputs": [
    {
     "name": "stdout",
     "output_type": "stream",
     "text": [
      "456/456 [==============================] - 0s 672us/step - loss: 0.0518 - accuracy: 0.9785\n",
      "Train score: 0.05180518701672554\n",
      "Train accuracy: 0.9784757494926453\n"
     ]
    }
   ],
   "source": [
    "score, acc = classifier.evaluate(X_valid, Y_valid, batch_size=10)\n",
    "print('Train score:', score)\n",
    "print('Train accuracy:', acc)"
   ]
  },
  {
   "cell_type": "code",
   "execution_count": 10,
   "id": "20596856",
   "metadata": {},
   "outputs": [
    {
     "name": "stdout",
     "output_type": "stream",
     "text": [
      "143/143 [==============================] - 0s 626us/step\n",
      "              precision    recall  f1-score   support\n",
      "\n",
      " Non-Default       0.98      1.00      0.99      4190\n",
      "     Default       0.96      0.77      0.85       363\n",
      "\n",
      "    accuracy                           0.98      4553\n",
      "   macro avg       0.97      0.88      0.92      4553\n",
      "weighted avg       0.98      0.98      0.98      4553\n",
      "\n"
     ]
    }
   ],
   "source": [
    "Y_pred = classifier.predict(X_test)\n",
    "Y_pred_cat = np.where(Y_pred > 0.5, 1, 0)\n",
    "target_names = ['Non-Default', 'Default']\n",
    "print(classification_report(Y_test, Y_pred_cat, target_names=target_names))"
   ]
  },
  {
   "cell_type": "code",
   "execution_count": 13,
   "id": "dc28bb90",
   "metadata": {},
   "outputs": [
    {
     "data": {
      "text/plain": [
       "Text(0.5, 23.52222222222222, 'Predicted label')"
      ]
     },
     "execution_count": 13,
     "metadata": {},
     "output_type": "execute_result"
    },
    {
     "data": {
      "image/png": "[encoded data removed]",
      "text/plain": [
       "<Figure size 640x480 with 2 Axes>"
      ]
     },
     "metadata": {},
     "output_type": "display_data"
    }
   ],
   "source": [
    "cm = confusion_matrix(Y_test, Y_pred_cat)\n",
    "p = sns.heatmap(pd.DataFrame(cm), annot=True, cmap=\"YlGnBu\" ,fmt='g')\n",
    "plt.title('Confusion matrix', y=1.1)\n",
    "plt.ylabel('Actual label')\n",
    "plt.xlabel('Predicted label')"
   ]
  },
  {
   "cell_type": "code",
   "execution_count": 14,
   "id": "2c107fe7",
   "metadata": {
    "scrolled": false
   },
   "outputs": [
    {
     "data": {
      "image/png": "[encoded data removed]",
      "text/plain": [
       "<Figure size 640x480 with 1 Axes>"
      ]
     },
     "metadata": {},
     "output_type": "display_data"
    }
   ],
   "source": [
    "fpr, tpr, thresholds = roc_curve(Y_test, Y_pred)\n",
    "plt.plot([0,1],[0,1],'k--')\n",
    "plt.plot(fpr,tpr, label='ANN')\n",
    "plt.xlabel('False Positive Rate (FPR)')\n",
    "plt.ylabel('True Positive Rate (TPR)')\n",
    "plt.title('ROC curve - ANN - DF2')\n",
    "plt.show()"
   ]
  },
  {
   "cell_type": "code",
   "execution_count": 15,
   "id": "d6adea82",
   "metadata": {},
   "outputs": [
    {
     "data": {
      "text/plain": [
       "0.99336870549715"
      ]
     },
     "execution_count": 15,
     "metadata": {},
     "output_type": "execute_result"
    }
   ],
   "source": [
    "#Area under ROC curve\n",
    "roc_auc_score(Y_test, Y_pred)"
   ]
  },
  {
   "cell_type": "markdown",
   "id": "0fb99e06",
   "metadata": {},
   "source": [
    "### <font color='indigo'>5) Hyperparameter Tuning"
   ]
  },
  {
   "cell_type": "code",
   "execution_count": 19,
   "id": "a4a69e1c",
   "metadata": {},
   "outputs": [],
   "source": [
    "def nn_cl_bo2(neurons, activation, optimizer, learning_rate, batch_size, epochs,\n",
    "              layers1, layers2, normalization, dropout, dropout_rate):\n",
    "    optimizerL = ['SGD', 'Adam', 'RMSprop', 'Adadelta', 'Adagrad', 'Adamax', 'Nadam', 'Ftrl','SGD']\n",
    "    optimizerD= {'Adam':Adam(lr=learning_rate), 'SGD':SGD(lr=learning_rate),\n",
    "                 'RMSprop':RMSprop(lr=learning_rate), 'Adadelta':Adadelta(lr=learning_rate),\n",
    "                 'Adagrad':Adagrad(lr=learning_rate), 'Adamax':Adamax(lr=learning_rate),\n",
    "                 'Nadam':Nadam(lr=learning_rate), 'Ftrl':Ftrl(lr=learning_rate)}\n",
    "    activationL = ['relu', 'sigmoid', 'softplus', 'softsign', 'tanh', 'selu',\n",
    "                   'elu', 'exponential', LeakyReLU,'relu']\n",
    "    neurons = round(neurons)\n",
    "    activation = activationL[round(activation)]\n",
    "    optimizer = optimizerD[optimizerL[round(optimizer)]]\n",
    "    batch_size = round(batch_size)\n",
    "    epochs = round(epochs)\n",
    "    layers1 = round(layers1)\n",
    "    layers2 = round(layers2)\n",
    "    def nn_cl_fun():\n",
    "        nn = Sequential()\n",
    "        nn.add(Dense(neurons, input_dim=38, activation=activation))\n",
    "        if normalization > 0.5:\n",
    "            nn.add(BatchNormalization())\n",
    "        for i in range(layers1):\n",
    "            nn.add(Dense(neurons, activation=activation))\n",
    "        if dropout > 0.5:\n",
    "            nn.add(Dropout(dropout_rate, seed=123))\n",
    "        for i in range(layers2):\n",
    "            nn.add(Dense(neurons, activation=activation))\n",
    "        nn.add(Dense(1, activation='sigmoid'))\n",
    "        nn.compile(loss='binary_crossentropy', optimizer=optimizer, metrics=['accuracy'])\n",
    "        return nn\n",
    "    es = EarlyStopping(monitor='accuracy', mode='max', verbose=0, patience=20)\n",
    "    nn = KerasClassifier(build_fn=nn_cl_fun, epochs=epochs, batch_size=batch_size, verbose=0)\n",
    "    kfold = StratifiedKFold(n_splits=5, shuffle=True, random_state=123)\n",
    "    score = cross_val_score(nn, X_train, Y_train, scoring=score_acc, cv=kfold, fit_params={'callbacks':[es]}).mean()\n",
    "    return score"
   ]
  },
  {
   "cell_type": "code",
   "execution_count": 20,
   "id": "fe37099a",
   "metadata": {},
   "outputs": [
    {
     "name": "stdout",
     "output_type": "stream",
     "text": [
      "|   iter    |  target   | activa... | batch_... |  dropout  | dropou... |  epochs   |  layers1  |  layers2  | learni... |  neurons  | normal... | optimizer |\n",
      "-------------------------------------------------------------------------------------------------------------------------------------------------------------\n",
      "228/228 [==============================] - 0s 921us/step\n",
      "228/228 [==============================] - 0s 683us/step\n",
      "228/228 [==============================] - 0s 731us/step\n",
      "228/228 [==============================] - 0s 663us/step\n",
      "228/228 [==============================] - 0s 713us/step\n",
      "| \u001b[0m1        \u001b[0m | \u001b[0m0.9191   \u001b[0m | \u001b[0m5.51     \u001b[0m | \u001b[0m335.3    \u001b[0m | \u001b[0m0.4361   \u001b[0m | \u001b[0m0.2308   \u001b[0m | \u001b[0m43.63    \u001b[0m | \u001b[0m1.298    \u001b[0m | \u001b[0m1.045    \u001b[0m | \u001b[0m0.426    \u001b[0m | \u001b[0m31.48    \u001b[0m | \u001b[0m0.3377   \u001b[0m | \u001b[0m6.935    \u001b[0m |\n",
      "228/228 [==============================] - 0s 1ms/step\n",
      "228/228 [==============================] - 0s 1ms/step\n",
      "228/228 [==============================] - 0s 986us/step\n",
      "228/228 [==============================] - 0s 1ms/step\n",
      "228/228 [==============================] - 0s 982us/step\n",
      "| \u001b[95m2        \u001b[0m | \u001b[95m0.9304   \u001b[0m | \u001b[95m2.14     \u001b[0m | \u001b[95m265.0    \u001b[0m | \u001b[95m0.6696   \u001b[0m | \u001b[95m0.1864   \u001b[0m | \u001b[95m41.94    \u001b[0m | \u001b[95m1.932    \u001b[0m | \u001b[95m1.237    \u001b[0m | \u001b[95m0.08322  \u001b[0m | \u001b[95m91.07    \u001b[0m | \u001b[95m0.794    \u001b[0m | \u001b[95m5.884    \u001b[0m |\n",
      "228/228 [==============================] - 0s 825us/step\n",
      "228/228 [==============================] - 0s 831us/step\n",
      "228/228 [==============================] - 0s 862us/step\n",
      "228/228 [==============================] - 0s 752us/step\n",
      "228/228 [==============================] - 0s 771us/step\n",
      "| \u001b[0m3        \u001b[0m | \u001b[0m0.9191   \u001b[0m | \u001b[0m7.337    \u001b[0m | \u001b[0m992.8    \u001b[0m | \u001b[0m0.5773   \u001b[0m | \u001b[0m0.2441   \u001b[0m | \u001b[0m53.71    \u001b[0m | \u001b[0m1.055    \u001b[0m | \u001b[0m1.908    \u001b[0m | \u001b[0m0.1143   \u001b[0m | \u001b[0m83.55    \u001b[0m | \u001b[0m0.6977   \u001b[0m | \u001b[0m3.957    \u001b[0m |\n",
      "228/228 [==============================] - 0s 1ms/step\n",
      "228/228 [==============================] - 0s 816us/step\n",
      "228/228 [==============================] - 0s 809us/step\n",
      "228/228 [==============================] - 0s 826us/step\n",
      "228/228 [==============================] - 0s 814us/step\n",
      "| \u001b[0m4        \u001b[0m | \u001b[0m0.9191   \u001b[0m | \u001b[0m2.468    \u001b[0m | \u001b[0m998.8    \u001b[0m | \u001b[0m0.138    \u001b[0m | \u001b[0m0.1846   \u001b[0m | \u001b[0m58.8     \u001b[0m | \u001b[0m1.81     \u001b[0m | \u001b[0m2.456    \u001b[0m | \u001b[0m0.3296   \u001b[0m | \u001b[0m46.05    \u001b[0m | \u001b[0m0.319    \u001b[0m | \u001b[0m6.631    \u001b[0m |\n",
      "228/228 [==============================] - 0s 728us/step\n",
      "228/228 [==============================] - 0s 677us/step\n",
      "228/228 [==============================] - 0s 704us/step\n",
      "228/228 [==============================] - 0s 668us/step\n",
      "228/228 [==============================] - 0s 739us/step\n",
      "| \u001b[95m5        \u001b[0m | \u001b[95m0.9754   \u001b[0m | \u001b[95m8.268    \u001b[0m | \u001b[95m851.1    \u001b[0m | \u001b[95m0.03408  \u001b[0m | \u001b[95m0.283    \u001b[0m | \u001b[95m96.04    \u001b[0m | \u001b[95m2.613    \u001b[0m | \u001b[95m1.963    \u001b[0m | \u001b[95m0.9671   \u001b[0m | \u001b[95m47.53    \u001b[0m | \u001b[95m0.3188   \u001b[0m | \u001b[95m0.1151   \u001b[0m |\n",
      "228/228 [==============================] - 0s 664us/step\n",
      "228/228 [==============================] - 0s 685us/step\n",
      "228/228 [==============================] - 0s 662us/step\n",
      "228/228 [==============================] - 0s 784us/step\n",
      "228/228 [==============================] - 0s 718us/step\n",
      "| \u001b[95m6        \u001b[0m | \u001b[95m0.9791   \u001b[0m | \u001b[95m0.3436   \u001b[0m | \u001b[95m242.5    \u001b[0m | \u001b[95m0.128    \u001b[0m | \u001b[95m0.01001  \u001b[0m | \u001b[95m38.11    \u001b[0m | \u001b[95m2.088    \u001b[0m | \u001b[95m1.357    \u001b[0m | \u001b[95m0.1876   \u001b[0m | \u001b[95m23.47    \u001b[0m | \u001b[95m0.683    \u001b[0m | \u001b[95m3.283    \u001b[0m |\n",
      "228/228 [==============================] - 0s 952us/step\n",
      "228/228 [==============================] - 0s 971us/step\n",
      "228/228 [==============================] - 0s 736us/step\n",
      "228/228 [==============================] - 0s 808us/step\n",
      "228/228 [==============================] - 0s 767us/step\n",
      "| \u001b[0m7        \u001b[0m | \u001b[0m0.9191   \u001b[0m | \u001b[0m6.914    \u001b[0m | \u001b[0m735.1    \u001b[0m | \u001b[0m0.4413   \u001b[0m | \u001b[0m0.1786   \u001b[0m | \u001b[0m56.93    \u001b[0m | \u001b[0m2.927    \u001b[0m | \u001b[0m1.296    \u001b[0m | \u001b[0m0.9077   \u001b[0m | \u001b[0m54.81    \u001b[0m | \u001b[0m0.5925   \u001b[0m | \u001b[0m4.793    \u001b[0m |\n",
      "228/228 [==============================] - 0s 785us/step\n",
      "228/228 [==============================] - 0s 933us/step\n",
      "228/228 [==============================] - 0s 833us/step\n",
      "228/228 [==============================] - 0s 2ms/step\n",
      "228/228 [==============================] - 0s 1ms/step\n",
      "| \u001b[0m8        \u001b[0m | \u001b[0m0.9777   \u001b[0m | \u001b[0m1.597    \u001b[0m | \u001b[0m891.7    \u001b[0m | \u001b[0m0.4821   \u001b[0m | \u001b[0m0.0208   \u001b[0m | \u001b[0m49.18    \u001b[0m | \u001b[0m1.723    \u001b[0m | \u001b[0m1.944    \u001b[0m | \u001b[0m0.1877   \u001b[0m | \u001b[0m25.78    \u001b[0m | \u001b[0m0.9491   \u001b[0m | \u001b[0m4.59     \u001b[0m |\n",
      "228/228 [==============================] - 0s 2ms/step\n",
      "228/228 [==============================] - 1s 1ms/step\n",
      "228/228 [==============================] - 0s 1ms/step\n",
      "228/228 [==============================] - 0s 1ms/step\n",
      "228/228 [==============================] - 1s 2ms/step\n",
      "| \u001b[0m9        \u001b[0m | \u001b[0m0.9191   \u001b[0m | \u001b[0m1.215    \u001b[0m | \u001b[0m942.2    \u001b[0m | \u001b[0m0.8418   \u001b[0m | \u001b[0m0.01583  \u001b[0m | \u001b[0m36.29    \u001b[0m | \u001b[0m2.745    \u001b[0m | \u001b[0m2.348    \u001b[0m | \u001b[0m0.3043   \u001b[0m | \u001b[0m76.1     \u001b[0m | \u001b[0m0.6183   \u001b[0m | \u001b[0m1.473    \u001b[0m |\n",
      "228/228 [==============================] - 0s 1ms/step\n",
      "228/228 [==============================] - 0s 2ms/step\n",
      "228/228 [==============================] - 0s 1ms/step\n",
      "228/228 [==============================] - 0s 1ms/step\n",
      "228/228 [==============================] - 0s 1ms/step\n",
      "| \u001b[0m10       \u001b[0m | \u001b[0m0.9191   \u001b[0m | \u001b[0m7.219    \u001b[0m | \u001b[0m247.3    \u001b[0m | \u001b[0m0.3082   \u001b[0m | \u001b[0m0.06221  \u001b[0m | \u001b[0m97.78    \u001b[0m | \u001b[0m2.819    \u001b[0m | \u001b[0m2.353    \u001b[0m | \u001b[0m0.124    \u001b[0m | \u001b[0m96.22    \u001b[0m | \u001b[0m0.09171  \u001b[0m | \u001b[0m4.409    \u001b[0m |\n",
      "228/228 [==============================] - 0s 1ms/step\n",
      "228/228 [==============================] - 0s 1ms/step\n",
      "228/228 [==============================] - 0s 2ms/step\n",
      "228/228 [==============================] - 0s 1ms/step\n",
      "228/228 [==============================] - 0s 1ms/step\n",
      "| \u001b[95m11       \u001b[0m | \u001b[95m0.9794   \u001b[0m | \u001b[95m8.126    \u001b[0m | \u001b[95m471.8    \u001b[0m | \u001b[95m0.6528   \u001b[0m | \u001b[95m0.2775   \u001b[0m | \u001b[95m49.92    \u001b[0m | \u001b[95m2.543    \u001b[0m | \u001b[95m2.792    \u001b[0m | \u001b[95m0.624    \u001b[0m | \u001b[95m23.6     \u001b[0m | \u001b[95m0.3749   \u001b[0m | \u001b[95m4.451    \u001b[0m |\n",
      "228/228 [==============================] - 0s 2ms/step\n",
      "228/228 [==============================] - 0s 1ms/step\n",
      "228/228 [==============================] - 0s 1ms/step\n",
      "228/228 [==============================] - 0s 1ms/step\n",
      "228/228 [==============================] - 0s 906us/step\n",
      "| \u001b[0m12       \u001b[0m | \u001b[0m0.9191   \u001b[0m | \u001b[0m4.132    \u001b[0m | \u001b[0m625.8    \u001b[0m | \u001b[0m0.3523   \u001b[0m | \u001b[0m0.198    \u001b[0m | \u001b[0m58.12    \u001b[0m | \u001b[0m1.909    \u001b[0m | \u001b[0m1.25     \u001b[0m | \u001b[0m0.4183   \u001b[0m | \u001b[0m34.58    \u001b[0m | \u001b[0m0.3467   \u001b[0m | \u001b[0m6.821    \u001b[0m |\n",
      "228/228 [==============================] - 0s 1ms/step\n",
      "228/228 [==============================] - 0s 1ms/step\n",
      "228/228 [==============================] - 0s 1ms/step\n",
      "228/228 [==============================] - 0s 1ms/step\n",
      "228/228 [==============================] - 0s 1ms/step\n",
      "| \u001b[95m13       \u001b[0m | \u001b[95m0.9802   \u001b[0m | \u001b[95m1.94     \u001b[0m | \u001b[95m746.3    \u001b[0m | \u001b[95m0.03181  \u001b[0m | \u001b[95m0.2506   \u001b[0m | \u001b[95m76.13    \u001b[0m | \u001b[95m2.932    \u001b[0m | \u001b[95m2.184    \u001b[0m | \u001b[95m0.2252   \u001b[0m | \u001b[95m74.73    \u001b[0m | \u001b[95m0.03087  \u001b[0m | \u001b[95m2.931    \u001b[0m |\n",
      "228/228 [==============================] - 0s 746us/step\n",
      "228/228 [==============================] - 0s 720us/step\n",
      "228/228 [==============================] - 0s 811us/step\n",
      "228/228 [==============================] - 0s 777us/step\n",
      "228/228 [==============================] - 0s 816us/step\n",
      "| \u001b[0m14       \u001b[0m | \u001b[0m0.9766   \u001b[0m | \u001b[0m2.531    \u001b[0m | \u001b[0m285.0    \u001b[0m | \u001b[0m0.4263   \u001b[0m | \u001b[0m0.2522   \u001b[0m | \u001b[0m28.83    \u001b[0m | \u001b[0m2.973    \u001b[0m | \u001b[0m1.467    \u001b[0m | \u001b[0m0.7242   \u001b[0m | \u001b[0m69.48    \u001b[0m | \u001b[0m0.07776  \u001b[0m | \u001b[0m4.881    \u001b[0m |\n",
      "228/228 [==============================] - 0s 1ms/step\n",
      "228/228 [==============================] - 0s 1ms/step\n",
      "228/228 [==============================] - 0s 1ms/step\n",
      "228/228 [==============================] - 0s 1ms/step\n",
      "228/228 [==============================] - 0s 1ms/step\n",
      "| \u001b[0m15       \u001b[0m | \u001b[0m0.9796   \u001b[0m | \u001b[0m2.388    \u001b[0m | \u001b[0m921.5    \u001b[0m | \u001b[0m0.8183   \u001b[0m | \u001b[0m0.1198   \u001b[0m | \u001b[0m85.62    \u001b[0m | \u001b[0m1.396    \u001b[0m | \u001b[0m2.045    \u001b[0m | \u001b[0m0.4184   \u001b[0m | \u001b[0m93.33    \u001b[0m | \u001b[0m0.8254   \u001b[0m | \u001b[0m3.507    \u001b[0m |\n",
      "228/228 [==============================] - 0s 850us/step\n",
      "228/228 [==============================] - 0s 822us/step\n",
      "228/228 [==============================] - 0s 845us/step\n",
      "228/228 [==============================] - 0s 1ms/step\n",
      "228/228 [==============================] - 0s 1ms/step\n",
      "| \u001b[0m16       \u001b[0m | \u001b[0m0.9191   \u001b[0m | \u001b[0m1.051    \u001b[0m | \u001b[0m209.3    \u001b[0m | \u001b[0m0.9132   \u001b[0m | \u001b[0m0.1537   \u001b[0m | \u001b[0m87.45    \u001b[0m | \u001b[0m1.19     \u001b[0m | \u001b[0m2.607    \u001b[0m | \u001b[0m0.07161  \u001b[0m | \u001b[0m67.19    \u001b[0m | \u001b[0m0.9688   \u001b[0m | \u001b[0m2.782    \u001b[0m |\n",
      "228/228 [==============================] - 0s 1ms/step\n",
      "228/228 [==============================] - 0s 1ms/step\n",
      "228/228 [==============================] - 0s 1ms/step\n",
      "228/228 [==============================] - 0s 1ms/step\n",
      "228/228 [==============================] - 0s 1ms/step\n",
      "| \u001b[0m17       \u001b[0m | \u001b[0m0.7515   \u001b[0m | \u001b[0m5.936    \u001b[0m | \u001b[0m371.9    \u001b[0m | \u001b[0m0.8899   \u001b[0m | \u001b[0m0.296    \u001b[0m | \u001b[0m79.09    \u001b[0m | \u001b[0m2.283    \u001b[0m | \u001b[0m1.504    \u001b[0m | \u001b[0m0.4811   \u001b[0m | \u001b[0m34.13    \u001b[0m | \u001b[0m0.8683   \u001b[0m | \u001b[0m1.868    \u001b[0m |\n",
      "228/228 [==============================] - 0s 1ms/step\n",
      "228/228 [==============================] - 0s 1ms/step\n",
      "228/228 [==============================] - 0s 1ms/step\n",
      "228/228 [==============================] - 0s 1ms/step\n",
      "228/228 [==============================] - 0s 1ms/step\n",
      "| \u001b[0m18       \u001b[0m | \u001b[0m0.9204   \u001b[0m | \u001b[0m8.757    \u001b[0m | \u001b[0m370.8    \u001b[0m | \u001b[0m0.2978   \u001b[0m | \u001b[0m0.221    \u001b[0m | \u001b[0m21.03    \u001b[0m | \u001b[0m1.06     \u001b[0m | \u001b[0m2.468    \u001b[0m | \u001b[0m0.5033   \u001b[0m | \u001b[0m29.63    \u001b[0m | \u001b[0m0.00893  \u001b[0m | \u001b[0m5.955    \u001b[0m |\n",
      "228/228 [==============================] - 0s 2ms/step\n",
      "228/228 [==============================] - 1s 2ms/step\n",
      "228/228 [==============================] - 1s 2ms/step\n",
      "228/228 [==============================] - 1s 2ms/step\n",
      "228/228 [==============================] - 0s 2ms/step\n",
      "| \u001b[0m19       \u001b[0m | \u001b[0m0.9792   \u001b[0m | \u001b[0m4.828    \u001b[0m | \u001b[0m778.8    \u001b[0m | \u001b[0m0.6616   \u001b[0m | \u001b[0m0.2516   \u001b[0m | \u001b[0m51.06    \u001b[0m | \u001b[0m1.852    \u001b[0m | \u001b[0m2.656    \u001b[0m | \u001b[0m0.4743   \u001b[0m | \u001b[0m83.8     \u001b[0m | \u001b[0m0.01418  \u001b[0m | \u001b[0m2.777    \u001b[0m |\n",
      "228/228 [==============================] - 1s 2ms/step\n",
      "228/228 [==============================] - 0s 1ms/step\n",
      "228/228 [==============================] - 0s 2ms/step\n",
      "228/228 [==============================] - 1s 2ms/step\n",
      "228/228 [==============================] - 0s 2ms/step\n",
      "| \u001b[0m20       \u001b[0m | \u001b[0m0.9191   \u001b[0m | \u001b[0m1.155    \u001b[0m | \u001b[0m294.5    \u001b[0m | \u001b[0m0.206    \u001b[0m | \u001b[0m0.2243   \u001b[0m | \u001b[0m94.41    \u001b[0m | \u001b[0m1.761    \u001b[0m | \u001b[0m1.921    \u001b[0m | \u001b[0m0.8746   \u001b[0m | \u001b[0m83.31    \u001b[0m | \u001b[0m0.02497  \u001b[0m | \u001b[0m6.111    \u001b[0m |\n",
      "228/228 [==============================] - 0s 2ms/step\n",
      "228/228 [==============================] - 0s 1ms/step\n",
      "228/228 [==============================] - 0s 1ms/step\n",
      "228/228 [==============================] - 0s 2ms/step\n",
      "228/228 [==============================] - 0s 2ms/step\n",
      "| \u001b[0m21       \u001b[0m | \u001b[0m0.9404   \u001b[0m | \u001b[0m5.441    \u001b[0m | \u001b[0m613.2    \u001b[0m | \u001b[0m0.5893   \u001b[0m | \u001b[0m0.2399   \u001b[0m | \u001b[0m33.86    \u001b[0m | \u001b[0m1.374    \u001b[0m | \u001b[0m1.516    \u001b[0m | \u001b[0m0.06056  \u001b[0m | \u001b[0m59.74    \u001b[0m | \u001b[0m0.3518   \u001b[0m | \u001b[0m6.419    \u001b[0m |\n",
      "228/228 [==============================] - 0s 1ms/step\n",
      "228/228 [==============================] - 0s 1ms/step\n",
      "228/228 [==============================] - 0s 1ms/step\n",
      "228/228 [==============================] - 0s 1ms/step\n",
      "228/228 [==============================] - 1s 1ms/step\n",
      "| \u001b[0m22       \u001b[0m | \u001b[0m0.9778   \u001b[0m | \u001b[0m4.289    \u001b[0m | \u001b[0m283.6    \u001b[0m | \u001b[0m0.1525   \u001b[0m | \u001b[0m0.08206  \u001b[0m | \u001b[0m82.52    \u001b[0m | \u001b[0m1.786    \u001b[0m | \u001b[0m2.598    \u001b[0m | \u001b[0m0.4387   \u001b[0m | \u001b[0m17.34    \u001b[0m | \u001b[0m0.01064  \u001b[0m | \u001b[0m3.016    \u001b[0m |\n",
      "228/228 [==============================] - 1s 2ms/step\n",
      "228/228 [==============================] - 1s 2ms/step\n",
      "228/228 [==============================] - 1s 2ms/step\n",
      "228/228 [==============================] - 1s 2ms/step\n",
      "228/228 [==============================] - 1s 2ms/step\n",
      "| \u001b[0m23       \u001b[0m | \u001b[0m0.9778   \u001b[0m | \u001b[0m5.966    \u001b[0m | \u001b[0m612.2    \u001b[0m | \u001b[0m0.5801   \u001b[0m | \u001b[0m0.1479   \u001b[0m | \u001b[0m79.24    \u001b[0m | \u001b[0m2.579    \u001b[0m | \u001b[0m2.562    \u001b[0m | \u001b[0m0.1363   \u001b[0m | \u001b[0m94.61    \u001b[0m | \u001b[0m0.8777   \u001b[0m | \u001b[0m4.897    \u001b[0m |\n",
      "228/228 [==============================] - 1s 2ms/step\n",
      "228/228 [==============================] - 1s 1ms/step\n",
      "228/228 [==============================] - 0s 2ms/step\n",
      "228/228 [==============================] - 0s 2ms/step\n",
      "228/228 [==============================] - 0s 2ms/step\n",
      "| \u001b[0m24       \u001b[0m | \u001b[0m0.97     \u001b[0m | \u001b[0m8.432    \u001b[0m | \u001b[0m739.0    \u001b[0m | \u001b[0m0.5944   \u001b[0m | \u001b[0m0.1035   \u001b[0m | \u001b[0m26.69    \u001b[0m | \u001b[0m2.159    \u001b[0m | \u001b[0m1.035    \u001b[0m | \u001b[0m0.5569   \u001b[0m | \u001b[0m66.93    \u001b[0m | \u001b[0m0.6784   \u001b[0m | \u001b[0m1.194    \u001b[0m |\n",
      "228/228 [==============================] - 0s 2ms/step\n",
      "228/228 [==============================] - 0s 2ms/step\n",
      "228/228 [==============================] - 0s 2ms/step\n",
      "228/228 [==============================] - 1s 2ms/step\n",
      "228/228 [==============================] - 0s 2ms/step\n",
      "| \u001b[0m25       \u001b[0m | \u001b[0m0.9003   \u001b[0m | \u001b[0m5.194    \u001b[0m | \u001b[0m364.8    \u001b[0m | \u001b[0m0.2515   \u001b[0m | \u001b[0m0.2908   \u001b[0m | \u001b[0m91.73    \u001b[0m | \u001b[0m1.246    \u001b[0m | \u001b[0m2.762    \u001b[0m | \u001b[0m0.9485   \u001b[0m | \u001b[0m51.39    \u001b[0m | \u001b[0m0.413    \u001b[0m | \u001b[0m4.04     \u001b[0m |\n",
      "228/228 [==============================] - 0s 1ms/step\n",
      "228/228 [==============================] - 0s 2ms/step\n",
      "228/228 [==============================] - 1s 2ms/step\n",
      "228/228 [==============================] - 0s 2ms/step\n",
      "228/228 [==============================] - 1s 2ms/step\n",
      "| \u001b[0m26       \u001b[0m | \u001b[0m0.9601   \u001b[0m | \u001b[0m2.707    \u001b[0m | \u001b[0m762.3    \u001b[0m | \u001b[0m0.7052   \u001b[0m | \u001b[0m0.1073   \u001b[0m | \u001b[0m68.47    \u001b[0m | \u001b[0m1.106    \u001b[0m | \u001b[0m1.51     \u001b[0m | \u001b[0m0.6533   \u001b[0m | \u001b[0m80.78    \u001b[0m | \u001b[0m0.02023  \u001b[0m | \u001b[0m0.7473   \u001b[0m |\n",
      "228/228 [==============================] - 1s 2ms/step\n",
      "228/228 [==============================] - 0s 2ms/step\n",
      "228/228 [==============================] - 1s 2ms/step\n",
      "228/228 [==============================] - 0s 2ms/step\n",
      "228/228 [==============================] - 1s 2ms/step\n",
      "| \u001b[0m27       \u001b[0m | \u001b[0m0.9787   \u001b[0m | \u001b[0m6.366    \u001b[0m | \u001b[0m780.2    \u001b[0m | \u001b[0m0.6271   \u001b[0m | \u001b[0m0.1646   \u001b[0m | \u001b[0m53.26    \u001b[0m | \u001b[0m1.954    \u001b[0m | \u001b[0m2.228    \u001b[0m | \u001b[0m0.6962   \u001b[0m | \u001b[0m81.66    \u001b[0m | \u001b[0m0.1557   \u001b[0m | \u001b[0m2.563    \u001b[0m |\n",
      "228/228 [==============================] - 1s 2ms/step\n",
      "228/228 [==============================] - 0s 2ms/step\n",
      "228/228 [==============================] - 0s 1ms/step\n",
      "228/228 [==============================] - 0s 1ms/step\n",
      "228/228 [==============================] - 0s 771us/step\n",
      "| \u001b[0m28       \u001b[0m | \u001b[0m0.9791   \u001b[0m | \u001b[0m2.324    \u001b[0m | \u001b[0m264.2    \u001b[0m | \u001b[0m0.1399   \u001b[0m | \u001b[0m0.05259  \u001b[0m | \u001b[0m58.52    \u001b[0m | \u001b[0m2.001    \u001b[0m | \u001b[0m1.96     \u001b[0m | \u001b[0m0.3373   \u001b[0m | \u001b[0m21.64    \u001b[0m | \u001b[0m0.3217   \u001b[0m | \u001b[0m3.19     \u001b[0m |\n",
      "228/228 [==============================] - 0s 976us/step\n",
      "228/228 [==============================] - 0s 963us/step\n",
      "228/228 [==============================] - 0s 960us/step\n",
      "228/228 [==============================] - 0s 971us/step\n",
      "228/228 [==============================] - 0s 940us/step\n",
      "| \u001b[0m29       \u001b[0m | \u001b[0m0.9799   \u001b[0m | \u001b[0m1.879    \u001b[0m | \u001b[0m269.5    \u001b[0m | \u001b[0m0.2639   \u001b[0m | \u001b[0m0.1039   \u001b[0m | \u001b[0m33.82    \u001b[0m | \u001b[0m2.839    \u001b[0m | \u001b[0m1.553    \u001b[0m | \u001b[0m0.7216   \u001b[0m | \u001b[0m40.48    \u001b[0m | \u001b[0m0.1062   \u001b[0m | \u001b[0m4.237    \u001b[0m |\n",
      "=============================================================================================================================================================\n"
     ]
    }
   ],
   "source": [
    "params_nn2 ={\n",
    "    'neurons': (10, 100),\n",
    "    'activation':(0, 9),\n",
    "    'optimizer':(0,7),\n",
    "    'learning_rate':(0.01, 1),\n",
    "    'batch_size':(200, 1000),\n",
    "    'epochs':(20, 100),\n",
    "    'layers1':(1,3),\n",
    "    'layers2':(1,3),\n",
    "    'normalization':(0,1),\n",
    "    'dropout':(0,1),\n",
    "    'dropout_rate':(0,0.3)\n",
    "}\n",
    "# Run Bayesian Optimization\n",
    "nn_bo = BayesianOptimization(nn_cl_bo2, params_nn2, random_state=111)\n",
    "nn_bo.maximize(init_points=25, n_iter=4)"
   ]
  },
  {
   "cell_type": "code",
   "execution_count": 22,
   "id": "61c06651",
   "metadata": {},
   "outputs": [
    {
     "data": {
      "text/plain": [
       "{'activation': 'softplus',\n",
       " 'batch_size': 746,\n",
       " 'dropout': 0.03180999373346571,\n",
       " 'dropout_rate': 0.2506148814963924,\n",
       " 'epochs': 76,\n",
       " 'layers1': 3,\n",
       " 'layers2': 2,\n",
       " 'learning_rate': 0.22517196698093564,\n",
       " 'neurons': 75,\n",
       " 'normalization': 0.03086998935684493,\n",
       " 'optimizer': <keras.optimizers.optimizer_v2.adadelta.Adadelta at 0x1ceafde4670>}"
      ]
     },
     "execution_count": 22,
     "metadata": {},
     "output_type": "execute_result"
    }
   ],
   "source": [
    "params_nn_ = nn_bo.max['params']\n",
    "learning_rate = params_nn_['learning_rate']\n",
    "activationL = ['relu', 'sigmoid', 'softplus', 'softsign', 'tanh', 'selu',\n",
    "               'elu', 'exponential', LeakyReLU,'relu']\n",
    "params_nn_['activation'] = activationL[round(params_nn_['activation'])]\n",
    "params_nn_['batch_size'] = round(params_nn_['batch_size'])\n",
    "params_nn_['epochs'] = round(params_nn_['epochs'])\n",
    "params_nn_['layers1'] = round(params_nn_['layers1'])\n",
    "params_nn_['layers2'] = round(params_nn_['layers2'])\n",
    "params_nn_['neurons'] = round(params_nn_['neurons'])\n",
    "optimizerL = ['Adam', 'SGD', 'RMSprop', 'Adadelta', 'Adagrad', 'Adamax', 'Nadam', 'Ftrl','Adam']\n",
    "optimizerD= {'Adam':Adam(lr=learning_rate), 'SGD':SGD(lr=learning_rate),\n",
    "             'RMSprop':RMSprop(lr=learning_rate), 'Adadelta':Adadelta(lr=learning_rate),\n",
    "             'Adagrad':Adagrad(lr=learning_rate), 'Adamax':Adamax(lr=learning_rate),\n",
    "             'Nadam':Nadam(lr=learning_rate), 'Ftrl':Ftrl(lr=learning_rate)}\n",
    "params_nn_['optimizer'] = optimizerD[optimizerL[round(params_nn_['optimizer'])]]\n",
    "params_nn_"
   ]
  },
  {
   "cell_type": "markdown",
   "id": "eadf4b35",
   "metadata": {},
   "source": [
    "### <font color='indigo'>6) Final Model"
   ]
  },
  {
   "cell_type": "code",
   "execution_count": 23,
   "id": "68ec73aa",
   "metadata": {},
   "outputs": [
    {
     "name": "stdout",
     "output_type": "stream",
     "text": [
      "Epoch 1/76\n",
      "49/49 [==============================] - 2s 14ms/step - loss: 0.2955 - accuracy: 0.9191 - val_loss: 0.2789 - val_accuracy: 0.9148\n",
      "Epoch 2/76\n",
      "49/49 [==============================] - 0s 9ms/step - loss: 0.2557 - accuracy: 0.9191 - val_loss: 0.2355 - val_accuracy: 0.9148\n",
      "Epoch 3/76\n",
      "49/49 [==============================] - 0s 9ms/step - loss: 0.1520 - accuracy: 0.9486 - val_loss: 0.0948 - val_accuracy: 0.9756\n",
      "Epoch 4/76\n",
      "49/49 [==============================] - 0s 10ms/step - loss: 0.0815 - accuracy: 0.9769 - val_loss: 0.0726 - val_accuracy: 0.9780\n",
      "Epoch 5/76\n",
      "49/49 [==============================] - 0s 9ms/step - loss: 0.0679 - accuracy: 0.9789 - val_loss: 0.0634 - val_accuracy: 0.9785\n",
      "Epoch 6/76\n",
      "49/49 [==============================] - 0s 9ms/step - loss: 0.0614 - accuracy: 0.9795 - val_loss: 0.0631 - val_accuracy: 0.9789\n",
      "Epoch 7/76\n",
      "49/49 [==============================] - 0s 9ms/step - loss: 0.0594 - accuracy: 0.9797 - val_loss: 0.0605 - val_accuracy: 0.9772\n",
      "Epoch 8/76\n",
      "49/49 [==============================] - 0s 10ms/step - loss: 0.0591 - accuracy: 0.9795 - val_loss: 0.0578 - val_accuracy: 0.9789\n",
      "Epoch 9/76\n",
      "49/49 [==============================] - 1s 11ms/step - loss: 0.0582 - accuracy: 0.9791 - val_loss: 0.0584 - val_accuracy: 0.9791\n",
      "Epoch 10/76\n",
      "49/49 [==============================] - 0s 9ms/step - loss: 0.0569 - accuracy: 0.9792 - val_loss: 0.0607 - val_accuracy: 0.9796\n",
      "Epoch 11/76\n",
      "49/49 [==============================] - 0s 9ms/step - loss: 0.0564 - accuracy: 0.9790 - val_loss: 0.0565 - val_accuracy: 0.9787\n",
      "Epoch 12/76\n",
      "49/49 [==============================] - 1s 11ms/step - loss: 0.0564 - accuracy: 0.9792 - val_loss: 0.0578 - val_accuracy: 0.9747\n",
      "Epoch 13/76\n",
      "49/49 [==============================] - 0s 9ms/step - loss: 0.0554 - accuracy: 0.9794 - val_loss: 0.0555 - val_accuracy: 0.9787\n",
      "Epoch 14/76\n",
      "49/49 [==============================] - 0s 9ms/step - loss: 0.0547 - accuracy: 0.9792 - val_loss: 0.0551 - val_accuracy: 0.9787\n",
      "Epoch 15/76\n",
      "49/49 [==============================] - 0s 9ms/step - loss: 0.0547 - accuracy: 0.9792 - val_loss: 0.0555 - val_accuracy: 0.9791\n",
      "Epoch 16/76\n",
      "49/49 [==============================] - 0s 9ms/step - loss: 0.0535 - accuracy: 0.9793 - val_loss: 0.0544 - val_accuracy: 0.9780\n",
      "Epoch 17/76\n",
      "49/49 [==============================] - 0s 10ms/step - loss: 0.0538 - accuracy: 0.9791 - val_loss: 0.0548 - val_accuracy: 0.9789\n",
      "Epoch 18/76\n",
      "49/49 [==============================] - 0s 9ms/step - loss: 0.0532 - accuracy: 0.9795 - val_loss: 0.0545 - val_accuracy: 0.9774\n",
      "Epoch 19/76\n",
      "49/49 [==============================] - 0s 9ms/step - loss: 0.0535 - accuracy: 0.9788 - val_loss: 0.0553 - val_accuracy: 0.9794\n",
      "Epoch 20/76\n",
      "49/49 [==============================] - 0s 9ms/step - loss: 0.0529 - accuracy: 0.9789 - val_loss: 0.0541 - val_accuracy: 0.9787\n",
      "Epoch 21/76\n",
      "49/49 [==============================] - 0s 9ms/step - loss: 0.0526 - accuracy: 0.9794 - val_loss: 0.0536 - val_accuracy: 0.9783\n",
      "Epoch 22/76\n",
      "49/49 [==============================] - 0s 9ms/step - loss: 0.0528 - accuracy: 0.9789 - val_loss: 0.0546 - val_accuracy: 0.9789\n",
      "Epoch 23/76\n",
      "49/49 [==============================] - 0s 10ms/step - loss: 0.0522 - accuracy: 0.9795 - val_loss: 0.0536 - val_accuracy: 0.9776\n",
      "Epoch 24/76\n",
      "49/49 [==============================] - 0s 10ms/step - loss: 0.0520 - accuracy: 0.9791 - val_loss: 0.0535 - val_accuracy: 0.9778\n",
      "Epoch 25/76\n",
      "49/49 [==============================] - 0s 9ms/step - loss: 0.0515 - accuracy: 0.9792 - val_loss: 0.0538 - val_accuracy: 0.9761\n",
      "Epoch 26/76\n",
      "49/49 [==============================] - 0s 9ms/step - loss: 0.0511 - accuracy: 0.9794 - val_loss: 0.0534 - val_accuracy: 0.9769\n",
      "Epoch 27/76\n",
      "49/49 [==============================] - 0s 10ms/step - loss: 0.0519 - accuracy: 0.9794 - val_loss: 0.0538 - val_accuracy: 0.9791\n",
      "Epoch 28/76\n",
      "49/49 [==============================] - 0s 9ms/step - loss: 0.0509 - accuracy: 0.9795 - val_loss: 0.0538 - val_accuracy: 0.9789\n",
      "Epoch 29/76\n",
      "49/49 [==============================] - 0s 10ms/step - loss: 0.0510 - accuracy: 0.9790 - val_loss: 0.0530 - val_accuracy: 0.9778\n",
      "Epoch 30/76\n",
      "49/49 [==============================] - 0s 10ms/step - loss: 0.0501 - accuracy: 0.9792 - val_loss: 0.0544 - val_accuracy: 0.9798\n",
      "Epoch 31/76\n",
      "49/49 [==============================] - 0s 9ms/step - loss: 0.0507 - accuracy: 0.9791 - val_loss: 0.0529 - val_accuracy: 0.9767\n",
      "Epoch 32/76\n",
      "49/49 [==============================] - 0s 9ms/step - loss: 0.0501 - accuracy: 0.9795 - val_loss: 0.0573 - val_accuracy: 0.9798\n",
      "Epoch 33/76\n",
      "49/49 [==============================] - 0s 10ms/step - loss: 0.0496 - accuracy: 0.9793 - val_loss: 0.0556 - val_accuracy: 0.9747\n",
      "Epoch 34/76\n",
      "49/49 [==============================] - 0s 10ms/step - loss: 0.0500 - accuracy: 0.9786 - val_loss: 0.0528 - val_accuracy: 0.9763\n",
      "Epoch 35/76\n",
      "49/49 [==============================] - 0s 8ms/step - loss: 0.0489 - accuracy: 0.9794 - val_loss: 0.0554 - val_accuracy: 0.9745\n",
      "Epoch 36/76\n",
      "49/49 [==============================] - 0s 8ms/step - loss: 0.0502 - accuracy: 0.9786 - val_loss: 0.0539 - val_accuracy: 0.9796\n",
      "Epoch 37/76\n",
      "49/49 [==============================] - 0s 8ms/step - loss: 0.0498 - accuracy: 0.9788 - val_loss: 0.0526 - val_accuracy: 0.9778\n",
      "Epoch 38/76\n",
      "49/49 [==============================] - 0s 8ms/step - loss: 0.0496 - accuracy: 0.9790 - val_loss: 0.0527 - val_accuracy: 0.9783\n",
      "Epoch 39/76\n",
      "49/49 [==============================] - 0s 9ms/step - loss: 0.0489 - accuracy: 0.9792 - val_loss: 0.0529 - val_accuracy: 0.9787\n",
      "Epoch 40/76\n",
      "49/49 [==============================] - 0s 8ms/step - loss: 0.0488 - accuracy: 0.9791 - val_loss: 0.0532 - val_accuracy: 0.9789\n",
      "Epoch 41/76\n",
      "49/49 [==============================] - 0s 10ms/step - loss: 0.0488 - accuracy: 0.9790 - val_loss: 0.0527 - val_accuracy: 0.9783\n",
      "Epoch 42/76\n",
      "49/49 [==============================] - 0s 9ms/step - loss: 0.0491 - accuracy: 0.9788 - val_loss: 0.0531 - val_accuracy: 0.9789\n",
      "Epoch 43/76\n",
      "49/49 [==============================] - 0s 10ms/step - loss: 0.0491 - accuracy: 0.9793 - val_loss: 0.0526 - val_accuracy: 0.9783\n",
      "Epoch 44/76\n",
      "49/49 [==============================] - 0s 8ms/step - loss: 0.0492 - accuracy: 0.9789 - val_loss: 0.0533 - val_accuracy: 0.9794\n",
      "Epoch 45/76\n",
      "49/49 [==============================] - 0s 10ms/step - loss: 0.0485 - accuracy: 0.9792 - val_loss: 0.0529 - val_accuracy: 0.9791\n",
      "Epoch 46/76\n",
      "49/49 [==============================] - 0s 10ms/step - loss: 0.0485 - accuracy: 0.9793 - val_loss: 0.0525 - val_accuracy: 0.9789\n",
      "Epoch 47/76\n",
      "49/49 [==============================] - 1s 11ms/step - loss: 0.0487 - accuracy: 0.9789 - val_loss: 0.0544 - val_accuracy: 0.9802\n",
      "Epoch 48/76\n",
      "49/49 [==============================] - 0s 10ms/step - loss: 0.0485 - accuracy: 0.9794 - val_loss: 0.0524 - val_accuracy: 0.9754\n",
      "Epoch 49/76\n",
      "49/49 [==============================] - 0s 9ms/step - loss: 0.0484 - accuracy: 0.9791 - val_loss: 0.0522 - val_accuracy: 0.9769\n",
      "Epoch 50/76\n",
      "49/49 [==============================] - 0s 9ms/step - loss: 0.0485 - accuracy: 0.9793 - val_loss: 0.0533 - val_accuracy: 0.9752\n",
      "Epoch 51/76\n",
      "49/49 [==============================] - 0s 9ms/step - loss: 0.0484 - accuracy: 0.9791 - val_loss: 0.0523 - val_accuracy: 0.9756\n",
      "Epoch 52/76\n",
      "49/49 [==============================] - 1s 10ms/step - loss: 0.0489 - accuracy: 0.9790 - val_loss: 0.0557 - val_accuracy: 0.9800\n",
      "Epoch 53/76\n",
      "49/49 [==============================] - 0s 10ms/step - loss: 0.0483 - accuracy: 0.9794 - val_loss: 0.0521 - val_accuracy: 0.9756\n",
      "Epoch 54/76\n",
      "49/49 [==============================] - 0s 9ms/step - loss: 0.0488 - accuracy: 0.9787 - val_loss: 0.0564 - val_accuracy: 0.9800\n",
      "Epoch 55/76\n",
      "49/49 [==============================] - 0s 9ms/step - loss: 0.0485 - accuracy: 0.9798 - val_loss: 0.0530 - val_accuracy: 0.9791\n",
      "Epoch 56/76\n",
      "49/49 [==============================] - 0s 10ms/step - loss: 0.0486 - accuracy: 0.9792 - val_loss: 0.0558 - val_accuracy: 0.9800\n",
      "Epoch 57/76\n",
      "49/49 [==============================] - 0s 9ms/step - loss: 0.0484 - accuracy: 0.9794 - val_loss: 0.0536 - val_accuracy: 0.9802\n",
      "Epoch 58/76\n",
      "49/49 [==============================] - 0s 9ms/step - loss: 0.0483 - accuracy: 0.9794 - val_loss: 0.0552 - val_accuracy: 0.9800\n",
      "Epoch 59/76\n"
     ]
    },
    {
     "name": "stdout",
     "output_type": "stream",
     "text": [
      "49/49 [==============================] - 0s 9ms/step - loss: 0.0482 - accuracy: 0.9792 - val_loss: 0.0569 - val_accuracy: 0.9798\n",
      "Epoch 60/76\n",
      "49/49 [==============================] - 0s 9ms/step - loss: 0.0481 - accuracy: 0.9791 - val_loss: 0.0522 - val_accuracy: 0.9780\n",
      "Epoch 61/76\n",
      "49/49 [==============================] - 0s 9ms/step - loss: 0.0482 - accuracy: 0.9793 - val_loss: 0.0526 - val_accuracy: 0.9789\n",
      "Epoch 62/76\n",
      "49/49 [==============================] - 0s 9ms/step - loss: 0.0480 - accuracy: 0.9795 - val_loss: 0.0520 - val_accuracy: 0.9772\n",
      "Epoch 63/76\n",
      "49/49 [==============================] - 0s 9ms/step - loss: 0.0483 - accuracy: 0.9791 - val_loss: 0.0546 - val_accuracy: 0.9800\n",
      "Epoch 64/76\n",
      "49/49 [==============================] - 0s 9ms/step - loss: 0.0481 - accuracy: 0.9796 - val_loss: 0.0546 - val_accuracy: 0.9800\n",
      "Epoch 65/76\n",
      "49/49 [==============================] - 0s 9ms/step - loss: 0.0487 - accuracy: 0.9794 - val_loss: 0.0553 - val_accuracy: 0.9800\n",
      "Epoch 66/76\n",
      "49/49 [==============================] - 0s 8ms/step - loss: 0.0480 - accuracy: 0.9791 - val_loss: 0.0517 - val_accuracy: 0.9789\n",
      "Epoch 67/76\n",
      "49/49 [==============================] - 0s 9ms/step - loss: 0.0477 - accuracy: 0.9795 - val_loss: 0.0516 - val_accuracy: 0.9763\n",
      "Epoch 68/76\n",
      "49/49 [==============================] - 0s 9ms/step - loss: 0.0477 - accuracy: 0.9791 - val_loss: 0.0518 - val_accuracy: 0.9791\n",
      "Epoch 69/76\n",
      "49/49 [==============================] - 0s 9ms/step - loss: 0.0480 - accuracy: 0.9795 - val_loss: 0.0528 - val_accuracy: 0.9796\n",
      "Epoch 70/76\n",
      "49/49 [==============================] - 0s 9ms/step - loss: 0.0479 - accuracy: 0.9791 - val_loss: 0.0555 - val_accuracy: 0.9800\n",
      "Epoch 71/76\n",
      "49/49 [==============================] - 0s 9ms/step - loss: 0.0481 - accuracy: 0.9793 - val_loss: 0.0537 - val_accuracy: 0.9805\n",
      "Epoch 72/76\n",
      "49/49 [==============================] - 0s 9ms/step - loss: 0.0480 - accuracy: 0.9795 - val_loss: 0.0547 - val_accuracy: 0.9800\n",
      "Epoch 73/76\n",
      "49/49 [==============================] - 0s 9ms/step - loss: 0.0476 - accuracy: 0.9794 - val_loss: 0.0519 - val_accuracy: 0.9789\n",
      "Epoch 74/76\n",
      "49/49 [==============================] - 0s 9ms/step - loss: 0.0479 - accuracy: 0.9794 - val_loss: 0.0517 - val_accuracy: 0.9765\n",
      "Epoch 75/76\n",
      "49/49 [==============================] - 0s 9ms/step - loss: 0.0475 - accuracy: 0.9799 - val_loss: 0.0526 - val_accuracy: 0.9794\n",
      "Epoch 76/76\n",
      "49/49 [==============================] - 0s 9ms/step - loss: 0.0481 - accuracy: 0.9794 - val_loss: 0.0519 - val_accuracy: 0.9752\n"
     ]
    },
    {
     "data": {
      "text/plain": [
       "<keras.callbacks.History at 0x1ceb65007c0>"
      ]
     },
     "execution_count": 23,
     "metadata": {},
     "output_type": "execute_result"
    }
   ],
   "source": [
    "# Fitting Neural Network\n",
    "def nn_cl_fun():\n",
    "    nn = Sequential()\n",
    "    nn.add(Dense(params_nn_['neurons'], input_dim=38, activation=params_nn_['activation']))\n",
    "    if params_nn_['normalization'] > 0.5:\n",
    "        nn.add(BatchNormalization())\n",
    "    for i in range(params_nn_['layers1']):\n",
    "        nn.add(Dense(params_nn_['neurons'], activation=params_nn_['activation']))\n",
    "    if params_nn_['dropout'] > 0.5:\n",
    "        nn.add(Dropout(params_nn_['dropout_rate'], seed=123))\n",
    "    for i in range(params_nn_['layers2']):\n",
    "        nn.add(Dense(params_nn_['neurons'], activation=params_nn_['activation']))\n",
    "    nn.add(Dense(1, activation='sigmoid'))\n",
    "    nn.compile(loss='binary_crossentropy', optimizer=params_nn_['optimizer'], metrics=['accuracy'])\n",
    "    return nn\n",
    "        \n",
    "es = EarlyStopping(monitor='accuracy', mode='max', verbose=0, patience=20)\n",
    "nn = KerasClassifier(build_fn=nn_cl_fun, epochs=params_nn_['epochs'], batch_size=params_nn_['batch_size'],\n",
    "                         verbose=0)\n",
    " \n",
    "nn.fit(X_train, Y_train, validation_data=(X_valid, Y_valid), verbose=1)"
   ]
  },
  {
   "cell_type": "code",
   "execution_count": 28,
   "id": "ab084596",
   "metadata": {
    "scrolled": true
   },
   "outputs": [
    {
     "name": "stdout",
     "output_type": "stream",
     "text": [
      "143/143 [==============================] - 0s 1ms/step\n",
      "              precision    recall  f1-score   support\n",
      "\n",
      " Non-Default       0.98      0.99      0.99      4190\n",
      "     Default       0.93      0.80      0.86       363\n",
      "\n",
      "    accuracy                           0.98      4553\n",
      "   macro avg       0.96      0.90      0.93      4553\n",
      "weighted avg       0.98      0.98      0.98      4553\n",
      "\n"
     ]
    }
   ],
   "source": [
    "Y_pred_2 = nn.predict_proba(X_test)[:,1]\n",
    "Y_pred_cat_2 = np.where(Y_pred_2 > 0.5, 1, 0)\n",
    "target_names = ['Non-Default', 'Default']\n",
    "print(classification_report(Y_test, Y_pred_cat_2, target_names=target_names))"
   ]
  },
  {
   "cell_type": "code",
   "execution_count": 29,
   "id": "747e812a",
   "metadata": {
    "scrolled": false
   },
   "outputs": [
    {
     "data": {
      "image/png": "[encoded data removed]",
      "text/plain": [
       "<Figure size 640x480 with 2 Axes>"
      ]
     },
     "metadata": {},
     "output_type": "display_data"
    }
   ],
   "source": [
    "cm_final_model = confusion_matrix(Y_test, Y_pred_cat_2)\n",
    "ax = sns.heatmap(cm_final_model, annot=True, annot_kws={\"size\": 10}, cmap='Blues', fmt=\"d\")\n",
    "ax.set_title('      Confusion Matrix - ANN - DF2\\n')\n",
    "ax.set_xlabel('\\nPredicted Values')\n",
    "ax.set_ylabel('Actual Values ');\n",
    "plt.show()"
   ]
  },
  {
   "cell_type": "code",
   "execution_count": 30,
   "id": "812d28cb",
   "metadata": {
    "scrolled": false
   },
   "outputs": [
    {
     "data": {
      "image/png": "[encoded data removed]",
      "text/plain": [
       "<Figure size 640x480 with 1 Axes>"
      ]
     },
     "metadata": {},
     "output_type": "display_data"
    }
   ],
   "source": [
    "fpr, tpr, thresholds = roc_curve(Y_test, Y_pred_2)\n",
    "plt.plot([0,1],[0,1],'k--')\n",
    "plt.plot(fpr,tpr, label='ANN')\n",
    "plt.xlabel('False Positive Rate (FPR)')\n",
    "plt.ylabel('True Positive Rate (TPR)')\n",
    "plt.title('ROC curve - ANN - DF2')\n",
    "plt.show()"
   ]
  },
  {
   "cell_type": "code",
   "execution_count": 31,
   "id": "42adb67c",
   "metadata": {},
   "outputs": [
    {
     "data": {
      "text/plain": [
       "0.9935034879057443"
      ]
     },
     "execution_count": 31,
     "metadata": {},
     "output_type": "execute_result"
    }
   ],
   "source": [
    "roc_auc_score(Y_test, Y_pred_2)"
   ]
  }
 ],
 "metadata": {
  "kernelspec": {
   "display_name": "Python 3 (ipykernel)",
   "language": "python",
   "name": "python3"
  },
  "language_info": {
   "codemirror_mode": {
    "name": "ipython",
    "version": 3
   },
   "file_extension": ".py",
   "mimetype": "text/x-python",
   "name": "python",
   "nbconvert_exporter": "python",
   "pygments_lexer": "ipython3",
   "version": "3.9.12"
  }
 },
 "nbformat": 4,
 "nbformat_minor": 5
}
